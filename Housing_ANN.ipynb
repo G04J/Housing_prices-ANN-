{
 "cells": [
  {
   "cell_type": "markdown",
   "id": "e6c930eb-4f59-418d-9f02-204f133c6daa",
   "metadata": {},
   "source": [
    "# Importing Libraries"
   ]
  },
  {
   "cell_type": "code",
   "execution_count": 2,
   "id": "dfc1e29d-66ba-43de-b4ac-8bc98f202b97",
   "metadata": {},
   "outputs": [],
   "source": [
    "import pandas as pd\n",
    "import matplotlib.pyplot as plt\n",
    "import seaborn as sns"
   ]
  },
  {
   "cell_type": "markdown",
   "id": "439570a1-1e11-4677-90b2-0d962ce80d05",
   "metadata": {},
   "source": [
    "# Reading Dataset"
   ]
  },
  {
   "cell_type": "code",
   "execution_count": 4,
   "id": "870296ee-603d-4353-bc42-051d1d08a63b",
   "metadata": {},
   "outputs": [],
   "source": [
    "df = pd.read_csv('housing.csv')"
   ]
  },
  {
   "cell_type": "markdown",
   "id": "79b45211-bb48-4107-9f29-68197a725571",
   "metadata": {},
   "source": [
    "# EDA (Exploratory Data Analysis)"
   ]
  },
  {
   "cell_type": "code",
   "execution_count": 6,
   "id": "c1e83f68-42db-4361-815d-31fb24079f47",
   "metadata": {},
   "outputs": [
    {
     "data": {
      "text/plain": [
       "(5000, 7)"
      ]
     },
     "execution_count": 6,
     "metadata": {},
     "output_type": "execute_result"
    }
   ],
   "source": [
    "df.shape"
   ]
  },
  {
   "cell_type": "code",
   "execution_count": 7,
   "id": "153ad4b4-3ebb-4578-a797-8dc39a7b924b",
   "metadata": {},
   "outputs": [
    {
     "data": {
      "text/html": [
       "<div>\n",
       "<style scoped>\n",
       "    .dataframe tbody tr th:only-of-type {\n",
       "        vertical-align: middle;\n",
       "    }\n",
       "\n",
       "    .dataframe tbody tr th {\n",
       "        vertical-align: top;\n",
       "    }\n",
       "\n",
       "    .dataframe thead th {\n",
       "        text-align: right;\n",
       "    }\n",
       "</style>\n",
       "<table border=\"1\" class=\"dataframe\">\n",
       "  <thead>\n",
       "    <tr style=\"text-align: right;\">\n",
       "      <th></th>\n",
       "      <th>Avg. Area Income</th>\n",
       "      <th>Avg. Area House Age</th>\n",
       "      <th>Avg. Area Number of Rooms</th>\n",
       "      <th>Avg. Area Number of Bedrooms</th>\n",
       "      <th>Area Population</th>\n",
       "      <th>Price</th>\n",
       "      <th>Address</th>\n",
       "    </tr>\n",
       "  </thead>\n",
       "  <tbody>\n",
       "    <tr>\n",
       "      <th>0</th>\n",
       "      <td>79545.458574</td>\n",
       "      <td>5.682861</td>\n",
       "      <td>7.009188</td>\n",
       "      <td>4.09</td>\n",
       "      <td>23086.800503</td>\n",
       "      <td>1.059034e+06</td>\n",
       "      <td>208 Michael Ferry Apt. 674\\nLaurabury, NE 3701...</td>\n",
       "    </tr>\n",
       "    <tr>\n",
       "      <th>1</th>\n",
       "      <td>79248.642455</td>\n",
       "      <td>6.002900</td>\n",
       "      <td>6.730821</td>\n",
       "      <td>3.09</td>\n",
       "      <td>40173.072174</td>\n",
       "      <td>1.505891e+06</td>\n",
       "      <td>188 Johnson Views Suite 079\\nLake Kathleen, CA...</td>\n",
       "    </tr>\n",
       "    <tr>\n",
       "      <th>2</th>\n",
       "      <td>61287.067179</td>\n",
       "      <td>5.865890</td>\n",
       "      <td>8.512727</td>\n",
       "      <td>5.13</td>\n",
       "      <td>36882.159400</td>\n",
       "      <td>1.058988e+06</td>\n",
       "      <td>9127 Elizabeth Stravenue\\nDanieltown, WI 06482...</td>\n",
       "    </tr>\n",
       "    <tr>\n",
       "      <th>3</th>\n",
       "      <td>63345.240046</td>\n",
       "      <td>7.188236</td>\n",
       "      <td>5.586729</td>\n",
       "      <td>3.26</td>\n",
       "      <td>34310.242831</td>\n",
       "      <td>1.260617e+06</td>\n",
       "      <td>USS Barnett\\nFPO AP 44820</td>\n",
       "    </tr>\n",
       "    <tr>\n",
       "      <th>4</th>\n",
       "      <td>59982.197226</td>\n",
       "      <td>5.040555</td>\n",
       "      <td>7.839388</td>\n",
       "      <td>4.23</td>\n",
       "      <td>26354.109472</td>\n",
       "      <td>6.309435e+05</td>\n",
       "      <td>USNS Raymond\\nFPO AE 09386</td>\n",
       "    </tr>\n",
       "  </tbody>\n",
       "</table>\n",
       "</div>"
      ],
      "text/plain": [
       "   Avg. Area Income  Avg. Area House Age  Avg. Area Number of Rooms  \\\n",
       "0      79545.458574             5.682861                   7.009188   \n",
       "1      79248.642455             6.002900                   6.730821   \n",
       "2      61287.067179             5.865890                   8.512727   \n",
       "3      63345.240046             7.188236                   5.586729   \n",
       "4      59982.197226             5.040555                   7.839388   \n",
       "\n",
       "   Avg. Area Number of Bedrooms  Area Population         Price  \\\n",
       "0                          4.09     23086.800503  1.059034e+06   \n",
       "1                          3.09     40173.072174  1.505891e+06   \n",
       "2                          5.13     36882.159400  1.058988e+06   \n",
       "3                          3.26     34310.242831  1.260617e+06   \n",
       "4                          4.23     26354.109472  6.309435e+05   \n",
       "\n",
       "                                             Address  \n",
       "0  208 Michael Ferry Apt. 674\\nLaurabury, NE 3701...  \n",
       "1  188 Johnson Views Suite 079\\nLake Kathleen, CA...  \n",
       "2  9127 Elizabeth Stravenue\\nDanieltown, WI 06482...  \n",
       "3                          USS Barnett\\nFPO AP 44820  \n",
       "4                         USNS Raymond\\nFPO AE 09386  "
      ]
     },
     "execution_count": 7,
     "metadata": {},
     "output_type": "execute_result"
    }
   ],
   "source": [
    "df.head()"
   ]
  },
  {
   "cell_type": "code",
   "execution_count": 8,
   "id": "14336b75-bdbb-496f-aebf-4d62f35756a6",
   "metadata": {},
   "outputs": [
    {
     "data": {
      "text/html": [
       "<div>\n",
       "<style scoped>\n",
       "    .dataframe tbody tr th:only-of-type {\n",
       "        vertical-align: middle;\n",
       "    }\n",
       "\n",
       "    .dataframe tbody tr th {\n",
       "        vertical-align: top;\n",
       "    }\n",
       "\n",
       "    .dataframe thead th {\n",
       "        text-align: right;\n",
       "    }\n",
       "</style>\n",
       "<table border=\"1\" class=\"dataframe\">\n",
       "  <thead>\n",
       "    <tr style=\"text-align: right;\">\n",
       "      <th></th>\n",
       "      <th>Avg. Area Income</th>\n",
       "      <th>Avg. Area House Age</th>\n",
       "      <th>Avg. Area Number of Rooms</th>\n",
       "      <th>Avg. Area Number of Bedrooms</th>\n",
       "      <th>Area Population</th>\n",
       "      <th>Price</th>\n",
       "      <th>Address</th>\n",
       "    </tr>\n",
       "  </thead>\n",
       "  <tbody>\n",
       "    <tr>\n",
       "      <th>4995</th>\n",
       "      <td>60567.944140</td>\n",
       "      <td>7.830362</td>\n",
       "      <td>6.137356</td>\n",
       "      <td>3.46</td>\n",
       "      <td>22837.361035</td>\n",
       "      <td>1.060194e+06</td>\n",
       "      <td>USNS Williams\\nFPO AP 30153-7653</td>\n",
       "    </tr>\n",
       "    <tr>\n",
       "      <th>4996</th>\n",
       "      <td>78491.275435</td>\n",
       "      <td>6.999135</td>\n",
       "      <td>6.576763</td>\n",
       "      <td>4.02</td>\n",
       "      <td>25616.115489</td>\n",
       "      <td>1.482618e+06</td>\n",
       "      <td>PSC 9258, Box 8489\\nAPO AA 42991-3352</td>\n",
       "    </tr>\n",
       "    <tr>\n",
       "      <th>4997</th>\n",
       "      <td>63390.686886</td>\n",
       "      <td>7.250591</td>\n",
       "      <td>4.805081</td>\n",
       "      <td>2.13</td>\n",
       "      <td>33266.145490</td>\n",
       "      <td>1.030730e+06</td>\n",
       "      <td>4215 Tracy Garden Suite 076\\nJoshualand, VA 01...</td>\n",
       "    </tr>\n",
       "    <tr>\n",
       "      <th>4998</th>\n",
       "      <td>68001.331235</td>\n",
       "      <td>5.534388</td>\n",
       "      <td>7.130144</td>\n",
       "      <td>5.44</td>\n",
       "      <td>42625.620156</td>\n",
       "      <td>1.198657e+06</td>\n",
       "      <td>USS Wallace\\nFPO AE 73316</td>\n",
       "    </tr>\n",
       "    <tr>\n",
       "      <th>4999</th>\n",
       "      <td>65510.581804</td>\n",
       "      <td>5.992305</td>\n",
       "      <td>6.792336</td>\n",
       "      <td>4.07</td>\n",
       "      <td>46501.283803</td>\n",
       "      <td>1.298950e+06</td>\n",
       "      <td>37778 George Ridges Apt. 509\\nEast Holly, NV 2...</td>\n",
       "    </tr>\n",
       "  </tbody>\n",
       "</table>\n",
       "</div>"
      ],
      "text/plain": [
       "      Avg. Area Income  Avg. Area House Age  Avg. Area Number of Rooms  \\\n",
       "4995      60567.944140             7.830362                   6.137356   \n",
       "4996      78491.275435             6.999135                   6.576763   \n",
       "4997      63390.686886             7.250591                   4.805081   \n",
       "4998      68001.331235             5.534388                   7.130144   \n",
       "4999      65510.581804             5.992305                   6.792336   \n",
       "\n",
       "      Avg. Area Number of Bedrooms  Area Population         Price  \\\n",
       "4995                          3.46     22837.361035  1.060194e+06   \n",
       "4996                          4.02     25616.115489  1.482618e+06   \n",
       "4997                          2.13     33266.145490  1.030730e+06   \n",
       "4998                          5.44     42625.620156  1.198657e+06   \n",
       "4999                          4.07     46501.283803  1.298950e+06   \n",
       "\n",
       "                                                Address  \n",
       "4995                   USNS Williams\\nFPO AP 30153-7653  \n",
       "4996              PSC 9258, Box 8489\\nAPO AA 42991-3352  \n",
       "4997  4215 Tracy Garden Suite 076\\nJoshualand, VA 01...  \n",
       "4998                          USS Wallace\\nFPO AE 73316  \n",
       "4999  37778 George Ridges Apt. 509\\nEast Holly, NV 2...  "
      ]
     },
     "execution_count": 8,
     "metadata": {},
     "output_type": "execute_result"
    }
   ],
   "source": [
    "df.tail()"
   ]
  },
  {
   "cell_type": "code",
   "execution_count": 9,
   "id": "8f3b7b40-5728-440e-bf15-5ba3364fbbbc",
   "metadata": {},
   "outputs": [
    {
     "name": "stdout",
     "output_type": "stream",
     "text": [
      "<class 'pandas.core.frame.DataFrame'>\n",
      "RangeIndex: 5000 entries, 0 to 4999\n",
      "Data columns (total 7 columns):\n",
      " #   Column                        Non-Null Count  Dtype  \n",
      "---  ------                        --------------  -----  \n",
      " 0   Avg. Area Income              5000 non-null   float64\n",
      " 1   Avg. Area House Age           5000 non-null   float64\n",
      " 2   Avg. Area Number of Rooms     5000 non-null   float64\n",
      " 3   Avg. Area Number of Bedrooms  5000 non-null   float64\n",
      " 4   Area Population               5000 non-null   float64\n",
      " 5   Price                         5000 non-null   float64\n",
      " 6   Address                       5000 non-null   object \n",
      "dtypes: float64(6), object(1)\n",
      "memory usage: 273.6+ KB\n"
     ]
    }
   ],
   "source": [
    "df.info()"
   ]
  },
  {
   "cell_type": "code",
   "execution_count": 10,
   "id": "59767262-0dcd-4b70-8c6f-a0c47d0003f4",
   "metadata": {},
   "outputs": [
    {
     "data": {
      "text/html": [
       "<div>\n",
       "<style scoped>\n",
       "    .dataframe tbody tr th:only-of-type {\n",
       "        vertical-align: middle;\n",
       "    }\n",
       "\n",
       "    .dataframe tbody tr th {\n",
       "        vertical-align: top;\n",
       "    }\n",
       "\n",
       "    .dataframe thead th {\n",
       "        text-align: right;\n",
       "    }\n",
       "</style>\n",
       "<table border=\"1\" class=\"dataframe\">\n",
       "  <thead>\n",
       "    <tr style=\"text-align: right;\">\n",
       "      <th></th>\n",
       "      <th>Avg. Area Income</th>\n",
       "      <th>Avg. Area House Age</th>\n",
       "      <th>Avg. Area Number of Rooms</th>\n",
       "      <th>Avg. Area Number of Bedrooms</th>\n",
       "      <th>Area Population</th>\n",
       "      <th>Price</th>\n",
       "    </tr>\n",
       "  </thead>\n",
       "  <tbody>\n",
       "    <tr>\n",
       "      <th>count</th>\n",
       "      <td>5000.000000</td>\n",
       "      <td>5000.000000</td>\n",
       "      <td>5000.000000</td>\n",
       "      <td>5000.000000</td>\n",
       "      <td>5000.000000</td>\n",
       "      <td>5.000000e+03</td>\n",
       "    </tr>\n",
       "    <tr>\n",
       "      <th>mean</th>\n",
       "      <td>68583.108984</td>\n",
       "      <td>5.977222</td>\n",
       "      <td>6.987792</td>\n",
       "      <td>3.981330</td>\n",
       "      <td>36163.516039</td>\n",
       "      <td>1.232073e+06</td>\n",
       "    </tr>\n",
       "    <tr>\n",
       "      <th>std</th>\n",
       "      <td>10657.991214</td>\n",
       "      <td>0.991456</td>\n",
       "      <td>1.005833</td>\n",
       "      <td>1.234137</td>\n",
       "      <td>9925.650114</td>\n",
       "      <td>3.531176e+05</td>\n",
       "    </tr>\n",
       "    <tr>\n",
       "      <th>min</th>\n",
       "      <td>17796.631190</td>\n",
       "      <td>2.644304</td>\n",
       "      <td>3.236194</td>\n",
       "      <td>2.000000</td>\n",
       "      <td>172.610686</td>\n",
       "      <td>1.593866e+04</td>\n",
       "    </tr>\n",
       "    <tr>\n",
       "      <th>25%</th>\n",
       "      <td>61480.562388</td>\n",
       "      <td>5.322283</td>\n",
       "      <td>6.299250</td>\n",
       "      <td>3.140000</td>\n",
       "      <td>29403.928702</td>\n",
       "      <td>9.975771e+05</td>\n",
       "    </tr>\n",
       "    <tr>\n",
       "      <th>50%</th>\n",
       "      <td>68804.286404</td>\n",
       "      <td>5.970429</td>\n",
       "      <td>7.002902</td>\n",
       "      <td>4.050000</td>\n",
       "      <td>36199.406689</td>\n",
       "      <td>1.232669e+06</td>\n",
       "    </tr>\n",
       "    <tr>\n",
       "      <th>75%</th>\n",
       "      <td>75783.338666</td>\n",
       "      <td>6.650808</td>\n",
       "      <td>7.665871</td>\n",
       "      <td>4.490000</td>\n",
       "      <td>42861.290769</td>\n",
       "      <td>1.471210e+06</td>\n",
       "    </tr>\n",
       "    <tr>\n",
       "      <th>max</th>\n",
       "      <td>107701.748378</td>\n",
       "      <td>9.519088</td>\n",
       "      <td>10.759588</td>\n",
       "      <td>6.500000</td>\n",
       "      <td>69621.713378</td>\n",
       "      <td>2.469066e+06</td>\n",
       "    </tr>\n",
       "  </tbody>\n",
       "</table>\n",
       "</div>"
      ],
      "text/plain": [
       "       Avg. Area Income  Avg. Area House Age  Avg. Area Number of Rooms  \\\n",
       "count       5000.000000          5000.000000                5000.000000   \n",
       "mean       68583.108984             5.977222                   6.987792   \n",
       "std        10657.991214             0.991456                   1.005833   \n",
       "min        17796.631190             2.644304                   3.236194   \n",
       "25%        61480.562388             5.322283                   6.299250   \n",
       "50%        68804.286404             5.970429                   7.002902   \n",
       "75%        75783.338666             6.650808                   7.665871   \n",
       "max       107701.748378             9.519088                  10.759588   \n",
       "\n",
       "       Avg. Area Number of Bedrooms  Area Population         Price  \n",
       "count                   5000.000000      5000.000000  5.000000e+03  \n",
       "mean                       3.981330     36163.516039  1.232073e+06  \n",
       "std                        1.234137      9925.650114  3.531176e+05  \n",
       "min                        2.000000       172.610686  1.593866e+04  \n",
       "25%                        3.140000     29403.928702  9.975771e+05  \n",
       "50%                        4.050000     36199.406689  1.232669e+06  \n",
       "75%                        4.490000     42861.290769  1.471210e+06  \n",
       "max                        6.500000     69621.713378  2.469066e+06  "
      ]
     },
     "execution_count": 10,
     "metadata": {},
     "output_type": "execute_result"
    }
   ],
   "source": [
    "df.describe()"
   ]
  },
  {
   "cell_type": "code",
   "execution_count": 11,
   "id": "004bf5c5-d6ca-44aa-af86-e86feb871abe",
   "metadata": {},
   "outputs": [
    {
     "data": {
      "text/plain": [
       "'208 Michael Ferry Apt. 674\\nLaurabury, NE 37010-5101'"
      ]
     },
     "execution_count": 11,
     "metadata": {},
     "output_type": "execute_result"
    }
   ],
   "source": [
    "df['Address'][0]"
   ]
  },
  {
   "cell_type": "markdown",
   "id": "84e7376d-0edb-4fae-bf22-d924044ed0af",
   "metadata": {},
   "source": [
    "# Pre-processing Data"
   ]
  },
  {
   "cell_type": "code",
   "execution_count": 13,
   "id": "a9847ac3-a9c5-4081-aacf-30916a99343c",
   "metadata": {
    "scrolled": true,
    "tags": []
   },
   "outputs": [
    {
     "name": "stdout",
     "output_type": "stream",
     "text": [
      "['Laurabury, NE 37010-5101', 'Lake Kathleen, CA 48958', 'Danieltown, WI 06482-3489', 'FPO AP 44820', 'FPO AE 09386', 'Tracyport, KS 16077', 'Nguyenburgh, CO 20247', 'Lake William, TN 17778-6483', 'FPO AA 20957', 'DPO AE 97025', 'Janetbury, NM 26854', 'Davisborough, PW 78603', 'Huffmanland, NE 52457', 'North John, AR 26532-5136', 'APO AP 08302', 'North Carriemouth, NM 84617', 'Nicholsborough, HI 44161-1887', 'New Gregoryshire, PW 54755', 'DPO AE 71255', 'Stephentown, ME 36952-4733', 'Thomashaven, HI 87941-5197', 'FPO AP 85833', 'Port Sara, TN 24541-2855', 'Lake Elizabeth, IN 90622-0804', 'West Perry, MI 03169-5806', 'Lewisfort, DE 61227', 'Jacksonhaven, AZ 72798', 'West Cynthia, MA 89075-2814', 'Susanshire, MN 22365', 'Lake Robertfurt, AL 61811-3832', 'Courtneyfort, NY 93065-7224', 'Pierceview, NV 62614-9110', 'Lake Emily, VA 39465-6041', 'Emilyville, ID 27442', 'Taylorborough, OK 87142-6766', 'Morrishaven, NH 66937-4811', 'Port Raymondville, MO 63585', 'East Judy, WV 73336', 'DPO AP 70848', 'Lake Martha, WY 34611-6127', 'Loriport, MH 72956', 'Lake Kevin, UT 27155', 'North Victoria, WV 99370', 'Davidsonstad, ID 34638-9802', 'West Deborah, SD 49213', 'Brooketown, PW 67485-0764', 'Devonfurt, NE 33104-8027', 'DPO AP 04678', 'Anthonybury, CT 17971', 'New Richard, AK 99996-7554', 'Mooneyborough, WA 19656', 'Danielsside, RI 70370', 'West John, NJ 57690', 'South Julieton, PW 02759-4964', 'Scotttown, NM 69143', 'Lake Jacqueline, NH 95266', 'Suzannefurt, IN 00654-8754', 'Jamesport, KY 70207-2955', 'Hohaven, NC 42699', 'North James, IA 36544', 'New Roberttown, MN 08925-1536', 'Thompsonside, VT 22884', 'APO AA 58696-1278', 'Mcculloughfurt, FM 70847', 'South Kevin, KY 20712-5282', 'West Calebberg, KS 76460', 'Maryborough, WY 66971', 'Brownborough, DE 57196-3319', 'Craigstad, AK 28807-8602', 'South Jesse, ND 60570-1483', 'Meyersbury, LA 63237', 'South Kyle, KS 37301', 'East Charlotteview, DE 69073-3104', 'APO AP 45454', 'Christopherborough, KS 20719', 'FPO AA 13237-3887', 'Ethanbury, NY 07783', 'DPO AP 49517', 'East Donald, CT 91882', 'Port Reginaland, MN 06152-7205', 'Royshire, WI 85782-2398', 'New Tommy, MP 86130-3426', 'Terryburgh, CA 31572-1304', 'Shermanchester, KY 56950-5684', 'DPO AE 92239', 'Adamsview, OR 44424', 'Port Kevinbury, OR 86759', 'Pattonside, TX 98415', 'Danielmouth, ME 30791', 'Cordovabury, ID 36688', 'North Kellytown, DC 30864', 'East Danielle, OR 53708', 'Port Michaelberg, PW 94284-9448', 'East Christianside, PR 72679-9159', 'West Craig, MT 78649', 'Elizabethland, PW 17767-2884', 'Jessicastad, UT 25190', 'Acostahaven, AS 62753-6637', 'West Andreaton, SD 69568-7005', 'Bakershire, PR 49599', 'North Sharonfurt, OH 67836-4969', 'New Debra, VA 61246', 'Samanthaview, PR 87811', 'DPO AP 68816-2990', 'Nathanielview, NC 72093-8287', 'DPO AE 41177-0399', 'Johnshire, KS 50389', 'East Troy, MS 43910', 'New Dennis, IL 53971', 'Johnmouth, NH 39983', 'Kathleenmouth, ME 43022-3191', 'Mooreside, MH 20945-2825', 'Maxwellmouth, DE 26176', 'Jacksonborough, NE 46696-1788', 'FPO AE 12326', 'South Michellemouth, VI 62800', 'Kaitlinland, MS 49150-0243', 'West Jasonview, CT 93021', 'New Candice, MN 40661-8809', 'East Catherine, NH 18346', 'Port Jennyside, CA 38546-6307', 'New Kevin, GA 98179', 'Matthewton, ID 71131-3139', 'Jesusfurt, OK 73052-4985', 'APO AA 33741', 'West Charlottefurt, PA 00463', 'Wilsonview, MT 31615', 'East Brittany, MI 26733', 'Aliciaside, NV 37124-6408', 'Brendaberg, MA 55188-7972', 'Jamesshire, WA 56754', 'Kaiserville, RI 24445', 'Port Keithmouth, VT 62207-0408', 'Huntland, KS 57002-5552', 'Port Tinashire, DC 13101', 'New Shannon, NJ 75829-8040', 'West Lauraberg, MP 47353-3682', 'West Kimberlyberg, CT 49785-3758', 'West Bryan, MD 95291-3904', 'Diaztown, VT 79978', 'North Nicholasport, CO 32392-1208', 'Lake Brookebury, NV 30264', 'North Jessica, ID 13412', 'New Michael, RI 47524-7511', 'APO AP 50576', 'Wolfeton, WY 86565-5079', 'Johnmouth, PA 69763', 'Clinefurt, WI 04078-6179', 'West Karenmouth, DC 61561-8593', 'FPO AE 29193', 'South Daniel, AS 09326', 'Kariview, NY 37073-8343', 'Natalieborough, SC 99093-8399', 'West Matthew, GU 49340', 'North Audreymouth, TX 02395', 'West Larryborough, WV 11517', 'East Shelbystad, HI 23326', 'North Johnside, NC 01211', 'North Dakotashire, PA 99619-0890', 'South Elizabethfort, CO 13304-1647', 'South Thomasland, RI 09631-6361', 'North William, MN 71601-6188', 'South Fred, OR 64217', 'South Cynthia, SC 89264', 'West Ann, MI 89447-0160', 'North Robinton, FM 43014', 'APO AP 28726-5123', 'Sarahville, NM 19973', 'Miguelmouth, NY 06408', 'Barkerfort, WY 52781', 'Nicoleshire, MO 83183-5326', 'Kelleyfurt, LA 49990-9626', 'Angelabury, MI 68188-8699', 'East Angelicastad, PR 36295-7649', 'New Crystalport, AZ 33060', 'East Vanessabury, OR 85375-7861', 'Williamton, GU 79243', 'North Haley, AK 18534', 'North Christianhaven, TX 95259', 'APO AA 44610-4655', 'Lake Hollystad, CO 20067', 'Stephaniehaven, NY 78577', 'East Sarahfort, WI 02969', 'East Brianfort, AK 51236-0093', 'APO AP 55563-1953', 'New Melissabury, MN 22338', 'West John, KY 54923', 'DPO AP 76779-7624', 'South Reneeville, VI 91892', 'South Christineton, CO 76227', 'East Gina, PA 98785-6132', 'North Richardstad, ME 14629-9980', 'Stevenfurt, FM 70548', 'East Carolmouth, SC 73414', 'FPO AE 57606-0743', 'Richardsonfort, MA 22267', 'Lake Todd, HI 08110', 'Port Brenda, SC 59596-5906', 'West Jessica, MT 23902', 'Jacquelinefurt, MH 08716-8228', 'West Melissa, PW 59364', 'FPO AA 90003', 'Nicoleside, WV 73615-4795', 'Port Tammy, GA 56924-1868', 'Davidhaven, OR 04793', 'Mccoyburgh, PA 32814', 'West Elizabeth, MI 33061-9433', 'New Melissa, MO 19787', 'DPO AA 78774-2982', 'West John, KY 70976', 'Port John, VI 73473', 'Madisonmouth, KY 99033', 'South Elizabeth, VT 29143-4442', 'South Kenneth, CA 86457-1211', 'Randallberg, NH 17910-5241', 'Horneshire, MA 35281-8110', 'New Stephanie, MS 56356', 'Billymouth, AZ 48958', 'New Christopherview, AZ 15138', 'Matthewville, MI 08613', 'South Krystalchester, MP 47720', 'Cardenasmouth, IN 87042-1285', 'Williamsstad, OK 15934-8122', 'Susanshire, NY 67746-2473', 'Patrickhaven, DC 02945-8988', 'Dawsonhaven, MA 21219-3496', 'Shafferberg, MN 77619-4214', 'Lake Dawnborough, DC 86197-4191', 'West Stephanie, TN 55360', 'Kimshire, AR 37353-5106', 'East Megan, GA 08456-4696', 'DPO AE 40544', 'Knappview, CA 70608-7504', 'North Scott, IA 81431', 'East Wendy, ID 51813', 'Port Melaniehaven, WA 60324-0399', 'East Valeriefurt, CO 64441', 'Port Carl, ID 35292-9269', 'North Ericstad, IA 78774-8363', 'DPO AE 13073', 'New Cynthia, MD 73729-5878', 'Lisaland, GA 31515-2260', 'West Shannonland, WI 30751', 'New Karinaton, HI 01691-9923', 'Lake Kellytown, NJ 74310', 'South Amandahaven, TN 78068', 'West Brittneyburgh, ID 36371-1622', 'Zacharybury, KS 87707-6205', 'Katherinemouth, NE 81147-6595', 'Williamburgh, DE 67265', 'Fergusonborough, LA 87592-4342', 'Danielfurt, MH 28095', 'South Chelseatown, CO 28752', 'East Ritaside, MD 10967', 'East Nicoleland, OR 67363', 'Christopherberg, MP 90562', 'South Christopherhaven, AZ 87521', 'Danielburgh, CO 09090', 'East Patriciaburgh, GA 95388', 'West Nicole, OR 03658-3559', 'Kleinmouth, NV 19751-3095', 'Gallagherborough, GA 48395', 'Ericaview, MP 60784', 'Fernandezborough, GA 02514', 'New Stevenmouth, DE 67121', 'Lake Michellestad, FL 92096-6812', 'East Mark, NY 86626-3319', 'West Diane, ME 60200-7803', 'Pamelaland, AS 20202-1133', 'North Heatherhaven, ND 10371', 'Michaelland, OK 69198', 'West Laurieport, ND 69617', 'Michelleville, AL 07048-6472', 'Lisaport, CT 43572', 'DPO AE 73770', 'Cathyborough, MN 30306', 'Tranmouth, MP 59378-9231', 'Sarahchester, LA 70074-3596', 'Lake Todd, WV 65286', 'South Harry, ME 21119', 'East Lisa, ME 83883', 'Cassandrafort, RI 90064-6234', 'Lake Chelsea, AS 18304-4644', 'North Roberttown, UT 52401-4300', 'Melissaborough, TX 51087-6056', 'Wilsonland, FM 77249-8036', 'Tranchester, TX 45052', 'Kristaport, OR 79397-4419', 'Lake Christophershire, CA 88567', 'DPO AA 76733', 'Hernandezton, VI 53808', 'Roberthaven, OK 57313', 'Lake Donald, ND 18581', 'Mariemouth, TN 60875', 'Longport, VT 28226', 'Lake Felicia, OK 96739-7550', 'New Randy, RI 27359-4665', 'Davidfort, PR 76020', 'West Adammouth, NJ 07199', 'Port Juliaburgh, DE 80081', 'Porterport, NJ 82686-8071', 'New Angiefort, DE 15768-7899', 'Sotoburgh, NJ 15816-5656', 'North Robertoton, FL 87877', 'Yoderburgh, NH 42375-8927', 'Lake Ellen, KY 06268', 'East Vincentland, NV 30237', 'North Jacobbury, ID 07463', 'Charlotteburgh, CO 82148-4460', 'East Laura, UT 81039', 'Port Marymouth, VT 17881', 'West Michelleton, AS 48620', 'Ortizton, WY 09795', 'North Michaelbury, UT 27451-2671', 'East James, VT 90132', 'FPO AE 40375', 'Mezamouth, MP 58250', 'East Loriside, DC 16819-7638', 'Antoniotown, CO 92048', 'North Lukechester, PA 24710', 'Brandonville, DE 25191-2184', 'South Michelleside, NE 62469-4467', 'Daviesstad, MH 60772', 'West Kimberlyburgh, RI 99528', 'East Ryan, RI 32244-3823', 'Lake Leonard, SC 34290-2341', 'Jamesborough, HI 72801-0033', 'Lake Ashleyville, WY 32703-3550', 'New Kimberly, ND 49455', 'New Annefort, KS 04537', 'New Aaronberg, MD 57319-9128', 'Lake Alejandrochester, MO 76400-5583', 'Stephanieburgh, NM 67091-0155', 'Elizabethberg, WA 74545', 'West Joshuafort, ID 09690-7341', 'North Angela, IL 06000', 'FPO AP 49097', 'Robertside, NC 16903', 'West Shelbyshire, MN 47834', 'DPO AP 42418-5393', 'West Michael, KS 02710', 'Mcdonaldville, VT 76937', 'Lake Julieborough, FL 94486', 'Jimenezview, ID 13223-8250', 'Ryanberg, OH 51245', 'North Bernardbury, IA 84600', 'DPO AE 80269', 'Amyview, NH 15629-9831', 'Alexandraport, MN 57727', 'Ericstad, SD 18478', 'West Erika, MO 03932-3322', 'Garciamouth, AK 75136', 'Smithhaven, WA 19630', 'West Stephanie, OH 49110-6029', 'East Tracy, VT 49709-4496', 'West Lisahaven, ND 55466-3035', 'New Susan, AR 48038', 'DPO AP 03939', 'Justinborough, KY 10998-7603', 'Griffithside, OR 90674', 'New Aimeemouth, MH 31261', 'DPO AE 13371-5663', 'North Connieside, TN 84541-4719', 'Staceybury, OK 75939', 'Elizabethfort, OR 35556-5686', 'Kelseyview, WY 57348-0308', 'Port Mark, MA 66518-9630', 'South Angela, OH 93823-2369', 'Mccannborough, FL 87366', 'FPO AA 55365-5477', 'Arianaton, TN 06641', 'Princechester, PW 94622-8419', 'Christensenland, NV 93801-8912', 'Michaelbury, IN 40415', 'West Rachaelville, MH 17135-7024', 'South Amanda, ME 03675-4416', 'South Brendaborough, OR 37626', 'Rileystad, WY 26189', 'FPO AP 37680-7514', 'South Misty, PW 59633-0548', 'West Sherryburgh, NV 03282', 'Mccartytown, AL 15250-4289', 'North Larryborough, AR 08957', 'Sarahburgh, WY 35157-7341', 'Grantland, FM 70532', 'Lindseyville, NV 06256-8392', 'FPO AP 95931-9404', 'Jacobstad, ND 61608', 'APO AA 30380-2875', 'Benderview, KS 44342', 'North Mandytown, VT 93457', 'Lake Aaron, UT 10919', 'Combsside, KY 24257-6372', 'New Brettport, WI 37004-4215', 'Lake Michael, WI 24423', 'Travisshire, MI 61690-5478', 'Rodneyborough, NJ 18874-5386', 'Simstown, AR 51547', 'West Erica, SD 93725', 'Mcmahonview, SC 51585-5774', 'Gravesfurt, VT 41650-3581', 'Millsside, PA 86470-2619', 'Wandahaven, CO 62328', 'Connorville, DC 88114-9490', 'Port Leslie, AZ 49290', 'West Christopher, NH 85839', 'North Michaelview, AL 42767', 'New Margaretland, NC 90315-1115', 'New Annstad, AK 53180-3670', 'Jasonmouth, CO 83797-1879', 'North Michael, FM 93545', 'Monicaview, AR 01639-3032', 'Johnnyfurt, SC 53321-7866', 'Lake Kevin, CA 25438-1821', 'Dawnfort, NM 54549', 'Richardberg, UT 70614-3350', 'South Meagan, DE 82655-5020', 'South Davidview, TX 70637', 'DPO AP 07885-8587', 'APO AE 18919-6165', 'New Teresa, MI 82737-9223', 'West Jessica, MS 20172', 'East Lucasmouth, KS 62133-6540', 'Emilyside, PA 31748', 'East Alexandraburgh, NM 55053-2423', 'Frazierchester, MS 46812-0037', 'Jamesstad, CO 07651', 'Tammyside, AL 76708-8615', 'Wallmouth, NC 98956-5357', 'East John, DC 09236-7627', 'Port Mary, CT 03068', 'Smithmouth, OR 69870', 'North Sara, MA 27515', 'Port Jordanbury, SC 46334-0480', 'Port Bryanview, ID 99846-0784', 'North Samantha, DE 69390', 'West Travis, PW 22854', 'Lake Jermaine, MS 94725', 'Lake Davidshire, CT 71099', 'Thomastown, AK 08587-4493', 'Dawnborough, NH 07786-7190', 'DPO AE 18066-3647', 'New Elizabethburgh, AZ 76937-4021', 'South Ethanland, WA 16373', 'Port Louis, WY 09440', 'Lake Haileyfort, MI 73004', 'Lake Angela, KY 89831-0175', 'New Gabriel, UT 12666-0446', 'Brownland, MA 40384', 'Lake Calebstad, TX 33969-7942', 'New Steven, IN 42368-9011', 'Alexanderburgh, TN 66040-2962', 'Lake Ericshire, MS 82383-5094', 'New Frank, IA 76417-4251', 'North Douglasland, OR 61608-7223', 'New Richardmouth, ID 32823', 'Heidihaven, VT 22098', 'Port Andrewbury, PA 60420', 'Jenniferport, OR 77808-5741', 'Lake Brookeborough, MI 16269-0938', 'New Courtney, MS 95601', 'Lake Edward, DC 65069-7385', 'Lake Thomaschester, MP 71633-2350', 'Sandramouth, NY 69229', 'North Elizabeth, TN 76959', 'FPO AE 56319-6904', 'Bennettberg, SD 72404-6826', 'Morenoland, DE 51392', 'Pamelaland, NE 21006-4512', 'APO AP 02895-8370', 'New Kelly, IA 54531', 'South Keith, NC 32349', 'Brittanyside, NY 78170-7389', 'Robinsonmouth, NY 94261-0324', 'Port Williamtown, NM 37798-8316', 'Andersonport, VT 62322', 'New Benjaminberg, NY 16741', 'Andreaport, MD 43672', 'Port Jasonport, TX 65571-9046', 'East Jonathan, KS 49221-7797', 'West James, NJ 36320-9547', 'Masonburgh, PW 85098-2368', 'APO AP 64444-8885', 'West Isaacburgh, MO 37193-8366', 'Richardhaven, MT 91357', 'Davisberg, NE 50806-5808', 'Woodland, PR 57096', 'Andrewberg, KS 37344', 'Carterburgh, GU 54230-0036', 'East Patricia, MO 95742', 'Port Suechester, MN 59441', 'New Michaelland, PA 52372', 'Buckleyton, AL 80725', 'Charlesbury, NH 59219', 'New Davidtown, VT 50549', 'Bonillaberg, VT 79693-8592', 'Murphyview, ND 81320-7591', 'West Thomas, ID 72774-3622', 'New Jennifer, NC 65688', 'East Nicholashaven, UT 70709', 'Martinhaven, TN 31117', 'Lake Kathrynside, OR 02802-5932', 'APO AA 80496-2707', 'Lake Corey, MP 92475-3283', 'Ruizburgh, ND 80482-2594', 'Port Sharon, AZ 72803', 'West Terri, PR 55185-6417', 'East Nancyport, HI 76955-3187', 'Johntown, DC 55876-9213', 'APO AE 06624', 'Sandraside, PR 21095-8831', 'South Gary, AL 74671-9718', 'Lake Leahland, ND 40383-6632', 'FPO AE 34089-4213', 'South Travisport, NV 63358', 'East Johnshire, GU 21880', 'Johnberg, KS 46247', 'North Laurieberg, WV 02838-1280', 'Normastad, OH 05696', 'New Rhondastad, NH 31943-6491', 'New Kayla, CO 57215-1414', 'Robinhaven, PW 29113-4769', 'Elizabethton, SD 61391', 'Millerville, AS 59657', 'South Robertstad, CO 27533', 'New Benjamintown, IA 04280', 'Port Jimmyhaven, NC 48866', 'East Lisastad, PA 42221-4091', 'Aarontown, LA 91877', 'New Sherimouth, OR 62430', 'West Iantown, NV 50432', 'Davidshire, AR 24822', 'Colemanborough, NC 47602-0807', 'Valerietown, VA 96820-3267', 'New Courtneyhaven, AZ 93784-4192', 'South Thomasburgh, MH 33971', 'Craigburgh, AS 18489', 'Lake Derrickton, MD 06453-1751', 'Spencerhaven, NE 03017', 'Elizabethhaven, WY 73367', 'North Brookeside, VA 14645-3679', 'FPO AE 55568', 'South Breannaborough, VI 77689', 'East Benjaminport, AS 22091-8691', 'Scottland, WA 13076-2686', 'Jaredmouth, ND 92571', 'Thompsonborough, VA 47145', 'North Kathleenchester, VI 79958-5109', 'South Walter, MT 25854', 'Lake Justin, MI 49996', 'Ortizchester, MD 60839', 'Shafferville, RI 86582-2504', 'West Michelle, KS 42800', 'Alyssaville, KS 67805-4183', 'West Linda, CO 75760-0545', 'West Brenda, NE 03966', 'Lanehaven, TX 43151-6951', 'Brendamouth, OH 02630', 'APO AE 08359', 'North Charleshaven, WA 21673-4970', 'Noahmouth, VA 94749-4193', 'Moralesview, TN 52369-9594', 'Clarkside, PW 13227-6404', 'Brownburgh, WI 19676', 'Fieldshaven, WV 94273', 'Terrellton, DE 21808', 'Walshburgh, NM 20508', 'South Lynnfort, WV 03030-1329', 'Greenmouth, VA 65766', 'Erinmouth, AK 45337-0177', 'Lake Ethan, SD 63811-2590', 'Graytown, IA 19584-3525', 'Brandonchester, NH 78706', 'Knightfurt, MA 52525', 'Mooretown, TN 01957', 'West Patricia, NH 03110', 'Michaelville, ID 35987-0000', 'West Jeffreyside, DE 48010-1597', 'Lake Davidborough, TN 94944-7693', 'South Nathaniel, GU 86101-2181', 'APO AA 90999-6054', 'Yorkstad, IN 28387', 'Brittanyport, SC 61251-5917', 'Lake Juliestad, PA 45160', 'West Brookefort, DE 52618', 'Lake Kristichester, MH 60325-0465', 'Moranville, AS 64015-9416', 'West John, GA 54419', 'Port Tamihaven, KY 49759-0002', 'FPO AE 47460-2918', 'East Jessicaburgh, IN 87581', 'Nguyenborough, PR 29909-1595', 'Nelsonville, RI 33413-0734', 'FPO AE 34548', 'West Joseph, PW 61547', 'Deborahtown, PA 82936-6211', 'Richardstad, NE 77920-7065', 'Kellyhaven, MA 73748-7863', 'Johnsonfort, MP 70097', 'South Thomas, WA 66562-5367', 'Jonesshire, AZ 55526', 'North Johnstad, SD 46743', 'Grossshire, IL 63959-6036', 'Port Paulfurt, WA 67614', 'South Douglasmouth, AZ 87584', 'West Blakeview, MI 29268-0734', 'Solomonchester, OH 75313-3236', 'FPO AE 60758-7254', 'Jessicaton, SC 29102', 'East Danielstad, LA 78947', 'Edwardhaven, TX 40439-5255', 'Gonzaleztown, TX 16625', 'Chambersborough, OR 12706-9089', 'South Dennis, NE 67169', 'East James, RI 35745', 'East Lisa, FM 01139-3975', 'Ericton, IN 58422-1731', 'North Paulville, NJ 17081', 'Hallfort, RI 91245', 'South Maryfurt, PA 02596-5120', 'North Jeremy, GA 11382', 'APO AA 41916-7543', 'Mariaton, DC 32652-0435', 'Aprilberg, OH 84325-9197', 'South Alyssaville, FM 52001-5170', 'Richardland, TN 90546-5133', 'South Brianport, PW 60170', 'Jessicabury, ID 53712', 'Ashleytown, AS 08599-9593', 'East Christopherhaven, OH 04150-4444', 'Adamsport, MP 05206-8557', 'DPO AA 82418', 'Lawrencefurt, WV 74353', 'Walkermouth, TX 13603', 'New Cody, FM 50294-1790', 'Obrienmouth, OK 05534-6066', 'New Kathyside, NC 68483', 'South Grace, MT 18138-9365', 'Warrenside, NC 21795-9556', 'FPO AE 22020-0133', 'North Stevenland, WY 91580', 'North Vicki, AR 88326', 'South Garrett, FM 08472', 'Blairfurt, TX 86287-9948', 'Smithfurt, MA 85494', 'North Andrew, UT 94792', 'Stephensburgh, AR 59803', 'Melissastad, FL 21288-1643', 'FPO AE 47380-9293', 'West Stacy, NJ 76379', 'New Robertchester, KY 58588-4690', 'Christianmouth, MS 32548', 'Dylanshire, GA 06408', 'Port Patriciastad, OR 41830-1527', 'West Douglasborough, DE 70878-3747', 'North Michael, TX 96312', 'FPO AE 57943-1887', 'Alicefurt, MP 05063', 'APO AP 99342-8231', 'Lake Jenniferborough, OK 25958-8585', 'East John, TX 89790-2123', 'Michaelhaven, TN 89309-1566', 'Larsenside, PR 93064-3226', 'Leslieville, NV 63556', 'DPO AP 21782', 'Murphymouth, MI 56611', 'Lake Jessicashire, TN 18218', 'New Joshua, PA 84565-5279', 'FPO AA 08988', 'DPO AE 83854-5561', 'North Julieburgh, CT 81526-8507', 'Joshuashire, NH 08358', 'Anthonybury, DC 36875', 'East Daniel, VI 57715', 'Lake Sarah, NY 49190', 'Davismouth, ND 55667-5634', 'West Sharonberg, NJ 82474-6273', 'FPO AE 75578-8273', 'Schultzstad, VT 26911', 'East Stephanie, NY 77685', 'FPO AP 83668-4924', 'Brianburgh, TN 31726-6186', 'Joshuaborough, WI 15469-7710', 'Lake Michaelfurt, KY 99821-3879', 'APO AE 99235', 'Johnfurt, SD 79157', 'Lake Edward, SC 75278', 'Amyville, NM 92900', 'Melissaview, KS 67281', 'East Williamburgh, GU 44258-8729', 'West Lisastad, HI 54302-1058', 'West Josephchester, OH 68420-3256', 'Fordville, NV 54980', 'Jonathanport, CO 37205', 'Thomasview, MD 87052-0869', 'Paulview, IL 73971-9525', 'North Casey, HI 32920', 'Lake Cynthiaville, WY 10462', 'Burkeshire, DE 16725-8223', 'Lake Jamesmouth, VI 37688', 'Piercefort, CT 70599', 'New Elizabeth, GA 31809-6568', 'North Shelbyview, CO 19948-1105', 'Patrickview, FM 32471-7299', 'Lindseyborough, GU 82013', 'Jasmineport, DC 78574', 'Sarahmouth, SD 61528', 'Port Dawnside, NV 79521', 'Whiteshire, FM 13329-8305', 'APO AA 11465', 'Pinedaborough, GU 91864-3525', 'South Sergioshire, PA 45947', 'Sarahborough, CT 52727', 'South Amymouth, KS 13318-7131', 'Bradleystad, FM 70703', 'Lake Karenstad, NY 24477-7673', 'East Marcland, VI 00144-8724', 'Bartlettside, IL 19674', 'Leblancfort, TN 61922-6111', 'Lawrenceborough, SD 60884-8281', 'Lake Rebeccafort, ME 80907-9585', 'Andreaburgh, TX 00062', 'Port Lawrence, IN 49301', 'North Justin, HI 69723-6199', 'Luisville, MH 13877-8429', 'West Denise, KY 32288', 'South Stephanie, WV 50293-8967', 'South Donna, MP 27394-3313', 'Port Stefanieside, KY 51547', 'West Justin, AK 33316', 'West Michael, SC 22980', 'New Jaclyn, MT 85582', 'DPO AP 16790', 'New Jonathan, MS 39820-0357', 'North Nataliehaven, WV 64258', 'Wendyton, MO 11893-3330', 'New Emily, CO 16308-7553', 'Maymouth, DC 48494', 'North Janet, AR 53662-0663', 'Reneetown, GA 47710', 'Port Jenniferhaven, AS 50660-3651', 'East Kayla, AK 86549-5044', 'Brownmouth, PR 36675', 'Snyderburgh, MI 24927', 'Bakerburgh, PA 60893', 'East Matthewborough, LA 94636', 'East Robintown, DE 26378-8119', 'East Craigside, AZ 99194-1973', 'Lake Laura, KY 62351-5064', 'Joneston, NY 22169-4842', 'South Joe, TN 50468-3763', 'West Patricia, CT 37525', 'Kennethton, GU 36352-1328', 'South Kevinview, NJ 72757-4701', 'East Michaelfort, FL 88693-1834', 'Brianberg, LA 70084', 'South Melissa, WV 86173-2956', 'South Timothyville, OH 90558-4977', 'Amandamouth, LA 51503-8671', 'Port Christine, PR 15758-2368', 'Port Scottbury, MD 24573', 'Lake Iantown, MP 83262-3375', 'Jamesport, VT 98208-9060', 'Obrienmouth, OR 18396', 'Dawnfurt, SD 64522-9268', 'Codymouth, ID 33963-6108', 'Port Paula, MA 16824', 'Fletcherfort, IL 45521', 'South Sandraland, MN 59076', 'FPO AP 47103-2429', 'South Jacob, AL 52129', 'Johnhaven, OR 27004-7494', 'Christopherton, KY 30003-0171', 'Coreymouth, MA 50325', 'Lake Kelseyland, CO 77085-1324', 'Buckmouth, PW 12882-2996', 'West Trevor, ND 38795-2007', 'Bakerbury, MP 64630-4394', 'West Elizabeth, OH 04452', 'Port Erin, WY 52957-5435', 'Christopherton, NH 95146', 'Sheilashire, OK 81154-7934', 'APO AA 78606', 'New Maria, TN 69580-8439', 'DPO AA 25685', 'Moseston, TN 48447-9761', 'Lake Ann, OR 51456', 'Ianport, SC 23292-5020', 'West Shannon, DE 72326-4625', 'Johnborough, WY 10598-1489', 'Port Kelly, MD 28873-9792', 'Julianfurt, IN 78140', 'Jamesbury, SC 76217-0455', 'Carrieville, DC 45078-8600', 'South Crystalburgh, MS 24864', 'North Raymondchester, PA 75389', 'North Craig, MH 98488-6772', 'Robinsonside, MN 51149', 'Jenniferland, VT 47784', 'Piercestad, CT 72842-3325', 'DPO AA 47323-2101', 'Port Adam, OH 48769', 'South Ronaldport, LA 62288-5973', 'West Tyrone, VI 81186-6677', 'Mariohaven, MH 00956', 'New Jennifer, GA 81262', 'South Vanessamouth, NJ 83757', 'Brandtmouth, RI 02975', 'North Kristinbury, UT 69027', 'Housetown, VA 71506-7091', 'Parkchester, MS 20288-6598', 'Warnerhaven, MD 10412', 'North Patrickborough, NJ 31166-7988', 'FPO AE 81668-3821', 'Maynardmouth, MI 60210-9659', 'Garnerberg, MA 84386', 'Lake Seanside, ND 47671', 'East Kennethfurt, LA 37064-8900', 'Gregoryfurt, IL 39580', 'Kirbychester, NJ 76201-4719', 'Aaronburgh, NC 90513-9301', 'Lake Tracy, AL 36317-8259', 'Bethanyshire, CT 67149-6278', 'Smithstad, PW 59127', 'Baldwinton, LA 68900', 'Lake Abigail, IN 02827-4222', 'Hartmanland, AZ 37973-3049', 'New Valerieside, CA 37155', 'Huffmanville, AK 21375', 'New Bradleyside, MI 74897', 'Jennifershire, KY 79760-6173', 'Russellberg, MN 31202', 'South Veronica, NC 79350', 'Lake Stacey, AR 95418-6029', 'North Masonhaven, ME 51493-3022', 'South Hannahport, LA 92436-6494', 'East Nathan, VI 05521-1350', 'Toddfort, MO 95614', 'Garciachester, DE 09135-4735', 'Hillmouth, DC 64884', 'North Tammiechester, NC 23048-4036', 'West Melissaton, GA 00663', 'North Joshuashire, AZ 84342-5757', 'Loganfort, MS 10959', 'Sergiotown, VT 20367', 'North Jessicatown, MP 84920-3221', 'Maychester, GU 63293-8809', 'Munozmouth, PR 33205', 'Hessview, OR 63586', 'Robertville, DC 21128-0453', 'East Carolyn, NE 80148-8850', 'North Richardchester, AS 42587', 'Leahburgh, PR 77137-6937', 'Yvonnefurt, NC 14633', 'APO AE 84646', 'New Jamie, NY 50202', 'Richardburgh, IL 33834-1305', 'Port Samuelside, GU 06730', 'Lindsayborough, WY 68856-0092', 'Jamesview, AZ 00532-4427', 'Lisastad, DC 67330', 'Morrisland, SC 37248-4063', 'Port Scottview, NC 38932-2657', 'APO AP 98266-5428', 'Rhondastad, KY 27693-9413', 'Maryton, NY 45618', 'APO AA 40047', 'Port Jesse, IN 51991', 'Lake Kyle, WA 90337-7454', 'Benjaminbury, VT 03318-9619', 'APO AE 50445-2100', 'West Deborah, VT 14535-2467', 'Jenniferhaven, GA 61596-1119', 'Daniellemouth, PA 02241', 'APO AP 46111-7806', 'North Crystalview, VA 40652', 'Reyeshaven, WV 22646-0966', 'New Cindyland, MI 13424-8203', 'North Sarah, OK 34668', 'Lake William, AS 62856-9836', 'Anthonyfurt, VA 17191', 'Lake Thomas, MP 99522-4945', 'Jonathanborough, ND 57809-1961', 'East Ritaton, KS 97261-8617', 'Port Elizabeth, NH 66530', 'Marieburgh, WY 37987-7127', 'Leetown, MS 07616', 'Tinaport, CT 17781', 'Charlesborough, IL 29751', 'Vaughnmouth, MN 39214-3093', 'Christinaton, AZ 69071-6657', 'East Donnaview, MH 67321-2363', 'New Carlaville, KY 15412-2546', 'West Wesleybury, MS 17227', 'Kleinbury, KY 02969', 'South Randy, MN 75770-8233', 'Hancockshire, AS 54797-5444', 'APO AA 33818', 'North Yolanda, SD 47070-7137', 'New Mitchell, DC 10981', 'Christinaburgh, CO 75023-0787', 'Glennshire, SC 33179', 'Holmesland, VT 81072', 'North Dennis, OR 90936-6820', 'Guzmanberg, MA 60510', 'New Kellytown, WV 38886-7802', 'Lopezside, MH 21430', 'Jessicashire, PA 60756', 'Christopherchester, KS 50822-8146', 'Lake Patriciaburgh, MD 03928-1885', 'Normanside, MA 65696-1725', 'Carrollmouth, OH 35308-8073', 'South Nicholasbury, DE 26628', 'New Brenda, DC 70173-4108', 'East Michaeltown, NC 02319-9280', 'Reyesland, DE 48811', 'Lake Melinda, MH 07175', 'East Michelehaven, CT 44471-9324', 'East Shannon, VI 80699-6731', 'Lake Davidport, VT 70760', 'Lake Tiffany, HI 82995-2929', 'FPO AA 27512', 'DPO AA 13767', 'Port Brianbury, OH 78964', 'Whitefurt, MO 18599', 'Mortonstad, WY 58148', 'Davischester, GA 71300-1917', 'Lake Tannerbury, RI 29349', 'North Marioville, GU 75958-1328', 'North Peter, RI 58237', 'Perryville, CA 13499-5935', 'FPO AA 31030', 'East Markport, IN 41253', 'Josephberg, AZ 58966-3248', 'New Laurie, PR 61237', 'Hartfort, VA 37328-6949', 'North Aprilshire, PW 13402', 'Lopezbury, KS 51049', 'APO AP 64687-9459', 'Port Lauraland, AZ 23400-9348', 'West Jamesland, HI 66797', 'New Frank, SD 32477-8796', 'South Mary, MO 35793', 'Justinmouth, DC 31345-4841', 'Jefffort, VA 89472', 'Georgefort, NE 04481-1083', 'Laurachester, MP 38007', 'Andreafurt, IN 14150', 'FPO AA 45323-4290', 'Lopezburgh, AK 74728', 'Toddmouth, PW 54975', 'Alexanderbury, PA 91436-2120', 'Moonmouth, AL 23444', 'South Carriefurt, NY 13185-2445', 'New Morganshire, MT 38939', 'Lanceville, UT 64420-1882', 'Abigailborough, MN 16645', 'Port Michaelmouth, IL 88737', 'Brianland, ID 10645', 'Lake Linda, ME 52695', 'South Michael, AL 99621', 'Mckeeview, NC 89358-6768', 'Nicholasport, IL 91064-1080', 'West Michael, CT 11080-9522', 'South Nathan, FL 72804', 'Stephenview, PW 77941-4444', 'East Terrence, FM 76774', 'West Kevinland, ME 01431-0177', 'West Jonstad, PA 43101-8130', 'North William, NC 21455-3269', 'Parsonschester, VA 49485-9488', 'Barnesport, FM 49833', 'Fieldsfort, CA 51614-8941', 'Lake Vincent, OH 05404-1179', 'Port Henryfort, UT 45989', 'Port Angelica, WI 77878-6142', 'Nicholschester, OK 05492-7126', 'Jamesville, FL 18420-6564', 'East Clifford, PW 67999-0591', 'Ritterport, SD 08541-1686', 'South Denise, KS 86144', 'South Lisabury, MA 55466', 'APO AA 76710-9573', 'Emilyside, CO 97593-5472', 'Samanthaside, KS 70716-5226', 'New Catherine, UT 56845', 'Port Sherriland, SC 82783', 'East Bethton, MI 72561', 'Kathrynborough, UT 72714-6759', 'East Bryan, OR 66067', 'Kevinfurt, AZ 71789', 'Hineshaven, IN 52693-6366', 'Stephaniemouth, OK 66676', 'West Timothychester, NH 29497-5681', 'FPO AA 35029', 'Brianside, MA 36738-0637', 'Marissastad, NM 00794', 'East Deniseview, RI 21012-8300', 'North Sherry, SC 21980-1722', 'Lake Sharonland, NY 80569', 'West Jeffrey, NE 35494', 'Rosebury, AL 61416-3167', 'Susanshire, AZ 00328', 'Jacquelinestad, PW 32378', 'Hernandezhaven, NE 29672', 'North Sharon, CA 40445-0695', 'Villarrealland, MD 90258-8822', 'Martinezbury, VA 51924', 'Wilsonside, CA 62038-2300', 'East Mark, NM 09382', 'Port Andreatown, DE 39559-2783', 'Karenchester, AL 04190-4237', 'North Teresafort, MA 43089-0152', 'Deckerland, SD 16294', 'North Kelly, IN 94856-6427', 'Port Matthewshire, NC 66272', 'Lake Taylor, ND 17489', 'Rivasfurt, ND 04123', 'APO AE 12036-0836', 'New Justinmouth, PA 25004', 'Nicolebury, AL 14624', 'East Jeffreyborough, CT 45650-3126', 'South Jamie, GU 95398', 'North Katie, FM 72098', 'Whiteville, AS 79813', 'Lake Denise, OK 51103-4597', 'Port John, PW 73151-6724', 'Ramirezview, UT 82819-9826', 'APO AE 81289', 'North Harry, TN 24136', 'West Timothy, MP 45493', 'Jamesbury, DC 07921', 'Kristinmouth, ID 05829', 'DPO AA 16271-0224', 'Amberborough, WA 31105', 'Amyburgh, PA 71224-5090', 'South Justin, OK 66516', 'Edwardsberg, MD 02773', 'Brianmouth, ND 02995-1068', 'East Jonathanton, DE 82931', 'Maryburgh, CO 32233', 'Elliottshire, DE 90107', 'New Tiffany, NJ 35579', 'Thomasshire, CO 09495', 'Peggybury, AS 89149-2125', 'North Alexis, NV 71995-9163', 'East Jennifer, MN 53589', 'North Gregoryland, WY 79081', 'East Taylor, AR 62664', 'Bennettstad, NE 55780-9958', 'FPO AP 87928', 'Savannahtown, WA 87924-9404', 'Robertsport, NY 09253-2552', 'Donnaland, MP 95960', 'Madisonmouth, SC 04285', 'APO AE 04921', 'North Craig, HI 86453-3624', 'Smithtown, ME 11150-3233', 'Smallland, NC 15747-5815', 'Silvafurt, NE 88050-3603', 'West Paulchester, KY 61596', 'Lake Elizabethfort, UT 41369-0237', 'Stevenfort, UT 18732', 'Lewismouth, VI 87172-1000', 'New Gilbert, WY 70871-5578', 'New Pamela, AK 46876', 'Ralphfurt, PA 09827-4337', 'New Whitney, NY 73137', 'Michaeltown, MD 34529', 'DPO AE 68423-9498', 'Robertside, SD 61154-0104', 'Jessicaville, MD 71946', 'West Douglasland, NV 48332', 'APO AA 43113', 'Leeberg, ND 15540-8557', 'South Christopherville, NM 47337-9117', 'North Amandaville, MO 55928', 'Coryfort, GA 66710-2535', 'West Megan, AS 39793-7339', 'New Andrea, NH 32549', 'North Michaelborough, CT 83476', 'South Shannonmouth, KY 33314-3669', 'Lake Emilyfort, KY 92027-9820', 'Timothyshire, PW 16107', 'North Nathaniel, RI 37530', 'Scotttown, KY 33922-1795', 'Charleneland, NM 58522', 'Richardshire, IN 92603', 'Floydland, DC 23157', 'Lake Phillip, VA 85426', 'FPO AA 60174-6263', 'Lake Lynn, AK 73257-6707', 'West Jeffrey, HI 92567-7167', 'Christensentown, WI 62082', 'New Shannonhaven, VA 07026-9938', 'Wilkinsonbury, ND 95001-4548', 'Whitakerville, WY 85138-4153', 'DPO AA 29420-5875', 'Port Nicolestad, UT 49247', 'South Johnny, VA 94359-3209', 'Jenniferton, GA 83163-3132', 'Williamport, RI 50228', 'Tinafurt, GU 56684-5907', 'East Melaniebury, IN 51530-5215', 'East Ashleyshire, HI 61481-1240', 'FPO AP 77447', 'Lake Jamesland, MN 54821', 'Oneillside, NE 17071-7757', 'New Crystal, NJ 58341', 'Hendricksmouth, PW 87092-1532', 'New Jesseton, IL 19753', 'South Richardshire, WV 91991-0615', 'FPO AE 95935-4246', 'Port Chad, NY 38307', 'Patrickfort, MO 43725-2826', 'Deannabury, KY 79535', 'Bradyville, NE 27399', 'Kramermouth, KY 23168', 'Tamarabury, PW 76806-8720', 'Leefort, AZ 98396', 'Burnettview, MH 63625-7023', 'Lake Nathanchester, HI 32651', 'Stephenborough, AL 57418-2908', 'Bakerfort, HI 27291', 'Port Kenneth, IN 97618', 'Jonathanberg, NV 15215', 'Katherineborough, CT 42078', 'Aguirrechester, HI 88830', 'Williammouth, AL 52135-3954', 'Anthonyhaven, IA 31543', 'Lake Diamondchester, ND 59260-2575', 'West John, SC 38987', 'West Brianhaven, AS 10256-3621', 'Rogersfurt, KY 08574', 'East Cynthia, FM 20131-8633', 'South Jamesfurt, RI 46652-5410', 'Jacobton, NM 98775', 'Kylehaven, SC 68949-5123', 'South Brittney, KY 62380-9095', 'Tinatown, SC 06354-8234', 'East Victoria, WI 18252-6242', 'APO AP 41574-6578', 'New Krista, AR 82878-0303', 'New Kathryn, AR 21503', 'Reedmouth, IN 33047', 'North Deborah, PA 22711-5716', 'West Tyler, WV 04839', 'Welchbury, WY 49675', 'North Cherylside, PR 98151-1382', 'APO AA 90727', 'Jamesmouth, RI 95375', 'West Jeffrey, AL 23901', 'Porterport, FL 25335-2659', 'North Michelleside, FL 74030-0766', 'East Bradley, SD 93895', 'New Francisco, KY 28146-9843', 'Wallberg, NC 99284-2612', 'South Ashleyport, KS 30939-6959', 'Cynthiaborough, MN 74981-2216', 'DPO AA 77678', 'DPO AE 97365', 'Mendezville, NV 28559-8349', 'New Pamela, WY 80939-1528', 'Gordonview, NE 01088-0293', 'Jessicaview, TN 23865', 'FPO AP 24063-2965', 'Gibbsview, DC 34096', 'West Holly, HI 79586-9203', 'Weissside, NE 91504', 'North Carlaville, AK 16083', 'APO AE 38902', 'Lake Craigshire, DE 27255-4685', 'Josephmouth, AS 16402', 'New Christopher, GU 59235', 'Port Jennifer, RI 77598-1581', 'Greenton, WY 81859', 'East Charlotte, GU 19126-4603', 'Lake Darlenefurt, NH 44102-3505', 'Rossside, GU 67047', 'Sandraview, IA 95516-8640', 'Isaacborough, MN 74557', 'East Theresamouth, MH 09051-0041', 'Seanmouth, AZ 48832-2451', 'APO AP 00437-2898', 'Gomezport, UT 25664-2756', 'Yorkborough, OR 63137', 'West Lisafurt, WV 54879', 'South Nicole, IN 15411', 'West Jacobfurt, MH 44303-7441', 'DPO AA 43894', 'Sandersfort, AK 98217-6991', 'North Tina, AS 81526', 'Darrylfurt, AZ 27606-0832', 'Tinafort, ID 72673', 'South Charlesberg, WY 44653', 'Jonesmouth, PR 96253-5344', 'New Rickeystad, UT 82195', 'APO AE 46839', 'Jonesmouth, FL 96973', 'APO AA 54210-2865', 'Nelsonborough, KY 90566', 'West Benjaminside, OH 81904-1054', 'Port Johnside, PA 35545', 'Cortezland, HI 41003-9434', 'Lozanoview, GA 23655', 'Davidhaven, FL 69932', 'West Toddfurt, VT 33903-0801', 'Smithshire, VA 41884', 'New Tomburgh, NE 93284', 'Conwaymouth, RI 31621', 'North Sandra, CT 29555-5745', 'Patriciafurt, AR 17057-1938', 'Sarahburgh, MS 28271-3171', 'New Donna, CA 17319-8250', 'Heatherside, NJ 41595-0901', 'Lake Gina, AS 58599-4858', 'Danielville, MH 43252', 'South Shawnside, MD 87126', 'North Richardshire, OR 12991-5274', 'Simmonsville, LA 76219', 'South Chad, PA 10027-9358', 'Lake Brianshire, MH 44798', 'South Brianfort, VA 41541', 'DPO AE 20627', 'Harrischester, PR 82109', 'Jacquelineton, NE 37257', 'Joyceville, PA 64628-1607', 'Alexanderchester, TX 22003-5887', 'East Kathy, HI 18687-0225', 'Alexandraton, NE 06643-5514', 'East Sharonberg, ID 41904-9783', 'Williamsfort, VT 57366-8184', 'North Jacqueline, GU 08025', 'Bradleymouth, IA 22614-9226', 'FPO AA 76691', 'Port Heidi, MD 85316-8496', 'DPO AP 22014', 'Hunterborough, OK 66490', 'Turnermouth, OR 44156-7826', 'Jamesville, CT 35091-0067', 'Martinview, LA 68388-7139', 'North Debraland, MS 31006', 'DPO AA 37345', 'South Evanland, AZ 95568-4663', 'Jeremytown, NV 90167', 'Millerport, ID 81544-1368', 'Port Zacharyland, NJ 64442-8584', 'North Glenda, LA 96590-2034', 'Margaretview, ND 18572', 'Michelleville, OH 48329-3260', 'FPO AA 33522-4639', 'Port Shannonfurt, MO 93719', 'Lisaburgh, WI 82443-7047', 'Jackhaven, VA 24159', 'New Michaelton, CT 81304-0841', 'Haroldfort, NY 03461', 'South Christinafort, MN 47180', 'South Craig, SD 65854-3373', 'Vargaschester, AK 64306-1547', 'New Janice, AL 55178-7547', 'East Jo, LA 45172-7688', 'South Davidburgh, ND 97340', 'Brennanfurt, OH 46989-4992', 'Philipville, UT 70049-6737', 'East Christopherburgh, NJ 68031-3600', 'West Joseph, ME 85342-6948', 'Lewisport, NE 78007-9185', 'Whiteland, MP 67794', 'APO AA 75396', 'Loweville, VI 15095-3171', 'East Ashleymouth, MA 20672-6561', 'South Joshua, MT 00544-8919', 'Lake Julie, DC 21341-5283', 'Alexastad, IA 27350', 'West Elizabeth, NE 84405', 'South Josephview, GA 19634', 'Andrewbury, IL 41004-2204', 'North Brandi, NY 50592', 'Berryfort, DC 89338-7003', 'Sabrinaton, MD 21635-1363', 'West Harold, GA 09192', 'APO AE 26084', 'Fordmouth, GA 31912', 'North Michael, NM 00441', 'Davidville, TN 53584-5691', 'Jamesside, LA 56516-6482', 'New Mary, AL 17062-1557', 'Nataliemouth, MA 44975-6855', 'New Traviston, SD 22484', 'West Alisonberg, VA 45700-1303', 'Mcclainview, AS 53593', 'North Mark, MP 46431-8517', 'Spencerchester, VI 61152-1552', 'New Laura, LA 86502-4020', 'APO AP 49388', 'Shannonbury, NE 37690-1587', 'Sharonburgh, DC 35897-2870', 'Lake Brandon, MD 94232-0817', 'DPO AP 61699-0044', 'Annefurt, ID 69704', 'Philiphaven, FL 02184', 'Lake Daniellechester, VT 75670', 'Lawrencefurt, MS 06637', 'Gracetown, PW 83118-5264', 'Jameschester, DE 28165-2437', 'South Paulberg, IN 71636', 'New Cory, GU 09591', 'West Ashley, CO 79945-8862', 'Ellisfurt, MD 25316', 'Jeffreyport, ME 55376', 'Freemanside, MT 89267', 'New Michellebury, ND 54800-0758', 'Rebeccatown, ME 17081', 'East Kevinfort, KY 10500', 'Joseland, PA 37286', 'Williamfort, ND 81224-4007', 'West Jeremystad, MP 90078', 'Oneillton, PA 12326-4566', 'Hinesland, GU 59831', 'New Gina, NV 81990-3134', 'Annetteberg, GU 40249', 'South Heatherton, WI 38056-6074', 'Sheliabury, AK 80914-6049', 'Owenschester, HI 58030', 'Dawnbury, WA 31077-5026', 'Gordontown, MS 10798-7400', 'West Adrianstad, HI 03715-0829', 'South Chelsea, GA 08403', 'Robertton, NH 79785', 'Ryanfurt, CT 69748', 'East Amandatown, CT 45499-4725', 'Lake Samantha, SC 71938', 'Amymouth, MD 33351-2292', 'Medinashire, LA 81653-3099', 'West Tiffanyfort, FL 72018-5556', 'Derekton, KS 52626-5730', 'APO AE 32543', 'Bridgetport, VT 61702-9277', 'New Jason, UT 75026', 'Jameshaven, SD 84032', 'Parksmouth, AS 32380', 'West Jacquelineland, MA 77004', 'Hernandezfort, UT 06463-1898', 'North Susantown, IA 57584-3307', 'Shaunburgh, MN 99631', 'Wolftown, LA 74799', 'South Michelle, VT 13422', 'DPO AA 50317', 'Caseyshire, ID 82582-8714', 'North Brenda, RI 86613-4043', 'South Sheilachester, NC 81707', 'Wrightshire, AL 12862', 'Mcdanielchester, NV 62238', 'New Frederick, WA 81713-3087', 'Emilyshire, TX 04694', 'Carrstad, SD 26832-7957', 'Lake Laurie, MO 96320-4134', 'Shanefort, MH 03266', 'Chambersstad, AL 93059-4957', 'Millerland, PW 96516-2702', 'Camachoside, NV 38241', 'Collinstown, DE 61159', 'South Dawntown, FL 32058', 'Turnerton, GA 09258-6031', 'West Emma, AK 13256', 'DPO AE 06786-3524', 'North Bradley, IA 86152', 'New Peggy, WI 56339-7796', 'West Pamela, ME 68927-5573', 'Mendozastad, SC 79371', 'Seanmouth, MA 72287-3448', 'Lindatown, NH 36394', 'Grimesside, ID 88370-3426', 'Clarkberg, MS 67017', 'Hamiltonstad, NC 25641-9151', 'East Jaredfurt, MA 40874', 'North Dawnshire, PA 34945-8793', 'North Alishafurt, AK 32981-0368', 'Johnstad, MI 66292-5193', 'Lake Mary, IN 77960-4493', 'South William, VT 39597', 'West Kristin, UT 41479-6892', 'Port Phillip, RI 06555-6716', 'Waynetown, PA 79649-4781', 'South Emilychester, MD 63012', 'Lake Kathystad, ND 52672-8629', 'Angelastad, PW 67519-1207', 'East Marymouth, MP 64010', 'North Jasmine, ID 74627-1634', 'Alexiston, VA 51592-3127', 'West Lisa, VI 49031-0820', 'Candiceland, IN 88442-5459', 'South Amber, IN 40642-8983', 'Hallbury, AK 63242-2700', 'Jenniferchester, AZ 53597-7001', 'West David, MT 44384', 'Ashleyberg, KY 90207-1179', 'Stanleyton, NV 10317', 'APO AE 48198-5637', 'North Alfredside, AR 41817', 'Cunninghamville, IA 87691-3881', 'West Thomas, FL 46330', 'Brandonstad, GU 24710-6505', 'DPO AP 60371-0797', 'New Michelle, NE 63488-7495', 'Juliefurt, SC 97233', 'South Scottbury, MP 82773', 'South Tiffanytown, TX 35726', 'Austinland, MI 07393', 'South Megan, ME 03090', 'Costastad, IA 98079-8428', 'New Timothymouth, TN 72339', 'New Lisa, NM 04867-0517', 'Alyssastad, WA 60269-5659', 'Tylerhaven, MI 62448-7958', 'APO AA 84355-0532', 'Bettyport, SD 06524-6877', 'West Michael, WA 27160', 'Moseschester, MI 12476-3003', 'New Sarahfurt, PR 15188', 'Heathershire, CO 24944', 'FPO AA 50443-5069', 'New Melanieborough, DC 66078', 'Farrellside, HI 31913-1175', 'West Samanthashire, NH 29756', 'Davisbury, DE 43748', 'West Donaldside, FL 03465-3770', 'Mitchellfurt, ME 99955-5825', 'Randyport, ND 03786', 'New Michaelfort, MH 75123-0177', 'Jesusshire, FM 69643-5179', 'Lake Meganton, OK 76795', 'South Deborahberg, AK 58067-2651', 'Lake Lauraborough, MT 35794-4306', 'Summerston, CT 95726-5540', 'Rothfort, KY 38490', 'Cummingsberg, IN 54323-4230', 'Troyfort, NH 25371', 'Lake Judyhaven, OK 97082-1217', 'West Carlos, MS 38813-0363', 'APO AA 83963', 'Ricehaven, FL 10526-1650', 'Port Joanne, AR 01028', 'APO AA 78454-0482', 'APO AP 10621', 'Port Jacob, DC 58275-0126', 'Lake Sarah, RI 65939-0004', 'Port Garystad, KS 50589-4622', 'Meyermouth, KY 45309', 'FPO AA 64897-0998', 'Patriciahaven, AS 32966', 'Toddchester, VT 06518-1374', 'APO AA 16531-0242', 'Luiston, AR 44078', 'Petersview, ID 30955', 'North Alexandria, GU 40441-0920', 'Tanyashire, FM 11641', 'West Stephanie, SC 35286', 'North Mike, AK 44839', 'South Michaelhaven, PR 18054', 'Whiteville, WA 04277', 'East Kimberlyborough, GA 75984', 'Port Ericfort, DC 95391', 'East Kevinside, IL 31478-4239', 'West Timothyberg, AZ 17463-7935', 'South Hailey, NC 34885-9166', 'Port Daniel, MT 80278-9913', 'Port Philipchester, ID 93126-7393', 'East Nicholas, MP 49146-3130', 'Gouldview, FM 26660', 'FPO AP 57241-4816', 'Marisaland, NJ 30710-3277', 'North Tylerburgh, IA 39925', 'DPO AP 20812', 'FPO AA 45652-4890', 'FPO AP 10092-3601', 'West Stacey, FL 16909', 'Joyceland, CA 71806-0166', 'Mccartyside, AZ 49843', 'North Cheryl, RI 98322-7567', 'Port Brianshire, MT 26767', 'West Christinahaven, MA 80655', 'Davischester, AR 89328', 'Port Patriciaberg, PA 43026', 'East Lorihaven, PA 07539-1028', 'Port Lisa, TN 44690', 'Port Justinchester, NV 08842-1981', 'FPO AA 04299', 'Port Greg, AL 02346-6849', 'Gutierrezfort, ND 37099', 'Wallaceland, TX 92881-0851', 'Taylorton, DE 05823-8649', 'Allenshire, SD 47296', 'Davisside, ND 07029-4712', 'North Tinaborough, RI 63027', 'APO AP 20327', 'New Nancy, NJ 50907-1426', 'Kellybury, TN 88438-6320', 'Saratown, AR 52517-8911', 'Kennedymouth, FL 66666', 'Port Joshua, FM 86787-9400', 'East Johntown, CO 93230-5255', 'FPO AP 40438', 'Matthewmouth, MS 95493-2590', 'FPO AP 27028-3977', 'Michelleport, NV 33967-4123', 'DPO AE 59378', 'DPO AA 64737-4858', 'New Diana, MT 40096', 'Mccarthyland, ME 81042', 'Port Josephtown, AR 95549', 'New Courtney, GU 66573-9604', 'DPO AP 90327', 'East Walterfort, MI 80069', 'Tylershire, NC 68512', 'Rachelbury, OK 77886-1242', 'Angelachester, UT 84457-8708', 'Nicoleville, ND 59356', 'Josephburgh, PW 37956-4189', 'DPO AE 72927', 'Lake Davidbury, WV 44303-5567', 'Kimshire, KY 55244-2271', 'East Valerie, GA 59492', 'Colemanmouth, WI 15244-6859', 'West Aaron, OH 93623', 'Crossbury, VA 62660', 'New Jasonchester, TX 11608', 'West Loriland, NC 74388', 'Natashahaven, FM 16085', 'Andersonbury, OK 38121-2420', 'South Tylerfort, WI 00472-1022', 'Roseburgh, MP 42100', 'West James, MI 99577', 'Lake Christine, OH 38576-3876', 'Kimberlyberg, ME 70939', 'FPO AA 65033-4012', 'East Sarabury, CA 82390', 'South Brian, TX 93120-1212', 'Bradleyberg, VA 36874-2726', 'Williamstown, IA 03085-1191', 'Port Jessica, NV 82266-4694', 'South Williamburgh, MS 36354', 'Port Elizabethland, WV 46546-6515', 'Smallmouth, LA 27750-6274', 'Lake Jenniferburgh, DC 91157', 'North Melissa, MD 26354', 'South Mauricefurt, DC 47214-8682', 'Donnaland, ND 01024-1699', 'APO AE 35608', 'New Robert, MS 49220', 'FPO AA 38594-5290', 'Schneidermouth, KY 87806', 'APO AE 65551', 'North Catherine, NC 45245', 'West Dillonmouth, VA 62094', 'FPO AP 12026', 'New Leonside, DC 29202', 'Osbornetown, RI 61768', 'Chadhaven, PR 31957-1566', 'Scottborough, AZ 97504-1679', 'Jordanmouth, WA 20962-7889', 'Watsonside, CA 24610', 'Nicoletown, PR 80300', 'East Kurt, LA 14831-8346', 'Carolinebury, KY 11086-9016', 'West Anthonystad, FL 30893', 'New Vincenttown, AZ 06781-5577', 'Normanshire, PA 32369', 'New Ricky, VA 30468', 'Christinahaven, MA 53631', 'Coreyshire, DC 57303-1553', 'Stephensonport, CO 55102', 'Angelaland, VI 02616-3040', 'FPO AP 08538-2530', 'West Jenniferborough, ND 25679-4569', 'Hendersonberg, DC 57978-7303', 'Wendyfurt, DE 65495', 'Lake Brandy, NV 30525-7585', 'Larsonstad, OR 98013-1254', 'Alvaradofort, AK 75999-0775', 'Whitefurt, NC 88100-0382', 'Smithfort, NY 92619', 'Forbeston, AK 68753-4955', 'Edwardsmouth, CA 77989', 'Robertside, CA 92136', 'Haleyberg, VA 25994-8952', 'East Staceyshire, TX 34468', 'North Lindsay, AL 24424', 'Mariashire, CA 60692-1256', 'DPO AA 66418-2839', 'New Christineberg, MT 39027-6684', 'Lake Ashleyhaven, AK 92441-4004', 'Barnetthaven, TX 93635-9944', 'Nixonport, OH 64190', 'FPO AE 97523-6665', 'North Victormouth, VA 26521-3726', 'West Alexisstad, KS 72242', 'Yorkville, MP 35797-3131', 'Josephton, GA 38105-4827', 'Bentonville, RI 07315', 'FPO AP 56575', 'Oliviatown, ND 83301-0274', 'Ramosmouth, OR 84067', 'New Michaelstad, AS 51513-3648', 'Port Daniel, NY 98546-2576', 'Lake Lisaville, NH 80934-1465', 'Port Robert, AR 93456-0617', 'Bakerstad, OH 04777', 'Lake Julie, MS 90545-5499', 'Port Joseph, MT 37093', 'Newtonhaven, IA 49698', 'Coxberg, TN 50335', 'Boyleshire, MT 92664', 'Port Kathryn, MA 14562', 'South Joseph, IA 28239', 'Colonchester, AL 06000', 'New Steven, AR 34931-0581', 'Deckerbury, PA 37661', 'South Ericfort, VA 34651-0718', 'APO AE 98699-4988', 'South Erikmouth, FL 73773-6900', 'East Elizabeth, ID 65823-9817', 'North Sharon, TN 24966-9986', 'Port Bruce, VA 20003-6583', 'FPO AE 56892', 'North John, MO 97315-7256', 'APO AP 04809', 'Thompsonstad, OK 51190', 'Clintonberg, PW 44484', 'Morganville, KY 04720-2788', 'Josephshire, WA 50894-5205', 'Simsfurt, MO 70012', 'Haroldtown, MN 92953', 'Kennethshire, IA 79803', 'Paulberg, NH 37527', 'East Shannonbury, MP 57202', 'South Lorimouth, MI 99290-5854', 'Gonzalezmouth, MT 66865-3409', 'Carlosfort, VA 53572', 'Garnershire, PR 85489-2577', 'Mortonchester, MD 16392', 'Port Amandaville, VI 47676-7237', 'FPO AE 67107-3112', 'Richardfurt, MT 90720', 'West Thomas, NJ 39644-7157', 'New Mason, DE 40217', 'South Tanyaport, NJ 51929-5090', 'APO AP 77305-9461', 'Blairtown, AS 70161-8820', 'Randallstad, NM 54144-7957', 'East Jonathanstad, WV 87494-7507', 'Robertside, GA 20350', 'Joannton, MI 18340-1649', 'West Joshua, CT 50309-9080', 'DPO AE 45785-6213', 'Santanamouth, SD 08884-3154', 'North Susantown, SC 22009-2061', 'Walkerhaven, TN 71532', 'Burnettshire, IL 42501-3262', 'Port Meganfurt, AR 82577', 'Richardsonstad, AL 90756', 'Lake Rebeccashire, TN 53858', 'APO AP 78821-4369', 'Nelsonmouth, MI 55741-4287', 'Reneestad, ID 69250-7718', 'Port Amytown, KY 72016', 'Glennport, WA 11140', 'Thorntonberg, NH 82286', 'FPO AE 14408', 'Jessicaton, ME 01252-0631', 'FPO AE 01516-7753', 'North Kathleen, NC 35103', 'Scottstad, FL 50931-5306', 'FPO AP 06884-6883', 'Paulashire, NH 45632', 'Russoburgh, NY 32637', 'Balltown, MT 35720', 'Penaport, MO 96682', 'Ashleytown, MO 71304', 'APO AP 71550-8900', 'DPO AE 87388', 'West Alyssamouth, WA 88463-6602', 'West Brandi, ND 75636', 'Lyonsbury, ND 76645', 'East Shelly, WI 61227-4427', 'APO AE 77664', 'South Brittany, GU 31115-2304', 'Markchester, IL 44595-8192', 'Ambertown, MH 22779-8940', 'Morrismouth, SC 66122', 'West Erinhaven, ME 73313-1203', 'Port Matthew, GA 15870-2401', 'Marcfort, MT 01752-8912', 'DPO AE 46067-0818', 'West Jacobhaven, WV 11076-0353', 'East Daniel, MN 81963', 'Murphyburgh, IN 82508', 'South Amandahaven, WI 85011-1378', 'West Brian, PR 23989-3606', 'South Matthewton, FM 94469', 'APO AE 04060-9945', 'Christopherville, AS 59841-0766', 'West Nicholasfort, OR 26956', 'Leetown, CO 99154-8718', 'Jamiemouth, WY 88591', 'Kristastad, OK 10295-9448', 'South Christopher, TX 56693-9237', 'Kevintown, NY 58622', 'Stephensonburgh, AZ 47755', 'Gonzalezton, ME 98635-8215', 'Robinbury, GU 72533', 'New Nathan, VT 16689-2914', 'Wilsonhaven, AK 27251-3724', 'Rhodesview, WI 12271', 'New Loriside, KS 11077-3819', 'DPO AP 80733-4870', 'Chelseaside, SD 53803', 'Lake Dawnside, VI 90324', 'West Calvin, HI 96409', 'Escobarborough, PA 80969', 'New Margaret, SC 24919-4038', 'East Brianton, NV 23279-7101', 'New Larryview, MI 42870-4215', 'Christopherfurt, SD 58513-7345', 'Gomezfurt, VI 42186', 'Catherinestad, NV 87040-6522', 'Loriview, NC 26839', 'Timothystad, DE 65577-4746', 'Dustinland, MD 91269-0163', 'New Jamestown, AL 82152-5568', 'Mossberg, VT 04614', 'Millerland, AK 68004-1318', 'Samuelmouth, IL 41084-3705', 'South Melissa, SC 90542', 'Conniechester, MT 04172', 'DPO AE 67217-1120', 'Alvarezside, WI 54048', 'East Megan, NC 00957', 'Cynthiatown, IN 03495', 'APO AA 70543-2899', 'DPO AE 52259', 'Woodsfurt, AS 12901-9826', 'Jonesport, WI 40533-0181', 'South James, AL 79256', 'West Dylantown, GU 96283', 'APO AP 64313', 'Lake Sarahmouth, NC 02335-9287', 'East Brenda, PW 06750-8134', 'Port Melanieland, IN 98129', 'Lisafurt, CO 51209', 'North Lisachester, WV 40065-7494', 'New Michaelfurt, WI 63617', 'Christophermouth, SD 08482-3032', 'North Isaac, GA 68514', 'Amyview, IN 64669-3605', 'Jefferyview, LA 41444-7451', 'APO AP 95791', 'Vegaburgh, VT 81695-9820', 'APO AA 09484', 'Bennettberg, AZ 13005-5094', 'Port Todd, AS 29441-5110', 'Jeffreystad, MO 63030-8714', 'Allenfurt, NV 80137', 'North Karenfurt, LA 49356-4270', 'North Linda, AK 44973', 'North Michaelfurt, GU 92884-3694', 'Port Kevin, ID 07728', 'DPO AE 75206-0330', 'APO AA 44420-7366', 'Aliville, MT 39392-7727', 'South Cheryl, MH 27754-1554', 'Morganstad, DE 48152-4576', 'Cruzburgh, PR 50913', 'West Kyleberg, IL 67228-2100', 'Ashleyton, FM 70367-1730', 'Joneshaven, MA 01499', 'Geraldmouth, TN 04627-8015', 'Vargaston, AR 13958', 'Natalieside, KS 61342', 'West Kimberlyton, MO 92895', 'Gilbertchester, IN 45261-4696', 'Port Chelsea, WY 06509-0487', 'APO AP 94829-7837', 'Samanthatown, NV 06426-8497', 'Zacharymouth, ID 28214', 'Randyborough, ID 02762', 'South Stacey, VI 42709-5391', 'Victorialand, NC 90122-4081', 'Sandraview, WY 40555-7596', 'North Ericstad, MH 96639', 'New Larryfort, AK 18157', 'Thomasside, ID 89781-6585', 'New Stevenburgh, IL 15612', 'FPO AP 62646-3735', 'Lake Dennisburgh, SD 85755', 'East Paige, WY 97156', 'Port Paul, NY 66202-6795', 'Lucasview, TN 51476', 'Butlerstad, WY 67426-4700', 'Michaelside, AZ 39867', 'Jacquelinefort, MI 90614-3062', 'Michellemouth, SD 61060-4201', 'New Alexisberg, MH 24498-5838', 'APO AA 04729', 'Victorhaven, PR 54566', 'South Martinmouth, WA 79052-7323', 'East Sydneybury, PW 07220', 'Alexport, CA 92200', 'New Justinport, MA 39950', 'Lake Steve, GA 53591-0204', 'South Mary, HI 59367-0463', 'Woodston, AR 38916', 'South Johnville, PR 56742', 'Port Lucas, OR 91671', 'Irwinborough, NC 61780-4657', 'Elizabethtown, NM 99925-2737', 'South Karen, IA 23499-8371', 'Evanstown, NM 13622', 'Port Mary, HI 31939-9575', 'Velezport, MT 84362-2342', 'South Alan, IN 75134', 'North Brendanland, ME 22625', 'Lake Lindaview, WY 93993', 'Port Madelineberg, DC 21561-8649', 'Bushside, SC 26412', 'Biancamouth, AZ 96265-0141', 'Valerieside, ID 67284-0286', 'West Kiaraland, CA 07920-9198', 'Churchfort, TX 42291-6669', 'FPO AP 37448-8621', 'APO AA 52858', 'Ashleymouth, MN 53178-1590', 'APO AP 98603-8591', 'East Savannahville, MS 13589-0506', 'West Steven, MN 18954', 'South Claytonberg, MP 34615', 'Coxstad, HI 31365-7311', 'New Natashastad, TN 06670-3331', 'South Angie, OH 45852', 'West Sarahchester, PA 67447', 'Macdonaldburgh, WA 43820-7164', 'Robertview, MH 98978-1111', 'Port Coryhaven, ME 44707', 'Stephenhaven, LA 39337-3239', 'Shawfort, NY 19278-6898', 'Johnstonhaven, KS 80741-4004', 'Christophermouth, WI 48254-2388', 'Beasleyfurt, SC 44798', 'Brianbury, GA 26390', 'Griffinfort, DE 88966', 'APO AP 72610-0674', 'Jessicaland, FL 69456-1301', 'West Kylestad, IL 55787-7291', 'Duranhaven, RI 51074-4650', 'Lindseybury, CO 52909', 'Harveychester, NH 87650', 'Lake Veronicaburgh, MH 02222-5793', 'Cynthiamouth, DC 87878', 'Rioshaven, FM 26837-1313', 'Vasquezton, CT 39511', 'West Phyllishaven, MH 22680', 'South Emily, AZ 87538', 'Port Heidiville, NM 43609-6558', 'Jessicabury, OH 74442', 'North William, GA 71549-7538', 'Johnsonville, FL 14665-1294', 'Johnsonport, IN 68706', 'Justinville, NY 76619-4545', 'APO AP 59900-8421', 'Lake Marychester, MP 29999', 'New Susan, MI 78385-5957', 'Lake Maria, ME 97461-2471', 'Johnnyville, NJ 54309', 'South Nathan, GA 03369', 'West Adrian, FL 41997-9669', 'Medinaberg, OK 56016-1552', 'East Daniellefort, ID 71749-4245', 'Collinsville, SC 82851', 'Aprilfort, MN 24072', 'Stanleyburgh, WA 07016', 'Guerrerobury, MD 77381', 'East Derekburgh, ND 43793-5596', 'Williamschester, WA 41931-6896', 'West Laurie, FL 91687-3587', 'Danabury, ID 56756-0145', 'Bryanton, ND 71386', 'North Amytown, NM 27274-8695', 'Fitzgeraldberg, WI 08145', 'West Ashleymouth, TN 98658', 'FPO AE 71439-9407', 'Lake Clairetown, PA 77596', 'West Christine, IN 98334', 'Reyesview, PW 68088', 'FPO AE 44345-0119', 'North Audrey, OK 05386', 'FPO AP 73230', 'North Christian, TN 58581', 'New Meghan, WA 71783-8143', 'Lake Jonathan, NH 56323', 'Heathfort, SD 91390-8070', 'Allenville, PW 90300', 'Cherylland, IN 22175', 'Murphytown, OH 50187-1031', 'North Christina, DE 50068', 'West Wayneport, MH 30304-9234', 'Nicholschester, SD 40370', 'Burnettfurt, OH 39485', 'APO AE 05332-2402', 'Bellport, MS 82670-3301', 'South Michael, KY 13351-0617', 'Huberburgh, MO 90547-9553', 'Atkinsside, WA 50500', 'Lake David, CT 06886', 'Michaelview, OK 00164-4857', 'Liustad, OR 71668', 'Andrewview, NY 75475', 'DPO AA 30902', 'North Eric, WI 92077-4532', 'Lake Christopher, OK 04397-2119', 'North Taylor, NV 99636', 'Barrettton, DC 75212-8907', 'East Christinefurt, OR 66805-0800', 'FPO AP 14871', 'Lake Jerrybury, NV 90225-2793', 'Port Jenniferland, MD 87173-4829', 'Davisside, CA 83435-0364', 'Lake James, KY 17286', 'West Sharon, UT 51606', 'Parksstad, IN 42771-6269', 'Port Tiffany, MD 80411-8043', 'Wilsonbury, KY 47401-6920', 'South Jasontown, TX 20572', 'Brownview, NM 98855', 'Georgeshire, VA 83084', 'Adamsview, PR 83717', 'Vincentville, AS 27540-3272', 'Codyside, NE 95207', 'Lake Amanda, MS 62810-2464', 'Matthewton, IA 70043', 'West Caroline, VA 41040-3222', 'East Monicaton, NC 26803', 'East Davidshire, PW 60274-7425', 'Ewingfurt, WV 91075-6812', 'Joseborough, PR 76696-1567', 'APO AP 28912', 'Arielfurt, VT 49988-8347', 'Danielleton, GU 02274-1581', 'Justinland, SC 31130', 'New Lori, WI 76161', 'Lake Ricky, MN 53896-2096', 'Davidhaven, TN 97380', 'Gutierrezberg, DE 05330', 'Marilynton, IN 34938-9428', 'Nathanchester, AS 56000-0238', 'West Erin, MO 09594-4514', 'West Vanessa, NC 85335-6851', 'Cannonport, PA 71153-5901', 'DPO AA 76428', 'Traceyfurt, LA 31588', 'East Shannon, WV 79583-1252', 'West Gregory, MT 04666-3953', 'West Robert, MN 42756-3383', 'East Susanview, VT 73748-8130', 'Josephchester, DC 66472-0044', 'Lake Staceybury, NE 91068-8520', 'East Katelynview, MI 10825-3446', 'North Tanya, MA 11229-3420', 'Port Michaelmouth, IL 71537', 'Ashleychester, IN 02878-0101', 'East Carlos, ND 24006-0791', 'Lake Anna, GU 82041-3833', 'Michaelfurt, LA 22609', 'Katherinefort, NE 92321', 'North Cynthia, FL 19202-9244', 'West Jasonchester, CT 06251-9759', 'Port Cynthiashire, UT 58197-9118', 'Harriston, IL 41810-0642', 'DPO AP 65100-0476', 'West Karenmouth, MH 73741', 'Arnoldbury, VI 63132-3223', 'DPO AE 68325', 'West Kenneth, FM 70173-8594', 'Tateville, OR 19410-0443', 'DPO AE 76811-0261', 'FPO AA 28619-5770', 'North Ricky, OK 76842-7978', 'FPO AP 84761', 'North Jasmine, DC 28961-0760', 'West Allisonport, TN 11634-2334', 'Graymouth, HI 13778', 'South Katherineborough, KS 22066', 'Ericchester, TN 24477', 'Browntown, MA 39144-3070', 'Garrisonstad, VT 67980-5474', 'Barnesmouth, OH 79653', 'South Scottton, KS 95914-7684', 'West Dawn, MP 80987-3220', 'Martinberg, KY 42192-6166', 'South Brittanystad, MO 22511-2522', 'Olsonton, WI 83296-0881', 'East Garyshire, LA 01286', 'South Nicole, KY 29768', 'Elliottstad, UT 03084', 'North Amandaburgh, DE 08791', 'Wellsside, WY 48741', 'Port Luisport, WY 56139', 'New Patrick, AS 92805', 'Ashleyberg, VA 00360-7364', 'Jamesbury, CA 17905', 'Port Katieshire, IL 81640-8404', 'Port Kirsten, LA 78616', 'New Jacqueline, CO 84213', 'Randyview, VA 26110', 'Lake Stephanieton, HI 16250', 'Jesseburgh, MN 28580-0632', 'East Victoria, DC 35220-7777', 'Thomasshire, CA 19167', 'North Ronald, OH 95625', 'South Christopher, DC 83232-9702', 'APO AE 44132', 'Buckstad, IN 33369-1773', 'North Troy, PR 25108-5021', 'West Heathershire, DC 14103-3598', 'East Abigailmouth, CO 75216', 'East Christinafurt, WA 28832-9229', 'North Richardview, SC 52089-4919', 'Maryborough, NV 35094', 'Aaronbury, OK 28010', 'South Sharonborough, IL 69416-4860', 'Port Danielleborough, HI 98045-2788', 'North Deborah, IA 88107', 'Marissaside, VA 10147', 'Port Gary, WY 40773-0532', 'Lake Michelle, OK 38565', 'Grahamfurt, SD 63388', 'North Samuelborough, IN 98003-5220', 'DPO AA 62679', 'Richardshire, FM 36385', 'Lake Alexander, IN 90097', 'Angelatown, MI 85680-7551', 'APO AP 59818', 'Shannonstad, MA 34534', 'Chasechester, NJ 96162-4379', 'Millerside, MT 60924', 'Karenchester, ME 18824-1236', 'Marquezville, MN 20305', 'Williamsport, MS 62923-6005', 'Port James, OK 42229-3818', 'Lake Annette, ME 12933', 'West Allison, NY 64334', 'Lisamouth, UT 55482-2907', 'South Danielton, GU 39533', 'Elizabethbury, GU 83239', 'Bennetttown, MI 95170-5129', 'South Sherrystad, PW 74340', 'North Stephanieton, NH 35401-1503', 'South Seth, GU 83042-8433', 'West Valeriebury, CT 94570', 'North Justinburgh, WY 70184', 'Mullinsland, NE 97750', 'Hubbardfort, TX 32436', 'North Diane, TX 13834', 'APO AE 49176', 'New Shawnland, KS 59839-6569', 'APO AE 17450-9053', 'Brownborough, AR 91532', 'Salinasport, MO 74104', 'Sandovalberg, AK 63927-0427', 'Mckinneyberg, MI 33444', 'Montgomeryport, FL 60457-2198', 'Port Peggyborough, GU 56078-8564', 'Davidberg, RI 99205-7061', 'Estradaborough, NH 40106', 'Lewisside, KY 57953', 'Padillastad, MA 37207-5431', 'South Adamchester, IN 71539-7488', 'Ingramburgh, MO 23967-1554', 'South Carla, IN 62296', 'Melissaville, MP 94430-9181', 'DPO AP 65091-3577', 'APO AE 82682', 'Kellershire, NJ 68873-7542', 'Michelletown, MS 57014-3973', 'West Steveville, GU 02435', 'West Linda, IA 67283', 'Port Kimberlyland, AR 23707', 'Port Jacobport, AS 35161', 'New David, MS 50520-8538', 'Frankview, WI 66018', 'Mcmahonport, IA 99324-3105', 'Jonathanview, SD 71285-5217', 'North Jasonfurt, OR 67994-4423', 'Adamsview, VA 56957-9960', 'Collinsstad, RI 77748', 'East Sophiamouth, SD 27058', 'New Kimberlyborough, DE 67521', 'Lake Timbury, TX 85722', 'Lake Christopher, GA 09246', 'Lake Allen, MT 72047', 'Colonport, LA 95955-3267', 'Chambersshire, ME 69563', 'North Joshua, NJ 70635', 'West Latoya, CO 81571-8710', 'Alvarezview, MT 72082', 'South Thomasshire, OR 14654', 'FPO AP 08459-0719', 'Rachelbury, WY 60943', 'Valeriebury, AZ 96799-4795', 'Joelhaven, MA 29639', 'DPO AA 10955', 'Andrewtown, KY 41233', 'North Kevin, AZ 87146', 'Lake Jennifer, DC 85154', 'Anthonymouth, IN 34062', 'Charlesberg, OH 33137', 'Bakerville, SD 40866', 'Brittanyshire, NJ 19481-7658', 'North Tyler, IL 81930', 'Donaldberg, NH 44190', 'Jonathanbury, MI 18677-2405', 'DPO AP 57852-8508', 'Nicoleport, VT 37604-0248', 'Manningside, MA 58972', 'Port Tylermouth, KS 00622-4564', 'North Wendymouth, FM 73767', 'Hughesborough, MS 51862', 'DPO AE 57810', 'FPO AP 67990-6855', 'East Russellmouth, AL 36775-2638', 'Cheyennechester, NM 45297-5228', 'FPO AA 97030', 'Kimville, TX 38356-9719', 'New Jennifermouth, PR 19498', 'Zamorafurt, GU 66579', 'DPO AE 86310-8698', 'Robinsonmouth, GU 99851-4011', 'Karenfort, AL 41285-0143', 'Williamsfort, AR 04033-9918', 'Kirkshire, WY 39107', 'Port Katelynchester, LA 57144-8259', 'South Jeffreychester, WI 94105-9295', 'Mollyport, AK 44811-8095', 'Juarezport, OR 83733', 'APO AA 89838', 'Colleenport, NM 31592-5032', 'New Laurenbury, GA 91091-4353', 'North Susan, ID 23300', 'Jillstad, IA 21280-8165', 'Christinaburgh, OK 79572', 'East Kimberly, MS 36461', 'FPO AA 60918', 'New Manuel, NE 20516-7507', 'Port Larrychester, NE 24085-7161', 'Port Staceyberg, VA 40911-0337', 'Port Jason, MN 67672', 'South Joseph, CT 07688-3813', 'Matthewmouth, ND 66877', 'East Jeffreyshire, OH 06998-9930', 'Port Seth, UT 98405-6588', 'Warnerport, CT 34831-0820', 'Tammyview, TX 20289', 'South Deborahmouth, MA 50627', 'North Katelynmouth, OH 14510', 'Jasmineland, UT 82929-2936', 'Richardmouth, PA 16381-9282', 'Port Darren, IL 51842-5682', 'Castillohaven, RI 44975-9034', 'Lake Edward, FM 85808', 'Lake Katherineville, MI 07940-4286', 'Sarahshire, TN 88894-1090', 'North Loriside, HI 90662', 'APO AA 84455', 'Lake Leslie, KY 06569-7910', 'Wongbury, SC 60268', 'Lewisport, VA 82776', 'New Staceyville, AL 77840-1927', 'Port Ianport, NE 80183', 'Lynnstad, FM 06435-7232', 'East Mark, AK 64190', 'South Karen, KS 76654-9243', 'FPO AP 61349-9468', 'Kleinfort, TN 26624-3469', 'New Howard, TX 30144', 'Lake Mary, WV 10610', 'New Joshuastad, ID 05392', 'DPO AP 93389-0125', 'West Lorraine, GA 90758', 'South Catherine, SC 07163', 'East Trevormouth, MN 70379-9628', 'Clementsport, MP 78826', 'East Jacob, CA 65413', 'West Donnaburgh, DE 19633-6063', 'Davidsonville, PR 86858', 'Montgomerychester, MO 60768', 'Burnsfort, AL 87881', 'Port Johnmouth, NE 50019-6886', 'Gallegostown, MD 36169', 'East James, MI 98044-7856', 'Robertside, KY 53619', 'New Felicia, NM 07523', 'FPO AE 22417', 'Garciaburgh, GA 63314', 'FPO AP 49380', 'Nguyenmouth, GA 87473-7584', 'DPO AE 44963', 'Nicolemouth, GU 35434', 'Lopezchester, MH 76931', 'FPO AE 74379-7138', 'Atkinsonmouth, LA 88128-9040', 'Kevinside, WA 07925', 'New Tanya, SC 41055-0305', 'Davidshire, VT 54733', 'West Ronald, AL 87671-6135', 'Brooksport, CT 91240', 'Stephanieton, FL 61769-6794', 'Lake Ashley, OR 81912', 'Tinabury, VT 69713-4029', 'FPO AA 96735-0763', 'Leeside, CO 27911-7089', 'Josephberg, GA 66016-6908', 'North Tiffanyfort, DC 28501', 'East Ashley, GU 71052-2188', 'South Garyburgh, DE 52487', 'Hensleyland, NC 12535', 'Johnbury, DC 77971-4619', 'New Valerieberg, IN 24230', 'Lake Rachaelchester, TN 23079-6650', 'North Mary, VT 01837-7658', 'APO AP 39400', 'Williamsview, FM 58758', 'Debrafort, IL 34297-4867', 'South Josemouth, SD 83663-3413', 'East Michaelside, DE 91260-8323', 'Tiffanyborough, NJ 59874', 'Banksview, VT 62470-6977', 'Lake Stacyshire, NE 25955-2308', 'Davismouth, NE 55867-0973', 'Orozcoville, IL 93327-1981', 'New Kimberlyfort, TN 88640', 'New Susanside, WI 21196', 'West Carly, WV 33983', 'Kathleenhaven, AL 73693', 'Stevenport, KY 45694-2395', 'Butlermouth, IN 29187', 'Austinshire, OH 39898-5331', 'Hineston, FL 55892', 'DPO AA 36548-9176', 'Christinaburgh, KY 52933', 'Padillamouth, AK 72972-4551', 'Evanschester, NY 62341', 'West Juliehaven, GU 84851-7166', 'FPO AE 96158-4679', 'North Johnport, MA 11372', 'West Richard, OK 68233', 'Stephanieshire, NY 63229-2478', 'East Stevenville, MA 36496', 'Laurieshire, ME 68533-3663', 'Ericport, CA 59316', 'New Steven, VI 56204-3194', 'New John, WI 34660', 'FPO AE 74737-2918', 'Cooperfurt, FL 23835-5841', 'East Justin, MT 68266', 'East Juanland, AZ 60790', 'North Audrey, AZ 04363-0913', 'Gillside, AZ 62937', 'Stevenbury, KY 91300', 'Port Rogerberg, OK 27962-5231', 'Cassandraport, WI 70523', 'Roberttown, KS 39950', 'Christinaton, DE 48205', 'DPO AE 09658', 'FPO AE 78902-0715', 'Vanessamouth, MP 12924-0251', 'Jessicaview, GU 74128', 'East Tracichester, FM 41408', 'Leslieport, WY 14692', 'Howardfurt, MN 15904', 'Smithville, SC 96125-9024', 'West Mark, VA 43382-8111', 'Millerside, FL 28725', 'DPO AA 82069', 'New Julie, NY 69102', 'Lydiashire, OH 14525-4403', 'East Donald, LA 54008', 'Katherinestad, MH 96677-4715', 'New John, MO 60974', 'South Robert, AR 47420-4991', 'Bryanburgh, AR 85968', 'East Pamelastad, HI 95893', 'Butlerberg, AZ 93348-9767', 'Mccannview, IL 91770', 'Gutierrezside, MH 02278', 'South Shannon, PA 26333', 'North Richardstad, ND 69006-6808', 'West Jonathan, AZ 20829', 'FPO AA 61423-8670', 'Adamhaven, FL 90718', 'APO AA 57159', 'Gouldville, ND 34180-6287', 'FPO AA 45311-5701', 'Bryantown, AL 26462', 'Emilyland, MP 55694', 'Lake Andreaview, CA 16833', 'Moniquemouth, WA 18628', 'North Veronica, LA 13077-7129', 'Sandovalland, NJ 68704', 'Gonzalesborough, PR 77884', 'South Juanport, GU 60058', 'APO AP 94869-0746', 'Lake Frank, NJ 80726-0483', 'Billyland, FL 74609', 'Christineburgh, ND 06300', 'New Michelle, AL 72494', 'Port Mariafort, NV 90740', 'Watkinsshire, NE 69474-2127', 'East Mary, NM 61589-8091', 'Hodgeston, WA 03755', 'Wernerbury, IL 60921', 'Kevinshire, MD 69882', 'East Kelseyport, DE 66874-2943', 'South Julia, NM 84899', 'Port Margaret, GU 67322', 'Bentleyshire, IN 06799-9053', 'Dannyland, DE 84315-4350', 'Deannafort, AL 94097-4514', 'Davidville, NE 67388', 'East Amberberg, NY 70047-7365', 'Johnberg, CO 27193-0079', 'South Markberg, NE 49825', 'Geneshire, GU 25597-6641', 'APO AE 76349', 'Heathermouth, VA 53491-4837', 'Watkinsbury, OH 29757-3635', 'East Colin, MD 62622-8672', 'DPO AA 32148', 'West Kara, IL 19071-5078', 'South Russellside, MN 47598', 'East Danielle, NY 02125', 'Lake Mark, VT 89656-1372', 'New Chelseaville, SD 39482', 'FPO AP 84604', 'Gonzalezview, WY 90756-4263', 'Brookefort, OH 61661-9485', 'Petersonview, MT 95861', 'North Lisa, AZ 80100-6646', 'Shannonfurt, IA 29955', 'West Davidfurt, NE 83057-8557', 'Jonathanmouth, OK 18359', 'South Andrew, VT 91988', 'West Kaylastad, WY 42793-0307', 'Averyshire, MS 98224', 'East Bethany, AR 46807-8183', 'Harrisonton, NH 97852', 'South Richard, NJ 83173-9962', 'Port Danielburgh, AZ 34355', 'South Lori, NV 10326-1054', 'Kennethstad, PR 56385', 'Nicholasborough, MS 76961', 'Buckborough, ID 73832', 'North Douglasfort, MO 52507', 'Robertsonstad, MI 36075-5741', 'Rojasside, KY 46664', 'Ariasland, SD 52630-5212', 'Chandlerport, TX 40049', 'North Madelineland, MN 85905-7927', 'Robertsfort, VA 90251-7664', 'FPO AA 53370-1758', 'FPO AP 00484', 'South Kathrynshire, IN 61674-7121', 'New Kimberlybury, MH 04334', 'Elizabethton, MN 84599-0578', 'East Jacobmouth, FM 47798', 'Melissahaven, LA 78621', 'North Kristinberg, AZ 79448', 'Sarabury, IL 71896', 'North Ian, GU 91772-9544', 'Cochranchester, PR 09069-3135', 'APO AP 48458', 'South Nicholaschester, NY 47584-5955', 'Edwardsstad, KS 99645', 'North Rebecca, MP 93095-5357', 'Beckstad, GU 27370-7423', 'Lake Brian, ID 44748-2012', 'New Karen, MD 94991-2002', 'New Markshire, CA 98115', 'Port Timothy, MS 28892-5598', 'West Brian, IN 80835-6955', 'Hoopermouth, OR 94949-4346', 'New Jenniferhaven, IL 37913', 'North Lisa, NY 95640-6024', 'Kennedymouth, CO 46084-1358', 'Amandamouth, LA 65867-3535', 'Edwinberg, DC 77337', 'East Johnhaven, WV 12578-5561', 'New Tanya, MO 26789-8710', 'West Matthewburgh, MI 73155', 'Christopherbury, VA 89556-8621', 'Port Andrewland, OH 79835', 'Stacyhaven, CT 82973-2072', 'Kylehaven, RI 92088', 'Lake Melissa, DC 18071-0272', 'Mooreview, NJ 52329-7519', 'Larryview, NE 78592-5823', 'West Craig, MI 65307', 'Port Stephanieberg, ND 56793', 'Brewerborough, PW 55563-5751', 'Bushhaven, ME 65662', 'Dunnmouth, MS 94475-9810', 'South Donshire, MD 97169', 'Port Brittanyside, CT 81118', 'FPO AA 65570-1981', 'Alexland, AK 05521', 'Blanchardmouth, PA 23824', 'Michaelview, AS 63065-8757', 'Crystalshire, NE 46964-3440', 'South Davidchester, MP 66624-2587', 'Davidton, RI 02859', 'Donnamouth, UT 61678-5704', 'Leeberg, RI 43961-2060', 'Alexisside, LA 24093', 'Christopherstad, SC 07665-9037', 'Phillipsshire, WV 17695', 'Port Matthew, TX 85582', 'Port Sonia, MO 99587-6354', 'New Joseph, MH 70496', 'Vincentfurt, MS 65562-5283', 'FPO AP 88305-9187', 'Vaughanview, OR 53056', 'Tracyville, MS 25650', 'Andersontown, CO 15518-2545', 'Deanstad, AK 34864', 'Salinasstad, VT 17324-5801', 'Onealmouth, DC 36119', 'Sheriberg, HI 10612-0102', 'East Nicholasburgh, MI 59539', 'Arnoldshire, AZ 57893-5832', 'Marychester, SC 97268', 'East Adrian, MT 52071-0639', 'East Ashley, MA 15550-6377', 'Kimberg, VT 29232', 'New Brandonfort, DC 34662-5333', 'East Kristenburgh, UT 74487', 'North Charleschester, IA 99755', 'Port Mary, CO 02102', 'Goodmanbury, OH 71913', 'Michaelview, UT 38230-9272', 'Port James, LA 69221-4243', 'Port Nicole, TX 75903-5950', 'West Tony, NY 69365', 'West Julie, PA 05439-6091', 'Lake Natashashire, NE 10973', 'Stevenside, IL 72187', 'Port Maureenton, AK 70008-1762', 'Russomouth, AR 83930', 'Melindabury, OK 63979-5988', 'Clinefurt, HI 85853-2402', 'Tiffanyfort, FM 47355', 'West Karen, MH 34042', 'East Patrickborough, KY 41599', 'Michellefort, KS 95918', 'Cookfurt, ID 84624', 'FPO AP 84758-0245', 'APO AA 62613', 'Port Joshua, ND 21648', 'North Jayhaven, LA 83023', 'APO AA 74372-2883', 'Lopezmouth, OR 00850', 'New Matthew, DC 48602-6064', 'West Judith, IN 13641', 'South Jenniferland, KY 77429-0386', 'Duncanside, MI 86995-3102', 'Fernandezshire, AK 19986-5072', 'Chapmanburgh, NM 22261-2035', 'Brendatown, AZ 78809-0999', 'Lake Georgemouth, OH 74433', 'APO AA 82126', 'Barryport, CT 36310-7179', 'Port Shannon, AS 60277', 'Frankshire, VI 46982-4576', 'Derekberg, KY 77496-9751', 'Smithton, AL 96745', 'Lake Gregoryshire, HI 60267', 'New Stevenstad, UT 73434-4974', 'FPO AA 46601', 'North Robertton, AS 43153', 'FPO AE 36896-5919', 'South Brian, CT 50166', 'APO AE 25615-0900', 'Toddport, MN 31095', 'West Kimberly, MS 27914', 'Richardstad, MT 38781', 'Romantown, AL 15977-0442', 'West Robert, AZ 69359', 'Jonville, DE 37992-8552', 'East Bobbychester, MI 75471-8887', 'Fernandoport, MP 40164-1720', 'Shortland, SD 64926-8296', 'Marthaborough, KS 52821-2523', 'Austinburgh, OH 57848-9395', 'DPO AP 49434', 'South Laurastad, ND 37599', 'Lake Oscar, SD 09937', 'Joshuahaven, NJ 61021', 'North Alexandraview, MD 23855', 'DPO AE 40792-0792', 'West Jomouth, MT 03427', 'Lake Kevinfort, MH 40258', 'Christiemouth, NE 35543', 'New Gregoryville, ME 23793', 'Weavertown, AR 10413', 'Sarahburgh, GU 68004', 'South Joshua, GA 31409', 'Foxland, NV 38613', 'Adambury, UT 30111', 'Bassside, AS 53368-2196', 'Ashleyburgh, CT 52660', 'East Thomas, MP 29298', 'North Kennethchester, PA 67461-9661', 'Amandaville, GU 37093-9400', 'South Alanshire, WY 65658-5841', 'Cummingsberg, NM 24516', 'FPO AE 77602', 'Bryantton, CO 76041-0639', 'Williamsonberg, MO 07089', 'Port Brendaland, CO 15197', 'South Jessica, PA 51463-6950', 'Fordland, FL 74775-2546', 'Huntfurt, RI 25704-8481', 'Michaelport, ND 68745', 'East Christina, NV 36023-3431', 'South Alan, NY 44686-8829', 'Jeanton, OK 53946', 'Shawfurt, GU 97591-6490', 'Deborahview, ID 06062-1191', 'Crystalfurt, IL 10547-7173', 'Pattersonberg, AL 91146-7775', 'Lake Tony, NY 05606', 'Nicoleview, SD 33738-0191', 'FPO AA 74725', 'Carolynberg, VA 74707', 'Kennethfort, KY 66327', 'East Stevenland, TX 41310', 'Lake Kristenburgh, CA 39801', 'Patriciaberg, IA 29424-9623', 'Kimberlyshire, GU 39917-0152', 'Smithville, MH 19392-6412', 'Kellyside, ID 42041', 'North Jesus, AS 37342-9751', 'North Lindaville, VI 99688', 'FPO AA 02679-5689', 'Nguyenborough, NC 38005-1050', 'Martinezborough, IN 50000', 'South Matthewborough, NJ 89881', 'Strongton, VA 38893', 'APO AE 84281', 'Johnmouth, VA 90102', 'APO AA 50489-4427', 'Lake Sheila, OK 00834-5775', 'North Christophermouth, NE 48483-1442', 'Gentrytown, MD 77676', 'Leahstad, TX 29670-4461', 'Port Mary, LA 43895-7257', 'North Jeffreyborough, PA 66748', 'APO AE 56262', 'New Darrellview, NM 85693-1736', 'Port Cathyside, ME 34166-0132', 'FPO AP 69692', 'Port Troyhaven, FM 56837', 'FPO AA 79651', 'New Lisaside, MI 92286-9433', 'Carmenfurt, VT 53906', 'West Chase, NC 60049-0645', 'South Ryanmouth, DE 44340', 'Kyleton, AR 58566-5621', 'West Alicia, MI 56685-2380', 'Jeffreyburgh, GA 90771', 'Lake Joseph, OR 06588-8797', 'APO AP 72947-9628', 'Antoniomouth, HI 12806-7266', 'New Roberttown, WA 07211-8762', 'APO AA 41584-3622', 'Wilsonchester, MT 27473', 'Martinburgh, MT 41177', 'DPO AA 54705', 'South Aaronborough, WI 19349-9757', 'East Matthewmouth, TN 71861-6319', 'North Larry, ID 51296', 'West Heather, ID 49211', 'East Wendy, UT 08784-8239', 'Whiteborough, CT 87008-0402', 'Rogersshire, ME 28830-8921', 'Josephview, MA 92779-6662', 'Scottshire, MA 86812-1861', 'Masonland, OH 12987', 'Petersonfort, OR 83665', 'South Karenfurt, AL 47724-7760', 'Hicksland, SC 77008-9209', 'Mcleanport, PA 86805', 'Greenbury, WI 91276-0346', 'North Chasetown, GU 62357', 'Chapmanmouth, RI 85731-2255', 'Samanthaburgh, OK 64160-5541', 'Shelbystad, UT 27501', 'APO AP 28493', 'FPO AA 43649-1893', 'Lynnshire, NC 83294-4804', 'North Amber, DC 93748', 'West Jasonberg, PA 30956', 'DPO AA 91775-6852', 'Daniellebury, WI 06049', 'APO AE 73430', 'Gomezstad, NH 48123', 'FPO AP 39142', 'Salinasfort, OR 53877-4267', 'Brownburgh, NM 92521-4124', 'Cartershire, NC 82929-1041', 'New Amyshire, KY 70651-2966', 'East Brendaville, NC 08689', 'Jonesborough, NM 97927', 'North Karen, PW 02982-7846', 'Taylormouth, SD 14667', 'DPO AA 18318-6109', 'South Davidfurt, MP 49129-9503', 'APO AE 46820', 'Aaronberg, HI 66008-8580', 'North Brenda, VI 95161', 'Port Jackborough, TX 42754-8619', 'Alexmouth, LA 22246', 'Harveystad, VI 29375-3726', 'Port Charles, CA 38269', 'Edwardport, FM 81015-7307', 'South Thomasbury, NM 73947-3435', 'Rachelport, FM 60462-6623', 'East Stephanieburgh, MN 68081', 'Knightfort, TN 47663-5001', 'East Sandra, MA 67391-6972', 'Lake Jenniferfurt, PW 52439', 'West Marcus, FM 14768-4079', 'South Jon, PW 69252-2681', 'Port Andrew, VT 16432-9135', 'Steveton, AZ 92285', 'DPO AP 88852', 'Port Jason, MO 71699-7477', 'Millermouth, IN 67939-9639', 'Patriciaview, GA 57597', 'Joeburgh, WY 76237-8977', 'East Robinchester, WV 77718', 'East Danielland, HI 03252-6464', 'North Emily, WI 26740', 'FPO AP 21275', 'Josephburgh, IA 25596', 'FPO AA 07065', 'FPO AE 72594', 'Hallmouth, ME 52705-6457', 'West Brandon, PW 07487-9904', 'West Cory, PR 35359-9079', 'Phillipsberg, OK 85163', 'West Lisatown, HI 54243-3440', 'Jessicaport, MH 44061', 'Alexanderport, TN 32519-8521', 'Port Lisachester, OK 32903', 'Gardnerburgh, MP 91589-9726', 'North Erin, AR 00934-8650', 'Port Matthew, NE 74887', 'Port Michael, OH 62328-6328', 'South Heidi, DE 92809', 'Chandlerview, TX 89287-8685', 'Port Colleen, PW 76332-1744', 'New Rebeccatown, AS 24105-2384', 'South Jenna, TX 35776', 'DPO AE 51767-2366', 'Marytown, NC 61057', 'Sarahshire, MI 37710-8022', 'North Allison, NV 01942-2914', 'Joshuaville, MT 11328-4143', 'Sandersburgh, TX 07931-0591', 'Smithmouth, AK 47239-2228', 'West Scott, ND 84226-4430', 'Kathleenstad, NH 70281-4202', 'North Clayton, SD 31784-8280', 'North Christophermouth, FL 30385', 'Martinborough, NC 04514-2585', 'Meyerport, KS 32334-6586', 'Bennettchester, MP 35450-9947', 'Burtonstad, IA 99972-6931', 'North Stephen, GU 36942-4885', 'Morganchester, SD 63083', 'Smithland, WI 17529', 'North Jameshaven, DE 64126-7821', 'North Lindsey, DC 20956', 'West Brian, SD 21090', 'Richardsport, VT 50473-9001', 'Franklinchester, MT 96407', 'Port Kristy, WA 33392', 'South Jason, FM 79281-6866', 'East Josephchester, MN 00307-8576', 'South Jacquelineshire, ME 75494-4722', 'Chelseaport, UT 08834', 'Williamberg, HI 94685-5629', 'Lake Robert, AS 27698-2480', 'Lake Josephtown, MO 38832-8878', 'Josephton, NE 91925', 'Angelaville, GA 51083-5763', 'Port Tamara, PR 70841-5526', 'South Hannah, ND 34025', 'West Holly, WV 38470-4186', 'Greenemouth, MN 37932-3294', 'Gregoryfurt, TN 82754', 'West Susan, MI 13812-1020', 'East Emily, KS 57482-2498', 'Davidville, FL 93552-5338', 'Port Thomasland, KY 16502', 'Danielfurt, MN 76472-3770', 'Goldenville, MT 72159-5726', 'New Javierberg, NV 16022-1938', 'North Sarahville, KY 43180-6940', 'Port Danielleburgh, PA 98714', 'Port Jeremy, KY 45574-2216', 'Robertchester, IA 40405-0504', 'Blackwellbury, VI 64116-8275', 'Danahaven, MA 49005', 'North Luke, GA 17395-4007', 'DPO AP 40883', 'East Allison, RI 28204', 'Williamsport, WA 95951', 'Hicksshire, ND 26019', 'North Richardberg, CO 40226', 'FPO AE 44169', 'Fisherport, MT 21107-8534', 'Lisachester, VA 67421-2539', 'Rossfurt, AZ 09449', 'Port Lucaston, NH 82431-8720', 'APO AE 94374-1248', 'Lake Rachelburgh, MO 57053-1155', 'New Willie, UT 93661', 'DPO AE 53291', 'West Kathryn, NY 24450-3206', 'North Jonathonside, CA 48685-3946', 'Margaretton, IL 32966', 'Port Alyssa, WV 43866-2848', 'Brownberg, CO 30548', 'South Carolville, AK 46674-8497', 'Michaelside, CT 94766-8501', 'DPO AA 91141', 'APO AA 16602', 'West Angelicamouth, OH 75371', 'Kimberlyfort, LA 40102-9867', 'Lake Samantha, MS 12820', 'South Noah, SD 89218', 'North Michaelside, MP 84965', 'Blanchardshire, GA 51998', 'Alexandermouth, ND 57779', 'FPO AA 46813', 'North Corey, IL 04055', 'Reyesberg, ID 51518', 'New Alexis, IN 90049-5470', 'West Riley, WI 23832-1422', 'Salazarside, AL 19502-4682', 'Brianville, AK 32981', 'Hickstown, NH 53989-5588', 'APO AA 20470', 'APO AA 13870-8171', 'APO AA 85473', 'South Kristaside, CA 14710', 'Thomasport, GU 74595-3903', 'Lake Brendashire, NE 03845-7942', 'Laurenborough, GA 20259', 'North Robertmouth, IA 68137-0838', 'Dudleyfort, PW 36140', 'North Kimberly, OK 24920-8645', 'Jeremyville, MA 32632-2654', 'South Jamesmouth, SC 00762-4450', 'Lake Jasmine, HI 98216-4748', 'Jordanview, MI 95331-1604', 'South Lisabury, NJ 62364', 'Lake John, UT 31770', 'Port Andrew, NV 01079', 'East John, GU 37109', 'North Tommyton, WY 79099-6009', 'New Debra, IL 09574', 'New Kathryn, NH 33040-5127', 'Evantown, NC 85488-4306', 'East Marietown, WV 05231-6857', 'Port Carrieshire, LA 08771-9810', 'FPO AA 74769-0342', 'East Claireland, WA 46595-0741', 'Evanfurt, WI 89389-6210', 'New Janice, AL 53432-9841', 'New Brianmouth, NY 39629-1620', 'West Melissa, MS 25289-3224', 'South Nicholas, GU 41356-6332', 'Port Joseph, MA 15535-7191', 'West Jacobshire, UT 99662', 'Maysfurt, HI 73926', 'Port Joel, TX 68862', 'Lake Christinechester, MN 69773', 'Lake Vincentfurt, IA 79394-3666', 'East Stacy, MH 92725', 'Holdenton, MO 26586-8244', 'Port Larryville, MT 49021', 'Lake Michelleville, MA 95610', 'Robertstad, DE 70798', 'West Sabrinahaven, SC 26944-4910', 'Lamberthaven, AR 36069-6167', 'West Daniel, DE 34733', 'Lake Arthurborough, AS 27692-7206', 'North Hollyburgh, WI 05753-3986', 'Richardsonchester, PR 55240', 'Port Carlabury, GA 64069', 'New Leroyshire, HI 31260-9923', 'West Laurashire, LA 72150', 'New Williamburgh, WI 99140', 'APO AP 85899', 'Port Henry, DE 40842', 'North Deborahburgh, OR 42909', 'Lindsaymouth, NE 24349-0488', 'Port April, OH 93290-6834', 'East Breannaton, VA 79397-5860', 'Lake Daniellestad, IN 42545', 'South Debrabury, MI 12839', 'Cortezhaven, ME 14097-3315', 'Norrisland, AZ 62078-3739', 'New Stephanie, FM 56217-6206', 'Baldwinland, AK 57237', 'North Donburgh, OK 39669', 'Rogersport, NV 61059-8865', 'Bergerfurt, NC 15580-5441', 'Johnfort, ME 58884', 'New Richard, OH 46319', 'Lake Marcialand, TX 90004-7156', 'Matthewbury, DC 05254', 'East Bruceshire, WY 96408', 'Alexburgh, OK 09271', 'New Roberttown, VA 17329-5074', 'DPO AE 68542-2008', 'West Edwinstad, WV 45014-6020', 'APO AA 46946', 'Port Becky, NY 42776-5025', 'Joelport, OR 96203-3217', 'APO AP 93044', 'Mcdowellside, PA 20358', 'West Mary, LA 23834', 'East Daniel, PA 37899-9523', 'New Ericfurt, IA 07112', 'East Brittany, NY 60473', 'Moniquemouth, MP 97118', 'DPO AA 84098', 'DPO AA 32000', 'West Robertside, NM 56475', 'Farleyview, OK 34381-6999', 'East Jefferyfort, OK 42534-6471', 'East Lisa, PA 80155', 'Porterville, ID 63454', 'FPO AA 17082-9588', 'Brittanymouth, ND 83070-7865', 'Williamhaven, CO 55473', 'South Josephfort, OH 79576-3487', 'Annamouth, PW 44280', 'Port Debbie, UT 33510', 'DPO AA 77851-4397', 'Port Suzannestad, PR 35176', 'North Jamiebury, GU 27977', 'DPO AA 59955', 'Jacquelinehaven, MD 09840-9998', 'New Sheryl, FM 51033', 'Cardenasview, NC 44530', 'North Adam, AR 81654', 'Deborahhaven, OH 68256', 'East Sean, ND 25047-3039', 'New Kevinview, AS 20982-6227', 'West Madison, DC 99989-4103', 'Valenciafort, NM 75868-5023', 'Leeborough, VT 73485', 'Kennethfort, WV 13606-7075', 'DPO AP 07464-3406', 'APO AE 31086-6640', 'West Kevin, AS 15672-4800', 'Tylerbury, NY 30504', 'New Timothybury, CA 14486-4596', 'Jessicamouth, IN 55569-5931', 'New James, VT 73805-3854', 'Cookburgh, VA 93116', 'North Andrew, IA 58461', 'Port Jenniferberg, MH 83838-1210', 'Myersbury, NJ 85095-5060', 'Lake Elizabeth, ND 44548', 'Manuelstad, NJ 06399-8490', 'Lake Stevenville, AS 41733-5352', 'Lake Jessicachester, IA 64137-8387', 'Port Thomasborough, MS 02927-8640', 'Port Carlosstad, ME 81599-5651', 'East Chad, OK 10140-6632', 'APO AE 71780-5009', 'West Thomas, AL 63220', 'Matthewton, PW 88878-9848', 'Kristaton, DE 07073-5611', 'New Tonya, VT 87883', 'New Alexander, NH 99886', 'Foleytown, OK 41141', 'Darlenestad, PR 25811', 'Huangland, IA 01242', 'Port Brandyview, AL 41518', 'Ellenfurt, PW 42672-3136', 'East Robintown, NC 49498', 'Baxterhaven, NH 27115', 'New Shane, MI 37002-7573', 'Port David, OR 90557-4698', 'Port Annaburgh, ID 16828-6481', 'East Joseph, AK 09199-1914', 'Lake Charles, FL 96293', 'Guerreroburgh, MA 24294', 'New Staceyshire, TX 86313', 'FPO AE 69903', 'Ashleymouth, ND 26595', 'East Taylor, OK 24778-2378', 'Port Allenbury, MS 27607', 'Rodriguezberg, MH 98017', 'Blakeview, WA 33784', 'Cathyland, TX 81648-3242', 'Aguilarland, MO 95985', 'West Andrewview, CA 57736-5669', 'Michaelmouth, FM 84962', 'Williamsfort, NV 08346-3010', 'Thomashaven, MO 02207', 'Brianhaven, NM 05635', 'Nathanberg, VA 30348-1606', 'New Michaelport, GA 28746-5966', 'Christensenborough, MO 21303-3504', 'New Nicole, MS 83916-9652', 'Alexanderside, MI 06586-6037', 'Olsonton, MD 97980-7025', 'DPO AE 63996', 'Lake Michellefurt, MO 19185', 'Scottton, CA 35799', 'Michellefurt, MO 55493-7726', 'Port Blake, ID 78071-7206', 'North Anthony, MS 26234-8124', 'Richardchester, DC 95826', 'Watersview, IN 23864-4168', 'New Lauren, IN 78818-0022', 'Hoodshire, NM 56769-5455', 'Olsonfort, PR 42737-3822', 'Fletcherville, FM 11404', 'East Nicole, ND 32805-3760', 'Brownton, GU 32886-6900', 'North Jason, FM 78402', 'Christyland, MO 11000-1430', 'South Christophershire, PR 59771-1651', 'Mclaughlinborough, OK 38420', 'APO AP 28196', 'FPO AP 08769', 'Port Nicholas, MA 07353', 'Amberland, RI 48384-8566', 'Gamblefurt, CO 31477-5548', 'North Joseph, ME 93313-2537', 'East Shannonland, HI 53312-1726', 'Markmouth, IN 91104-9758', 'Jefferyberg, NH 38328', 'North Josephshire, MH 62971-7674', 'Lake John, FL 43555', 'Lake Lori, VT 96312', 'Christophertown, CA 97338-2426', 'New Ericchester, FL 44640-9252', 'Port Don, RI 23820', 'FPO AA 60146-8106', 'Johnshire, GU 39221', 'Port Jennifer, OK 91266', 'North Jeanette, WI 16894-6620', 'Charlesmouth, PA 12757-7878', 'Gravesmouth, TN 13035-8269', 'FPO AP 53323', 'Lake Marciamouth, OH 69530-5024', 'Lake Rose, TX 01776', 'Thomasmouth, HI 73708-6559', 'New Danaberg, RI 19799', 'Jonesfort, MH 08157-7083', 'South Melissa, CA 82348-6348', 'Jessemouth, NE 63904', 'Davisview, MO 66345', 'Garciaburgh, IN 38863-1765', 'Merrittbury, AS 47809', 'Christopherberg, UT 37093', 'North Bobby, PW 48245-3014', 'North Reneestad, VT 20890-3730', 'Port William, IA 71873', 'DPO AP 40640', 'Rodriguezland, DE 09997-1021', 'New Lisa, FM 38214-6178', 'Davidsonhaven, WY 33925-2459', 'Port Melinda, PA 73537-2284', 'Port Aprilstad, AS 08005', 'Edwardsstad, OH 89516-4794', 'DPO AP 59681', 'East Emma, VA 03733-4170', 'Joshuafort, CO 48304-5880', 'South Josephtown, MN 32946', 'FPO AA 70076', 'East Christianville, WY 76686', 'Clarkborough, MO 71914', 'New Michelleborough, WV 24268-8683', 'Port Keith, VA 80809', 'West Jeffreyview, ME 13035-5854', 'East Richard, MP 69145-2326', 'FPO AA 65492-7228', 'Neilland, IL 40407', 'Port Matthew, MN 69112-7004', 'West Matthew, TX 02902-3581', 'Port Timothyberg, MS 80455-5427', 'Lanemouth, OR 49432', 'Kingview, MA 00689-4705', 'Port Kennethville, FM 58422', 'Kristinashire, RI 38231', 'Vazquezfort, PW 27312', 'Jennifertown, PW 47261', 'Elizabethstad, IA 77627-5234', 'DPO AE 61231', 'New Katherineton, OR 54277', 'Port Amy, NC 28150-6291', 'East Heather, AK 49274-2640', 'Richardsonchester, OR 20535-4560', 'West Rebeccaport, MS 37254', 'West Anthony, VA 58934', 'Melissaland, TX 63704-8729', 'South Sarah, ND 33659-6734', 'Lunafurt, FL 70678-5139', 'Cynthiafurt, IL 83098', 'Flowersfort, DE 95607', 'Waltonside, CA 81957-8915', 'New Nicholehaven, KS 16741', 'Hoffmanport, MN 83454', 'South Cassandraburgh, AK 29833', 'Hollyborough, TN 60032', 'Jasontown, NH 71994', 'Angeltown, ID 16902-5142', 'East Williamshire, MI 45548-5315', 'West Donna, MD 10261-3561', 'Port Emilybury, FM 51150', 'South Josestad, IL 91432', 'Avilaton, PA 17089-7225', 'Deniseland, MO 01264', 'Warrenborough, PW 18980', 'Fischerview, NY 27017-1359', 'Swansonton, VI 02880-4927', 'Lake Marc, NM 56060-8708', 'Newtonborough, AL 02663-1084', 'Murraymouth, FL 94296-8379', 'Christopherburgh, NM 32197', 'Brownland, SC 27143', 'South Lindsayfort, KY 46709', 'Kathrynland, DE 39602', 'East Lauraport, CA 80651', 'South Jasonchester, IN 48313', 'DPO AA 60431-7818', 'Lake Luisbury, AZ 98355-7245', 'North Jessicaborough, FM 21168-1978', 'New Richard, PA 14828-0201', 'Austinfort, NJ 72675-4589', 'New Carrie, CA 59152-5736', 'Saundersland, CT 88192', 'East Nicolemouth, FL 44286-6762', 'Hatfieldfurt, NY 23873', 'FPO AE 55109', 'DPO AA 72399', 'Port Curtis, AZ 05188', 'Joannberg, OH 06034', 'Harrellfort, NC 21836-9924', 'Lambertchester, PW 76810', 'New George, GA 21037-4111', 'DPO AP 18074', 'Fosterberg, WI 71392', 'Lake Robertshire, MN 86622', 'Dannytown, LA 95505-3099', 'New Ashley, ND 80433-7740', 'North Melissachester, NM 76673-2500', 'Dianestad, NC 60001', 'Sarahberg, IA 52526-1002', 'North Anitaton, NJ 95026', 'Maryside, NE 15346-2597', 'APO AA 52601', 'Callahanmouth, SD 18566-2784', 'New Williamtown, AL 63784', 'Williamview, CT 43341-8573', 'APO AP 35298', 'North Lisa, NC 31556', 'Johnsonfurt, AR 89807', 'East Laurenshire, VI 63253', 'North Haley, GU 73562-3649', 'DPO AP 60961', 'East Gary, NY 52576', 'North Jenniferside, NC 36229', 'FPO AA 40555-2967', 'Nathanfort, AS 36077-1481', 'DPO AP 37875-3153', 'North Richardchester, CA 72472-7881', 'New Jameston, VT 96626', 'New Stephanie, CT 66218', 'Lake Leechester, LA 49969', 'South Samuel, ID 25951', 'West Joshua, MI 96703-1883', 'Tylerview, WV 81678-0964', 'Andrewmouth, PA 26684', 'Aprilton, MT 95894-4681', 'FPO AP 39441-7948', 'Port Johnmouth, NC 70098-8125', 'North Johnhaven, HI 10437-3329', 'APO AA 04338', 'Sarahview, GA 28318-5934', 'Veronicaville, ID 52481', 'Jacquelineberg, ND 39043-7937', 'Patrickton, GU 44349-3317', 'Lake Ian, MH 61019-6598', 'West Keith, NM 14566', 'West Teresa, SC 77668', 'West Zachary, ID 72057', 'East Michelemouth, WY 23908', 'Warnerburgh, GA 97586-3421', 'Lambertburgh, TN 82080-7211', 'Robertstad, AS 69824', 'Robertsonville, GA 49810-7617', 'Orozcobury, CA 40636', 'Andrewchester, PR 85454', 'West Brittanyfurt, VI 28505', 'Williamsbury, PW 67834', 'Shawnberg, MI 36404', 'Monicaborough, OR 92185-9530', 'New Kathleenmouth, NY 68893', 'DPO AP 04298-1024', 'Colemanview, DE 24414', 'Lauriestad, NE 46924', 'Port Patricia, IA 00997', 'FPO AP 69783', 'West Jakestad, GU 55936-8825', 'APO AE 33113', 'South Dominiqueland, MS 27646-5758', 'APO AP 51218', 'North Barbara, AS 42070-3571', 'Garyside, MI 32028-7341', 'West Kelly, NC 31856-7083', 'South Cristina, NY 71350', 'Websterberg, MI 71432', 'New Tony, MO 99038', 'East Shawn, NJ 17628', 'Port Charlene, MN 13264', 'Lake Heatherstad, NH 33698', 'Elizabethhaven, AZ 84474', 'Port Sarahchester, ID 62727', 'Emilyborough, CO 14912-1041', 'New Joshua, ME 24290-8638', 'Sherimouth, WY 08850', 'Collinsfort, SC 29889-1351', 'DPO AE 97828-9132', 'Jasonchester, OK 50154-3560', 'Wilcoxville, MI 89940-7844', 'Lake Aaronchester, KS 76604', 'Gregoryside, ME 75573-8230', 'Willisborough, NM 03840', 'Deannaton, SD 00942-5751', 'Katelynberg, OR 36067-4266', 'West Christopher, MD 17583', 'Gonzalezland, MD 10312-1356', 'Turnerbury, MP 81555', 'Port Markchester, DE 08454', 'DPO AA 28938', 'East Matthew, SD 56462', 'Randolphtown, AR 96430', 'Pittmanton, MH 87346-2658', 'Port Steveshire, VT 94645', 'Isaiahport, MO 65391', 'DPO AP 46620-1298', 'Davisland, UT 33069', 'Dawsonshire, NC 76104-0209', 'Port Mary, CO 34368-5962', 'New Matthew, HI 75319-0401', 'South Victoria, TX 71040', 'South Courtney, VI 01371', 'North Curtis, VA 93783', 'Juanview, SC 56564', 'Parsonsburgh, NC 49273-0721', 'Farmerfort, NJ 42123-7232', 'Kaylachester, KY 06446-4679', 'Port John, PA 78628-0517', 'West Williamburgh, KY 98834', 'West Katherineberg, NV 67007-1370', 'South Cynthia, RI 90106-4876', 'Port Tinaland, ME 14314', 'FPO AE 65459-0233', 'North Michaelbury, FL 67868-1247', 'North Cherylfort, MN 47231-8972', 'East Colleen, LA 80073', 'Lorifurt, CT 20584-1266', 'Burkehaven, AL 38105', 'North Ethanfurt, GA 69064', 'Joneshaven, HI 18598-1599', 'West Suzanne, OH 54121', 'Tamaratown, PR 96836-6503', 'Garciamouth, CA 12354', 'Ramirezview, LA 11845-8856', 'Diazmouth, PW 46459-0425', 'DPO AA 25329', 'Torresburgh, PR 48232-9088', 'FPO AA 60162', 'New Codyshire, NE 43091-1891', 'East Adamton, NE 39445-1517', 'New Linda, HI 03067', 'East Jessica, OR 69693-6748', 'Alexanderland, DE 94505-0909', 'New Pamelaland, DE 68428-5301', 'Pageton, DC 56260-9370', 'Connorhaven, AR 99906-2530', 'Stephanietown, VT 03527', 'Joshuaborough, WI 05177', 'Laurafort, OH 15735', 'New Renee, MO 59060-4720', 'East Nataliemouth, MD 60874', 'East Melissa, FM 51722', 'Millston, DC 24547-3845', 'New Raymond, MO 30108', 'Morsefort, TN 98396', 'West Karenland, ME 35904-3424', 'APO AE 08498', 'Kristinborough, IA 49932-3560', 'FPO AP 43598', 'West Thomas, MA 01095-6961', 'South Deannatown, NC 16250', 'East David, MT 58483-1402', 'Wesleyville, PW 52164', 'FPO AP 03152', 'South Devinshire, TN 24785-6510', 'West Zacharyhaven, OR 07669-9046', 'New Bruce, NC 73920', 'Alexanderchester, OR 54801-0121', 'Joshuashire, AZ 69079-0201', 'Darrellbury, ID 04171', 'South Vanessa, WY 61577', 'West Monicabury, AL 50588', 'Popemouth, MI 10140-6085', 'West Davidside, NE 51655', 'Lake Aliciatown, WV 11590-0331', 'Lake Timothy, SC 97306', 'North Cory, IA 32921', 'FPO AA 88742', 'DPO AP 41559-2486', 'East Christopherside, WV 18868', 'East Jean, NH 12061-4791', 'South Davidfort, MA 12188-3007', 'West Nicole, OK 05956-0785', 'New Donna, NJ 89706-8731', 'Leetown, NY 24822', 'West Sherrytown, RI 77343', 'Nguyenside, KS 28194', 'Jacksontown, MS 97868-5501', 'Garnerborough, VT 84650', 'Port Rebeccaton, MS 19745', 'Maxwellland, NV 25421-8152', 'Finleyton, MA 88434', 'FPO AA 08033', 'North Geraldton, ME 48104', 'New Stephanie, WY 80183', 'West Carol, SD 94226-0168', 'Smithhaven, TN 81484', 'North Markport, UT 78725', 'DPO AA 53673-6916', 'Port Kimberlyburgh, CO 39564', 'Warrenberg, PR 37943', 'Karenhaven, RI 92983', 'North Tomfort, MI 52784', 'Ericton, VA 06252', 'Timothyton, KY 28215', 'Reginashire, MT 77789-5394', 'New Yolanda, NM 77528', 'North Amanda, SC 46590', 'New Shawnton, MP 90345-6052', 'Martinland, WV 09517-6600', 'Franklinport, SD 42641-3719', 'West Craig, WI 18104', 'Helenchester, NH 63476-9148', 'Lucasborough, MO 50846', 'West Joshuaton, UT 00913', 'DPO AP 50889-3558', 'East Kenneth, RI 45289', 'Williamston, SD 29998-9846', 'South Brenda, OR 81559', 'South Joanport, MP 21667-6700', 'Foxview, MN 03651', 'Matthewville, NC 71929-5385', 'Hudsonhaven, CA 05367-6944', 'Johnsonmouth, VI 76330-8480', 'North Jamesbury, MO 47010-9593', 'DPO AE 50558', 'Dawsonville, KY 22654-0782', 'Dawsonstad, WA 90188', 'Christianville, TX 99465-7538', 'West Danielleburgh, MH 39771', 'Smithbury, RI 52550', 'Thomasmouth, DC 69438-5419', 'Zunigaburgh, CA 76077-3559', 'New Melissa, MO 45810-2951', 'Lake David, OR 84108', 'APO AA 68346', 'Dorothyberg, NM 08541', 'Rileyville, AL 37698-7817', 'Christopherchester, AS 28777-4081', 'FPO AE 92412-2566', 'Markshire, AZ 71469-5209', 'Gregport, WV 57769-3580', 'Rickeyland, MA 38921-6757', 'Port Daniel, PA 75438', 'FPO AE 20908', 'Valeriefort, SC 83268', 'DPO AE 05698', 'Brownbury, ME 55436', 'Melindaville, CO 89862-9534', 'Amberburgh, ND 35920-4040', 'Stephenburgh, OR 03226-6959', 'Jordanstad, MI 77586', 'South Mark, IN 23053', 'East Annaborough, WA 63461-6560', 'Lake Ashley, WV 40500-8885', 'West Daisy, NH 27808-9481', 'Lake Peterfurt, WY 60366', 'Bishopside, AK 40614-5315', 'Lake Travis, IN 64533', 'North Jennatown, ND 39639', 'East Sandyborough, AZ 68251', 'Wolfshire, AK 12559-1546', 'Smithborough, WA 59870-0510', 'Dakotaland, DC 01706', 'South Rachelbury, NM 58383', 'Leeview, AS 96540-6448', 'Lake Ronaldville, SD 42025', 'Smithburgh, FM 58565-1105', 'New Scott, KS 61292', 'Johnside, SD 09329-2233', 'APO AE 08696-0234', 'Jodystad, IA 16947', 'DPO AE 73012-7314', 'Fischerchester, MP 42425-4129', 'APO AA 05662-4293', 'Garyport, MH 77104', 'Michaelmouth, IA 36655-0630', 'APO AE 71537', 'Nicoleborough, AK 91150', 'West Barbara, SD 55041', 'East Jeffreyburgh, TX 05765', 'Cynthiaside, WV 68066', 'FPO AE 98812', 'Adamberg, IA 48702', 'West Dawnshire, PR 39089-5440', 'North Steven, MA 73148-4549', 'FPO AP 01668', 'Lake Danielmouth, SD 06038', 'Ginatown, MA 96706-3276', 'Alexandershire, MO 20374', 'South Mirandaside, HI 77673', 'Whitefort, AS 30249', 'West Brittanystad, MS 46333', 'Port Karenberg, TN 68563', 'Mataville, AS 42899-6168', 'Amandaport, GU 80917', 'South Amberborough, MT 70720-7170', 'North Ashley, OR 74317-9708', 'South Catherinetown, CT 28079-0957', 'Port Anthony, AR 79385', 'APO AE 30039-1724', 'Port Jacquelineport, CT 28492-8937', 'New Tina, MO 23475-8112', 'West Jefferyburgh, CA 79770', 'Port Kellyburgh, FL 39240', 'South Mallory, TX 71466-5465', 'Griffinport, NY 70593-8124', 'FPO AP 95761', 'DPO AP 78210-3455', 'Blanchardland, LA 07916-4305', 'Wilsonstad, ID 43665', 'Markport, IA 53071-6265', 'Port Rebecca, GA 01729-6212', 'South Teresa, AS 49642-1348', 'Lake Brianport, DE 56041', 'Shawnville, MA 82237-4570', 'Steventown, KS 96053-0118', 'Karenmouth, VT 91847', 'Beckbury, HI 45042', 'West Ashley, CO 71660-1699', 'South Anna, VT 88620', 'South Michael, WV 09653', 'North Vincentfort, NJ 14417-6270', 'Georgeberg, CO 43885', 'South Tara, GA 42833-4795', 'North Marthaberg, CO 89121', 'Princeville, VA 92098-3295', 'South Kristinton, AR 55238-2605', 'Payneview, OR 46537-3776', 'East Josephmouth, NE 07965-3025', 'Jeremymouth, AR 62315-4902', 'Port Daniel, NY 52936-3440', 'Jenniferfurt, NC 19345-9325', 'Ramosville, PR 77053', 'North Tyler, KY 96565-5296', 'Tracyshire, IL 05679', 'Valerieport, GU 22202', 'West Anne, NM 59871', 'Romerochester, RI 01796-7105', 'Ashleyshire, PA 64254', 'Snowfort, AS 40184', 'Port Lindsayville, OH 91392-4020', 'Lake Samantha, OR 56633', 'DPO AE 49984-2796', 'Scottton, WI 67670-1759', 'New Karenland, SD 86644', 'New Danielle, GA 28220-4597', 'New James, VA 11551-8473', 'Alisonview, MT 95272-9549', 'Paulastad, MA 22438-5833', 'Ericafurt, AL 58930', 'Taylorshire, GA 02729-7393', 'Bradbury, CO 42041', 'DPO AA 69088-3588', 'Richardton, UT 66965-6397', 'Gracemouth, NM 95356-7465', 'New Erica, UT 71979-9149', 'North Jonathanbury, UT 95377-7585', 'Lake Sethmouth, CA 15014-9828', 'Wardview, AK 82480-1685', 'DPO AE 58622', 'Nicoleshire, CT 83882-7122', 'APO AE 70201', 'Richardsonmouth, MT 02866-2945', 'South Robin, VI 26541-3195', 'East Stephaniebury, DE 54314', 'FPO AA 34707-1974', 'Robinsonfort, NM 14816-1060', 'Rebeccaside, CO 34052', 'Dawnshire, FM 55293', 'North Katelyn, AZ 79965', 'Bethanyfurt, KS 37611-0535', 'Richardmouth, MP 06446', 'East Melissaport, NC 91081', 'Elliottside, NJ 45022-5405', 'Olsonland, OK 82538', 'Annetown, DE 57201', 'Wendyhaven, CT 30662', 'FPO AP 00043', 'New Natashafort, GA 36930', 'New Cassidy, AR 21865-5843', 'West Sabrinaport, RI 45426-0765', 'Buckview, NC 31570', 'Odonnellmouth, VA 45185', 'New Dalton, AR 66607', 'Ayalahaven, MH 74039', 'Grantmouth, DC 88342-0449', 'Masonburgh, MS 24230', 'West Gabrielmouth, IL 59249-4439', 'Miaport, MS 72773-0985', 'North Jamie, LA 19655-2791', 'South Margaretville, AK 40625-2352', 'Ashleyfurt, UT 51798', 'Lake Melissa, WV 15831', 'Bakermouth, NM 50246-9114', 'Mathewport, NH 54493', 'South Danamouth, MS 50415-4415', 'Thomasfort, SC 65024-5929', 'West Roseville, AR 12444-3673', 'Veronicafurt, CA 26160-3956', 'Spencermouth, NM 68478', 'Marychester, TX 93354', 'Stanleyburgh, AS 44757', 'Lewismouth, ND 02712', 'Lake Kathleen, MO 03900-7963', 'Tiffanyberg, IN 04021-2172', 'Freemanside, WY 89868', 'FPO AP 03547-0183', 'FPO AA 81476', 'Andersonchester, SC 56153-5907', 'Hernandezville, NJ 28393-7348', 'East Andreamouth, AR 81725-5850', 'Carriestad, AL 42666', 'Port David, OH 02237', 'South Evanville, MN 91663', 'East Amanda, OH 89218-7005', 'Port Dawnberg, RI 17573', 'East Heathermouth, NV 64481', 'Lake Robertstad, TX 63527-1930', 'Edwardstad, SC 67538', 'East Madison, VA 84979-2194', 'FPO AP 18408', 'Tanyaburgh, WV 22729-3483', 'Hermanville, IL 52747', 'Clarkburgh, ID 25629-0517', 'New Bradleyborough, VT 83422-0831', 'Oconnorside, TX 25621-7917', 'North Amber, NV 62820', 'Port Kevin, FM 92949', 'Arellanoberg, MO 77386', 'Butlerhaven, ID 61957-5601', 'East Jackfort, AK 38734', 'Sharonshire, HI 92850', 'New Benjamin, NY 73536-6770', 'Riveraberg, AL 41086-3560', 'East Brian, CA 67661', 'APO AP 06733', 'Lake Teresa, HI 61968-4902', 'FPO AP 34454', 'FPO AE 42351', 'Murphyville, NM 48507', 'Richardhaven, OR 05349', 'New Brett, TN 43799', 'Jacquelineburgh, MT 16254-7576', 'Lake Jameschester, OH 58437', 'South Christopher, NM 85014-0127', 'West Kaylaside, CO 65859-4651', 'Whitneychester, SC 66269', 'West Adrianamouth, MO 74401', 'FPO AA 63500', 'Lake Jamesshire, OK 97481-4621', 'Port Amyland, VI 18513-7200', 'Millerbury, OR 64244', 'Kevintown, SC 29453-7979', 'Heatherfurt, PW 57282', 'New Destinychester, MI 09699', 'East Theodorechester, PR 23703-5027', 'Padillatown, MO 97072-5883', 'Glasstown, IN 93569', 'West Sheilahaven, ME 65890', 'North William, MH 61838', 'Lake Jaime, OR 21586-3962', 'Lake Summermouth, MS 59458', 'Port Meagan, IA 40443', 'East Rebeccamouth, GU 98664', 'DPO AE 69898-3304', 'North Amanda, AZ 46341', 'Port Jeffrey, WI 84443', 'East Lori, AS 43071-8983', 'Moraleschester, MO 82123', 'FPO AE 31705', 'Port Lori, WI 10829', 'New James, AR 15658', 'Lucaston, PR 10771', 'Toddhaven, IA 76159', 'West Jessicachester, NE 08310', 'New Jessicaview, PA 64833', 'Jamesside, NM 04270', 'North Amandaland, IN 83004', 'New Amy, VA 90812', 'West Arthurhaven, CO 33723-8734', 'Cooperville, VT 77747', 'Millerville, MI 94546-9925', 'Elizabethfort, NY 05795-0113', 'North Kristenmouth, KS 53686', 'Evansmouth, MI 27120', 'Lake Carlyfort, NM 56253', 'Danielfort, ND 61566', 'Ramirezburgh, DE 13279', 'North Dustinland, TX 09949', 'West Thomas, CT 99821', 'APO AA 13384-7992', 'Port Hannah, PW 17556-2452', 'South Andreachester, NH 57730-2352', 'Dixontown, MO 59259-7046', 'New Heather, AS 27472-3915', 'South Brent, LA 53590', 'Port Carolyn, AS 14491', 'Javierchester, NY 76064-7178', 'West Briannaville, CA 02703-4084', 'Smithfurt, CA 62082-6412', 'New Shannon, WV 97515', 'Calebberg, NV 95783-0751', 'APO AP 45110-7202', 'South Lisa, WA 83794-7574', 'West Scottmouth, MT 89582', 'Stevenville, GU 58725', 'Amyburgh, MT 54271-7431', 'Lake Suzanneborough, AL 38826-2546', 'South Mariamouth, NV 34336', 'APO AP 63047-2610', 'APO AP 12075-2488', 'Michaelland, WY 32609-1364', 'FPO AE 30828-5337', 'West John, PA 07001-4089', 'Shanefort, SD 33391', 'South Deborah, MH 19590', 'DPO AP 37275-9289', 'Christinabury, KS 18787', 'New Jessica, LA 37906', 'Sandersside, UT 06440-1468', 'Davidmouth, TX 61789-9174', 'South Steven, MA 29105', 'Millerport, NH 99871-5660', 'Lopezbury, AK 84106-3550', 'Lake Julietown, NJ 46605-5958', 'Albertview, NH 99604', 'Lake Julie, AS 94450', 'Oliverfurt, PW 62621', 'North Susan, FM 18333-8785', 'Quinnbury, UT 38135-0539', 'South Sara, OH 88352', 'West Kennethville, VT 24662', 'North Joseberg, NV 46133', 'Donnahaven, WI 29004', 'Port Sandra, MP 15726-4905', 'Lake Raymond, TX 27472', 'Laurenfurt, OR 54973', 'Freemanville, MT 65967-1305', 'South Alicia, MP 83169-5030', 'North Joanfort, MH 86431-7914', 'APO AP 60315-6864', 'Colemanmouth, NM 16492-5737', 'New Richardmouth, AK 74777', 'Port Christopherborough, PW 91549', 'West Marieport, CO 66076-8640', 'Michaelabury, MD 55490-3344', 'Samanthashire, AL 83456', 'DPO AA 98764', 'Longville, FM 47861-6366', 'Carterstad, WY 73588-0828', 'Sarahborough, GA 77597-5562', 'South Timothy, WV 02343-7700', 'APO AA 68425-8831', 'Sarahton, NC 06322-4033', 'Emilymouth, AZ 50162-2741', 'Tiffanystad, UT 21936-6988', 'Meyerbury, AZ 37335-6928', 'FPO AA 58055-6015', 'Thomasside, DC 48676', 'New Christinebury, UT 16206', 'APO AA 37653', 'East Gina, KY 49894', 'New Todd, ND 42714', 'APO AP 51414-2381', 'Port Williamchester, AS 85834-9649', 'West Catherine, MN 16058', 'Morenobury, PA 44089-5528', 'APO AA 92456-2748', 'Chadville, TX 22988-8311', 'Paulaville, CO 07188-5205', 'Sanchezville, WA 93448', 'Jasonton, MN 24198', 'Beckborough, MS 04955-5610', 'Port Tyler, WV 15700-0718', 'South Natalieborough, WY 04578-3574', 'Pughborough, DE 37647-3849', 'Mayfurt, KY 94001', 'Charlesport, KY 53916', 'FPO AE 18592', 'Snyderberg, SC 55208', 'Lake Amybury, KY 83757-2285', 'Jamesside, NC 56555', 'DPO AA 61324-4127', 'Monicamouth, CA 47648', 'Port Richard, WV 11626', 'South Crystalville, NJ 68094', 'Lake Ryanport, FL 19518', 'Lake Dianeville, NE 19351', 'West Tiffany, KY 17785', 'Martinmouth, UT 11465', 'West Sandrahaven, WV 72025-8262', 'Moralesview, CT 91659', 'New Christopher, NM 94445-5333', 'Deborahtown, AR 56747-3541', 'APO AA 24368-1858', 'New Joshua, IN 55857-4946', 'Leblancburgh, PA 34765', 'Stricklandberg, PR 69026', 'Denisetown, CA 39873-2703', 'West Adrianside, MT 91180-4021', 'East Michael, MI 95321-5026', 'Courtneyburgh, ND 40323', 'Briannamouth, VT 98433', 'North Dustinland, TX 79726', 'FPO AP 73185-6058', 'South Jeremiah, CT 44990', 'Wrightmouth, OR 04272', 'New Larry, TX 62631-0782', 'Port William, OK 38354-1881', 'Lynchberg, OR 32238', 'West Jennifer, VA 70386', 'Hermanmouth, NE 66895', 'Rodriguezville, VA 05237', 'South Marcfort, AL 24051-2632', 'South Danielport, ID 58344-2248', 'West Jesse, AK 20205-5873', 'Andersonhaven, KS 32194', 'West Troyville, PR 96462-8199', 'Port Jerrybury, OR 80243-7606', 'West Emily, IA 62461-1579', 'Lake Robertbury, MI 19249', 'APO AA 99631-0458', 'Choitown, MO 56019-0030', 'Rodriguezchester, NJ 71630-6894', 'Michaeltown, OR 37274', 'West Donnatown, WA 36422-2369', 'Kerrberg, OK 53136', 'Jesusfort, NM 79006-6752', 'Hicksburgh, IA 26179-0478', 'North Harold, CT 00263', 'New Carolberg, PR 64209-3570', 'Gordonton, TN 95727', 'Albertmouth, ME 96706-2756', 'East Antonioborough, TN 96914-4900', 'Hallview, LA 24505', 'North Calvinfort, SD 87025', 'Shawnshire, CA 86274-6212', 'North Javierbury, PR 22745', 'Debratown, KY 86977', 'East Danielshire, GA 76041', 'New Michaelbury, CT 45358-0311', 'Reedhaven, WV 25590', 'Stanleyborough, NV 33155', 'Haneymouth, GA 34728', 'Mannfort, MN 94058-7958', 'New Larry, IN 59257-1374', 'New Charles, CO 09471', 'Markfurt, CO 16318', 'East Matthew, LA 44989', 'APO AA 39325', 'New Paigemouth, GU 34410', 'Kaiserberg, NE 94685-3115', 'Port Jason, CO 39385', 'Russellside, CO 87440', 'Carlchester, IL 25434', 'New Jacob, RI 10579-0048', 'Christophermouth, GU 30825-6006', 'Lake Sarah, MO 34808', 'South Mckenzieport, AR 72905', 'Kariview, NC 86284', 'East Caitlinfort, WY 73455-8256', 'West Cristian, WV 17734-9176', 'North James, WV 03755', 'West Samanthatown, NC 48803', 'Lake Denisestad, NE 32429', 'Lake Christopherton, TN 78360-0701', 'Lake Gabrielle, FM 88159-8268', 'South Nathan, NJ 78071', 'Zunigaside, WI 66905', 'Sheliaburgh, DE 82340', 'Garciaview, TN 97935', 'East Wendy, OH 50612', 'East Alyssashire, WI 11824-5756', 'Lake Richardtown, NH 13156-6062', 'Jessicamouth, VA 80789', 'Thompsonchester, FL 58924', 'Paynestad, MN 29079', 'Port Matthewton, UT 51769', 'West Cindy, KS 91072', 'FPO AP 15908', 'Waltersland, VT 07440-3816', 'West Monicaville, AS 39266', 'Turnerside, GA 17219', 'Heatherton, ME 49081-0303', 'East Kylefort, AS 15086', 'DPO AE 27558', 'South Andrewview, FM 80429', 'New Sara, CO 77848', 'North Samanthachester, ID 82969-9650', 'Morganchester, KS 12943-9753', 'Mcconnellstad, AL 83502-6895', 'Daytown, AZ 93829', 'FPO AP 94167-1961', 'South Rebecca, AZ 14861', 'North Andrew, RI 94297', 'Leville, ME 36143-8095', 'West Brianna, NV 24375', 'Arielmouth, WI 24753', 'East Catherineport, SD 70475-4606', 'Stuartberg, SD 11501', 'Timothyton, WY 94818', 'Scottchester, HI 13703', 'Markberg, OR 63045', 'Tylerhaven, WA 61983', 'North Hollyland, PR 82345', 'Lake John, ME 30645', 'Hughesmouth, MP 25441', 'DPO AP 21450', 'Solisbury, MT 04837', 'Heatherfort, FM 22804', 'Sarahberg, DC 35407', 'East Shelly, MT 69900', 'East Amanda, ME 66433-0001', 'East Daniel, MS 75510-8888', 'Foleymouth, NM 73471', 'South Joditon, ND 44858', 'DPO AP 49001-4308', 'Villarrealmouth, MN 48095-1533', 'Marcberg, VI 90052', 'Hodgesstad, AS 71104', 'South Ericshire, GU 99528-9481', 'South Brittanyshire, GU 55774', 'Suzannemouth, GU 54881', 'Michellemouth, LA 58398-0605', 'Ortizville, TN 98109', 'Wardton, NY 26628-8352', 'North Joanna, IA 67146-0005', 'North Larry, WI 13795', 'Port Andrea, IN 33085-0999', 'Kimberlyton, TN 20895', 'West Ashley, UT 88476-6322', 'East Davidmouth, VI 16466-3291', 'Port John, LA 49420', 'Kimberlyberg, GU 73453', 'Melissamouth, VT 50514', 'Clarkshire, ME 86546', 'DPO AP 20914-6877', 'West Laurenton, PR 70182', 'West Cody, TN 04841', 'Allenview, CO 55555-8106', 'West Brandonview, VI 71611', 'Caseybury, NH 91777-4042', 'Lake Victorborough, TX 80274-9001', 'DPO AA 89432-7985', 'Josephside, ND 69787', 'North Keith, FL 12086-3774', 'DPO AP 67094-7879', 'DPO AA 91280', 'FPO AA 70734-4928', 'FPO AA 84443', 'Sharpfort, DE 51855', 'Mcintoshhaven, CT 99600', 'South Frankstad, GU 09517', 'Butlerhaven, NH 43950-2402', 'Veronicamouth, MS 91207-6056', 'West Robertton, MA 89628-9347', 'Davisborough, PR 91379-3601', 'Stephaniehaven, FM 48187', 'West Brenda, VI 79772', 'Camposfort, NH 70888', 'Port Maryberg, IA 30439-2823', 'Goodmanfort, MO 09014-1562', 'West Matthew, CA 71303-7984', 'Hillmouth, WI 61461-5466', 'Lake Scottview, ME 38475-3916', 'DPO AA 46376', 'Jennaville, SD 31313-9212', 'APO AP 16899-9076', 'Aaronhaven, NE 83521', 'Allenfurt, GU 60403', 'Rachelton, VA 34324', 'Tracyfurt, KY 13198-2585', 'FPO AA 21590', 'Brendanville, AR 09959', 'Port Brianchester, MH 40145', 'Port Williamburgh, NM 21980-9681', 'Port Brian, WA 54211', 'Rachelberg, VI 51379', 'South Lindsaystad, AL 23019', 'Kimfurt, WV 22760-4628', 'West Mikeside, AR 76748', 'Josephtown, IA 22209-1112', 'APO AE 83389-7909', 'Richardsland, VT 91383', 'Bennettbury, IA 79096-0033', 'Angiefurt, ME 26214', 'North Justinfort, IA 72280', 'North William, VT 10512-5275', 'Scottberg, FL 04150', 'Masonview, WY 92231', 'Joyport, DC 81001-1533', 'North Richard, CT 27306-6334', 'Jamesfurt, MO 42807-4704', 'New Anitamouth, WV 41012', 'North Nicole, DC 75835-8124', 'South Mark, NE 53966-8240', 'North Meaganhaven, MP 22777', 'Port Elizabethport, ME 70413', 'Lake Taylor, AK 56349', 'Shelbyview, WY 49540', 'Hamiltonshire, WI 70268', 'North Stephen, VA 49776-7211', 'South Daniel, NV 82349', 'Sarahville, MI 32945-5394', 'Sarahfort, SC 76572-8997', 'Christinabury, DE 10481-0476', 'Lake Devinport, NJ 48846-8791', 'West Geraldside, VT 87236-9508', 'Samanthaville, CO 31117', 'South Cindyberg, WV 41881', 'New Susanmouth, DC 29629', 'Kathleenfurt, SC 35732-2763', 'Chelseyshire, MI 32396', 'Wrighttown, NE 39331', 'Michaelstad, NM 96388', 'Ashleyborough, NH 90179-9423', 'Duartehaven, IN 29424', 'Laurieside, CT 55153', 'DPO AP 84263-3820', 'Griffithton, ND 65308', 'North Andrea, VT 47173', 'South Mistytown, ID 70388', 'East Dwaynefurt, AR 67836', 'Duarteberg, ME 21314', 'Tracyshire, OR 66419-4633', 'DPO AE 77397', 'Gibsonview, DC 25798-0052', 'South Danielleville, DE 93493-7910', 'South Michael, RI 90908', 'Wandaborough, MS 55302', 'South Amandashire, MA 58101', 'Amandaberg, PA 77785', 'West Briantown, AZ 75098', 'East Erinburgh, VT 38076-2616', 'Dannymouth, MO 92329', 'Williamchester, OR 45035', 'DPO AP 25324', 'FPO AE 23485', 'East Timothyside, NE 40215-8990', 'North Paula, NC 10613', 'North Clintonstad, MH 00999', 'Susanview, IN 68879-6525', 'Port Zacharymouth, IN 79205-6001', 'South Kelseychester, NH 66506-0128', 'Lake William, NH 07208', 'Vegaland, WI 86775', 'Cathytown, NC 83325', 'Jacquelinetown, DE 52211', 'Dudleyburgh, RI 34309', 'South Colleenstad, OK 76109', 'West Melissafort, NH 86610', 'Paynefurt, VT 65844', 'APO AE 94608', 'North Michelleburgh, DE 43595-7674', 'Kristinatown, CA 37998-8425', 'East Karenborough, VA 26540-5015', 'Richardbury, LA 07364', 'Gonzalesport, NV 30350', 'North Stephaniefurt, IL 15970-0880', 'Hawkinsville, AZ 45777', 'North Kristy, MH 98016-2735', 'Diazfort, SD 77874', 'APO AP 69437-0477', 'South Zachary, GA 88442', 'Wilcoxtown, SD 27970', 'North Sydneyborough, MA 23001-0912', 'Kathrynview, AK 07505', 'Marshallmouth, OK 70984', 'Jamesmouth, IN 33835-2971', 'Port Rhonda, PA 26349', 'Port Brittanyburgh, PR 59046', 'APO AE 04626-3158', 'Lindsayberg, OK 30647', 'Annaside, MN 18320-8664', 'Lake Amytown, VT 21723-8240', 'Sullivanmouth, MT 91498', 'Juliatown, NE 39004', 'Sergioborough, MA 62426-1311', 'Wongton, GU 39226', 'Flemingburgh, HI 86115-0628', 'East Micheal, SC 69549', 'Aaronchester, MD 67130', 'Lake Elizabeth, MS 95665-3322', 'Wardside, FL 81978-4911', 'Diazchester, IA 07399', 'West Melaniefort, CO 84268-8523', 'Aprilton, GA 79580-2787', 'Lake Ruben, SD 83426', 'Melissaton, VT 79035-8774', 'North Emily, VA 86170-3249', 'East Shaneburgh, MT 56173-8113', 'New Danielborough, ME 21280', 'Bridgesstad, SD 33921', 'Matthewmouth, IN 75818-3834', 'South Andrew, FL 87783-2655', 'Mooneystad, ID 09802', 'Lake Gabrielashire, NE 68478', 'Jonathanstad, FL 82710', 'Matthewborough, FL 68043', 'North Allisontown, PR 01335', 'Lake Maria, MO 55537-5224', 'Samuelview, NJ 14509-7731', 'Tiffanymouth, NH 63798-5081', 'East Deannaview, OH 88507-7776', 'Perkinschester, VA 33951', 'Christopherhaven, MH 84564', 'New Austinton, UT 96635-9122', 'North Robertchester, FL 17689-6624', 'Coxfurt, VA 54297', 'Jeremyside, DE 56708', 'Harringtonbury, TN 48100-3204', 'North Dennisborough, NJ 77736-3759', 'Jorgetown, PA 58403-1657', 'DPO AA 43248', 'South David, UT 15496', 'North Seanmouth, AK 27303-1827', 'Potterfort, GU 07071', 'East Monica, NV 24427-2388', 'Vanessachester, ME 86976', 'South Christianmouth, IN 41626', 'Russellchester, FL 07349', 'FPO AE 14077-5917', 'Leeview, MH 89420-6646', 'Crystalchester, OK 52258-1753', 'East Kevin, OK 68218-3510', 'Lake Lawrenceburgh, TX 40964-2749', 'South Marioshire, MI 12514-5439', 'DPO AE 68663', 'North Reginaldfurt, KS 45504', 'Johnfurt, MA 96951-8875', 'Russellport, ME 52621', 'East Ralph, ME 69500-6236', 'Paulfort, AR 94686', 'Curtismouth, MP 58591-5659', 'South Cody, AZ 06438', 'Jonesville, FL 71030-2432', 'New Charlesstad, DC 55271-6451', 'East Kyle, SC 87017', 'DPO AA 81950-7765', 'Lindseymouth, PA 50595', 'North Laura, CO 17542-6982', 'Lake Jasmine, WY 31336-2690', 'Port Michelle, TX 06963-2825', 'Landryburgh, DE 79241', 'West Alisonview, MH 37273-4393', 'Barbarafurt, AZ 60551-8117', 'Davidsonview, NE 45957-8349', 'APO AP 93864', 'East Debbieburgh, CT 93304-2440', 'West Kaitlinton, CA 56383-3070', 'South Timothymouth, PR 42283', 'Port Eric, IA 39750-1691', 'Port Teresafurt, MO 40683', 'West Jason, SD 47423-5014', 'North Tracey, DE 03303', 'Aimeeburgh, OK 15281', 'Kennethburgh, WA 92120', 'South Alishaburgh, VA 83826', 'Craigchester, WA 52680', 'FPO AE 12579-7463', 'South Alexisbury, MP 43498-1835', 'Lake Michelle, MP 85827', 'Lake Angela, PW 30864', 'Port John, NJ 56009', 'Waltonton, OK 28554', 'APO AE 69725', 'Paulton, ME 24476', 'New Elizabeth, CA 07155', 'Theresamouth, FM 66053', 'Robersonborough, FM 14566-2618', 'South Jennifermouth, MI 31940', 'West Markview, GU 22828', 'Marshallport, NE 55068', 'Jeanmouth, WA 05188', 'Jamiemouth, WA 69697-6589', 'North Kaylastad, ME 96306-6752', 'APO AE 20704-2228', 'Chaveztown, KS 39646', 'Christopherland, HI 76306', 'Johnberg, DC 94311', 'FPO AA 99014-4914', 'West Michele, ND 09161', 'Lisaville, FL 54897-6198', 'Beanville, GA 24531', 'North Tamistad, PR 58979-1600', 'East Lindsay, MT 17494-6010', 'New Rickeyside, MS 15391-1266', 'North Angelaside, MP 72848', 'Lake Paige, TN 66753-2740', 'Lisachester, ND 84821-7611', 'East Chelseafort, MN 05973', 'Taylorshire, WV 81216-5334', 'Laneberg, NC 15051-8273', 'Lake Kristy, MP 76281', 'South Barbarashire, WA 67750', 'Ianside, MA 48504', 'Noblefort, GA 64078-9562', 'Andersonstad, MI 97761', 'Kellymouth, MP 07861', 'South Donna, MD 76364', 'Johnmouth, PR 12717-7791', 'Robertberg, CO 36997-5858', 'Ericberg, GA 34088', 'Sarahview, TX 23286', 'Patriciahaven, UT 57426-1034', 'Karlview, NY 69693', 'Eatonberg, WA 00797', 'FPO AE 36440-1787', 'South Alexandra, WA 19642-8250', 'North Amandamouth, CA 51797', 'East Brandonport, OK 68905', 'Lake Debbie, AK 81237', 'FPO AP 82517', 'Littlestad, SC 05483', 'Port Jamesfurt, AZ 02926', 'Stokesbury, NM 33106-4508', 'Williamhaven, DE 70779', 'Wilsonbury, RI 31109-9742', 'Harrisonbury, OR 58149-5700', 'New Elizabethburgh, WV 32301-5149', 'Russellchester, PW 47848-0324', 'Davidmouth, TX 47690-6836', 'Fischerberg, PA 75078-8129', 'Staffordville, FM 06029', 'Port Erica, WA 18765-4834', 'Smithland, IA 21092-0828', 'Stephanieborough, WA 24745', 'Thomastown, MI 80735-1143', 'Alexandermouth, ND 25093-7275', 'Lake Jason, WY 98504-0312', 'APO AE 58329', 'Millerton, TN 40497-9082', 'North Russell, MA 04668', 'Port Christineberg, ND 80365-5765', 'West Robert, ID 94081', 'Meltonborough, OH 17880-0244', 'Costaview, MO 92235-1436', 'Martinview, AZ 36561-6760', 'New Kyle, CT 40894', 'Harrisonburgh, RI 63275', 'Murraychester, MH 13629-1447', 'Smithtown, MD 10999-1822', 'FPO AE 18133', 'Markstad, RI 39801', 'Taylorville, AZ 62203', 'Hopkinsbury, MA 30967-3412', 'New Aaron, MD 01881-8147', 'Pamelaberg, SD 16934', 'Jamesborough, MT 58821-7233', 'APO AA 48060-7382', 'New Charleshaven, MA 94790', 'Brettburgh, KS 51322', 'APO AA 67223', 'Richardsonshire, SC 87763-3376', 'East Dana, NM 10193-2681', 'East Anthony, MT 02062-5778', 'Lake Natalie, RI 97989', 'New Heatherport, VA 80924', 'West Carrieside, KY 01300-6139', 'Smithside, ND 83905', 'Robersonland, SC 61342', 'Ritaview, ND 26668-5437', 'Brandibury, NJ 50981-7991', 'Lake Jose, NV 35151-3084', 'Lake Dianamouth, MO 53367', 'Danielborough, IA 80518', 'DPO AE 61808-1106', 'Port Brianbury, TX 19196', 'North Ryan, MO 26455', 'New Tiffany, VI 94479-9812', 'Staceyshire, WY 71589', 'DPO AA 60987', 'Michaelberg, CA 43226-3361', 'Cartershire, AR 41875-9790', 'South Carolineton, WY 40652-4128', 'Lake Brian, AR 60635', 'New John, WA 59707-0307', 'West Jennifer, FL 43694', 'North Richardtown, GU 99197', 'Williamberg, DC 27131', 'Kathleenport, NY 53177', 'East Jessica, CT 23593', 'Reginaville, RI 60010', 'Port Shelly, FL 31743-1419', 'Zacharyton, AR 64853', 'South Brittanyton, NM 60501', 'Robertchester, WI 05647-7344', 'DPO AP 61238-5870', 'Port Steven, CO 11869', 'North Amandashire, MD 07547-9261', 'West Scott, WA 80138', 'Lake Emily, DE 72236', 'Rachelland, NM 71178-3730', 'Nicholasland, LA 68235', 'Ashleybury, AL 24951', 'South Krystal, LA 46621', 'Dianachester, UT 89393', 'Richardport, AZ 82697', 'East Randy, WI 63721-3793', 'West Michelle, MI 35648-6068', 'South Marilyn, IA 97229', 'Tiffanymouth, ID 91241-4135', 'North Mitchellmouth, CT 83889', 'Jamesfurt, PA 22194-5703', 'Williamside, MT 21607-0743', 'Port Alexandratown, HI 78539', 'North Brandifort, HI 73318', 'New John, DC 33344', 'East Samanthaborough, IA 50197', 'Hillside, NY 17290', 'Emilymouth, WY 20045', 'Riveraside, NM 17895-8133', 'South Michael, IN 55891-6630', 'DPO AE 73827-5530', 'Dennisville, VI 23956', 'North Cherylfurt, RI 19968', 'Smithfort, DC 77522', 'New Nathanfurt, IA 99792', 'Peterburgh, NV 89177-9249', 'Williamchester, VI 87689', 'Aprilmouth, AS 78286', 'North Joseph, IN 66503', 'Rossmouth, WV 30618-3312', 'Phillipschester, NE 86219', 'Douglasberg, ID 61833', 'South Laurashire, OK 15160', 'East Markstad, AZ 22840-8290', 'APO AE 82605-4983', 'New Nichole, VI 60708', 'East Sabrinaville, NV 25779', 'West Andrewbury, NV 97651-6778', 'Benjaminton, FL 22486-2883', 'APO AP 04263', 'Johnport, AR 41258', 'Snyderborough, FM 50487-7898', 'South Cliffordhaven, MA 47702-9976', 'Rowefurt, MO 87744', 'FPO AA 58054-9530', 'West Laurashire, CT 94685-4621', 'West Deannafort, NE 18036', 'Jamesside, MO 54659', 'East Christopher, IL 87022-6455', 'Port Heathermouth, MA 82940-1454', 'DPO AA 43891', 'Mooreside, TN 93663-1423', 'West Leslie, PW 39024', 'Port Paulatown, GA 65380', 'South Seanchester, WI 22591-8781', 'South Gloriaborough, KY 52238', 'Sydneyfort, FL 17627', 'Port Michael, NH 28918', 'East Ryanport, NJ 34420-4995', 'North Jessica, UT 75441-9830', 'New Paulafort, MT 74422-1891', 'Mcclurestad, LA 85909-5086', 'East Melissa, NM 84331', 'Pittsburgh, WV 26247-1849', 'Port James, GU 86975', 'West Nathan, MP 76491', 'New Jessica, UT 14933', 'Courtneymouth, PR 54161-1522', 'FPO AE 91835', 'West Jose, PR 78536-1815', 'Marymouth, WV 99705-0100', 'North Sarah, MD 93552-1845', 'East Nicholas, DC 61121', 'South Patrickfort, ND 92225', 'North Brandon, FL 74042', 'Mendozaborough, SC 16871-5428', 'Elizabethshire, NY 20072-3824', 'East Taylor, KY 46563-0915', 'Justinland, NM 23050-5971', 'Port Willieville, NM 88528-0825', 'Lake Jasonchester, FM 20603', 'Robertborough, SC 25199-2273', 'North Jennifer, SC 42579', 'Paulbury, NE 01852', 'East Carrie, NJ 36363', 'Lake Matthewtown, GU 66859-8242', 'Fredshire, AZ 59141', 'FPO AE 70099-7063', 'Jasonville, WI 07524', 'Lawrencemouth, MN 06734-2931', 'Moodyview, RI 00251', 'Jennifertown, GA 02938-0819', 'Manuelstad, AR 99150-1540', 'New Michael, MI 08161', 'South Marystad, OR 80679-9099', 'North Johnfort, MH 95833-5838', 'East Scott, SD 63708-7964', 'Michelleshire, MT 15074', 'Griffinstad, OH 04640', 'Lake Robertfurt, PA 47380', 'West Jonathanborough, KY 65323', 'DPO AP 59374', 'Port Keithview, AZ 44125-3023', 'Millerfurt, NJ 94544', 'West Jamie, NJ 58614-3289', 'Rowlandburgh, MT 03570-7987', 'Jonathanshire, RI 04183', 'Colonburgh, ID 94168-1507', 'West Hannahborough, CA 05137-9129', 'Lake Haley, MP 55938', 'West Kimberlyfurt, SD 60376-7253', 'Port Thomas, ME 50816', 'Timothyside, MD 95946', 'East William, OR 75068-7718', 'Danielstad, PR 71957-9999', 'Dianaton, TX 94633', 'Foxview, NC 26744', 'Kimberlyville, NH 77937', 'Lake Jameschester, ND 76287-2286', 'Anthonyfort, DC 44043', 'Hillfurt, AL 66686', 'South Patricia, MT 12752-2964', 'Brendatown, AL 59581-3756', 'Cookborough, VI 63291-1546', 'Perrybury, LA 53216', 'Douglasside, OH 62197', 'Toddview, CA 62858-9908', 'Kathrynmouth, LA 60148', 'North Ashley, CA 15493', 'Reneeland, NY 55913-3102', 'Rivasshire, OH 94931', 'Josephstad, NE 53897-6198', 'West Crystalfort, AK 97369', 'Dominguezfurt, NM 31814-9062', 'North Joel, AR 93748-4260', 'Stephaniemouth, GU 57099', 'West Brentchester, DE 77482', 'Chadborough, ID 03114-2105', 'Lake Matthewstad, ND 42337', 'East Jennifer, FL 96460-5470', 'Jonesburgh, PW 27120', 'Morrisonfort, MT 31491-9348', 'New Heidifort, SD 15736', 'Lake Andrewshire, CT 40554', 'Lake Zacharyshire, WY 94496', 'Jacquelineton, WA 25721-4822', 'Moorechester, MS 29172-1140', 'DPO AA 30892', 'Lopezside, VA 87777', 'North Pamelaberg, IL 41147-5501', 'Leslieberg, UT 06596-4358', 'Daniellebury, PA 76199', 'South Jennifershire, LA 70743-0264', 'Danielmouth, WI 91505', 'New Catherine, NJ 08205-8947', 'Colemantown, FM 10131-4256', 'Port Marcport, PW 22795', 'Port Allisonshire, NY 29293-1155', 'DPO AP 14075', 'FPO AP 62750-6768', 'North Brandystad, LA 27639-7085', 'North Nathanielberg, CA 52423', 'DPO AP 45943', 'Markfort, VI 51721', 'South Anthonychester, MP 06243-7109', 'Port Lori, KY 17029', 'West Brittanyberg, AR 95531-5761', 'Christinemouth, WV 60090-0736', 'Richardstad, KY 97701-1075', 'Davidfort, DC 99315', 'Benjaminberg, WA 46574-5753', 'Port Douglasville, MA 82521', 'East Stephanieshire, KS 49465', 'Pamelahaven, WA 77184', 'Lake Jeremy, WY 98979', 'Rileyton, VA 94449-1369', 'Port Patrick, MT 54828-4218', 'Nicholasmouth, MN 99068', 'Combsshire, HI 97635-3715', 'Saraville, MP 39758', 'Powellport, DE 53169-9848', 'Johnsonland, WY 50037', 'South Daleton, DE 07146-8575', 'Leeview, PW 44296', 'Georgeville, HI 96392-1963', 'South Olivia, WY 14271', 'Eddieville, CO 87564', 'Davisview, IA 04334-2466', 'Bradhaven, MD 58632', 'Lake Brittanyside, ND 52937-5753', 'DPO AE 48373-6897', 'Ronaldmouth, VT 77732', 'APO AE 38092-8628', 'Hullchester, IA 10006-1954', 'Jamesmouth, NV 59284', 'North Timothy, NJ 34831', 'South Sherrymouth, OR 35057-8177', 'West Vincentton, NV 95170', 'Lake Patrickton, ID 77882', 'Jacksonview, HI 21027', 'APO AP 52492', 'Jessicahaven, NC 29366-7992', 'APO AP 12105-8095', 'FPO AE 81056', 'New Lisa, NV 26238-9184', 'Greenemouth, AS 15519', 'New Daniel, FL 33180-5951', 'West Kathyland, AZ 24574', 'Kimberlystad, GU 85766', 'Kendraberg, GU 50980-7330', 'DPO AP 46231-3142', 'Andersonport, MA 12950-2330', 'Courtneyside, IL 83769', 'Port Johnport, AL 35566-3080', 'East Edwardside, IA 49505', 'Port Nathanberg, CA 12739', 'Morrisonview, GA 93273', 'FPO AA 52720', 'South Franklin, SC 33361', 'DPO AE 91428-7915', 'FPO AP 65688', 'Fergusonfurt, DC 47107', 'East David, AK 29066', 'East Markstad, DE 32467', 'West Mark, KS 50530-9221', 'Jamesfurt, TN 75685-1957', 'West Angelchester, OK 46301', 'West Rachaelfurt, FM 97165', 'Christophermouth, CA 03713-2387', 'Fergusonland, GU 75166-1939', 'Lake Michaelhaven, AL 02261-6936', 'Yeseniamouth, IA 07741-8905', 'Danielmouth, DC 61389', 'DPO AE 91759', 'FPO AE 92072', 'Abigailfort, UT 27715-1805', 'APO AA 07023-3790', 'North Sherry, VA 48163', 'Mejiafort, AZ 10594', 'Pattersonburgh, WA 69032', 'Powellland, WA 03414-4649', 'West Bradley, TN 13716', 'Solomonside, ID 72003', 'Hollyborough, LA 55590-2912', 'Port Cindy, SD 44847-6360', 'North Donald, MN 03006-8747', 'West Brenda, WI 78280-2065', 'Lake Michaelside, MA 32559-8622', 'West Angela, MH 65621-6915', 'South Jennifershire, CT 58484', 'DPO AP 47652-4784', 'East Christinastad, OH 35012-9032', 'Michelleville, OK 45070', 'Butlermouth, PR 75377-2568', 'East Kevin, RI 54143-4969', 'East Jasonmouth, NY 92817', 'Aguirrefurt, AZ 73000', 'Lake Peggy, AZ 19681-3336', 'Lake Sandra, MP 05157', 'Joeville, KY 71700', 'Mcdonaldshire, AZ 01673-7829', 'West Davidton, OR 09611', 'Derekfurt, VI 69962', 'South Lawrence, NH 11298', 'New Kimberly, LA 46834', 'East Jacquelineberg, KY 25202', 'Port Riley, TX 23116-0116', 'Port Anthonyport, OH 98437-6522', 'South Michelle, NM 01475', 'Andersonview, MT 28768', 'Charlesfort, CT 20661', 'Loganberg, NH 56350', 'Samanthatown, VT 51809-6834', 'Kimberlyburgh, VA 66286', 'Lake Kevin, OK 31127-1573', 'Port Ethanshire, OR 78905', 'New Ninaberg, MT 66467-2645', 'South Joseph, PA 68267-2295', 'Johnsonburgh, CT 33262', 'Rhodesstad, MT 65818', 'APO AP 60226-2255', 'Brandonton, TX 33640', 'DPO AE 85868-3124', 'New Lori, CA 70385', 'East Johnmouth, NY 39418-6610', 'Lisahaven, DC 23286', 'FPO AE 84650', 'West Patrickport, MP 50639-9331', 'Michaelport, NC 68493', 'South Robin, NC 17347-9952', 'South Nina, WI 35907-1347', 'East Chaseland, MO 54930-5094', 'North Thomasborough, KS 31780', 'North Sarahmouth, FM 53962', 'Barberville, NM 87706', 'Burnsmouth, MH 63616-5817', 'Isabellafort, MH 41980', 'Michaelburgh, NJ 88514', 'Port Breannaside, CA 74199-2499', 'Moniqueport, TN 52966', 'FPO AA 27566', 'Jamesmouth, MN 35838', 'Maciasburgh, MI 07290-1585', 'Boyleburgh, PR 71060-9687', 'Caldwellside, PR 40207-1379', 'Leeport, VT 34881', 'Christopherbury, KY 47865-6077', 'Thompsonville, TN 61743', 'West Matthew, IL 77377-2143', 'Deborahberg, LA 43737', 'West Scottland, OH 25204-1523', 'South Anne, NH 48392-1831', 'New Brettside, MD 61704', 'North Kennethton, NH 45233', 'South Chelsea, RI 85200-8345', 'South Angela, LA 23518-9870', 'East Dalton, OR 42003', 'West Michael, NE 23572', 'Leeside, MD 10820-0662', 'Port Bethview, IA 58845', 'Vincentville, ME 10210', 'New Matthew, AR 03859-5547', 'DPO AA 39196-7180', 'West Jennifermouth, WA 94552', 'Vasquezbury, HI 84517', 'West Brooke, GU 62116-4522', 'New Christopher, IL 59664-4530', 'Millerport, AL 21191-6192', 'Floresburgh, WV 75010-7415', 'East Darlene, AL 82461-7228', 'Port Billy, ME 16909', 'New Meganshire, KY 50155', 'Anthonyland, AZ 77516-0465', 'Port Audrey, HI 82392-5376', 'Marshalltown, SC 37598-0862', 'FPO AP 25685-4457', 'Port Charles, NJ 67833', 'West Micheal, WY 72230-4641', 'Turnerton, AR 10936-6251', 'Glennport, NV 51166-5572', 'Estesland, UT 59729', 'Shirleyborough, AK 40270-8587', 'Sharpborough, NE 41950', 'New Cynthiamouth, PA 53151', 'Port Kimberly, MO 60047-2438', 'New Traci, TN 31867', 'DPO AP 02784', 'Lake Jeremy, OH 27354', 'South Christopherside, OK 55747', 'North Megan, ME 65020-9644', 'Jeffreyshire, MS 80188-1082', 'Taylortown, KY 75940', 'Kerrbury, MO 43116', 'Brownburgh, NE 85363-0027', 'Paulport, IL 15870', 'East Sabrina, NH 85828', 'Jameschester, OK 17902-1224', 'New Kristen, MH 98525', 'East Christinafurt, TN 18120', 'Simsport, NH 46352-3446', 'Loriview, HI 24128', 'Santoschester, ND 60980', 'East Donaldfurt, WY 61109', 'Vincentmouth, SC 08622', 'East Catherinefort, KS 94625-0549', 'North Bettymouth, MD 19736-9062', 'North Tiffany, NJ 70036-7419', 'North Derrickmouth, AR 63296-6610', 'Marcuschester, NC 40536', 'Gabrielmouth, MA 63689-4481', 'Lake Savannahfort, ID 71155-2535', 'Tammyburgh, ME 13722-0046', 'East Sharon, CT 86455', 'Brownville, HI 60561', 'Anthonymouth, ND 61886', 'North Shannonside, CA 69975-2764', 'Edwardschester, IL 97095-0081', 'Julieview, MD 19536-5864', 'DPO AP 75022-1625', 'Port Angel, NC 34615-6405', 'Andersonfurt, MT 47363', 'Amandafurt, NV 40043-0962', 'Alecfurt, VI 74108-3548', 'Port Nicholas, WA 94825', 'East Lauren, GA 99732', 'Erinborough, WY 73884', 'North Philip, AK 91611', 'APO AA 82431-2879', 'Gonzalezfort, NJ 86640-8362', 'South Jennifer, FL 24998-9703', 'Ryanstad, WA 53480-7998', 'East Michelle, DE 52994', 'Baldwinfurt, AL 91590', 'Colleenfort, MP 98876-3794', 'Lake Stacy, AL 39607', 'Averyview, VI 87254', 'Josephtown, UT 33216-6985', 'West Teresa, CT 52929', 'Alexhaven, PR 64465-6988', 'Cynthiaville, MP 11833', 'North Carolville, ID 11574-6279', 'Lake Christymouth, NH 10232-4764', 'Lake Samuel, FM 28219', 'APO AA 00593', 'Josephborough, AZ 63374', 'East Richard, GA 41389-2093', 'North Anthony, KS 58656-6462', 'Deanside, AS 09133-3395', 'Edwardsfurt, MS 08007-7411', 'DPO AA 68055-8799', 'Fullermouth, NM 77849-5037', 'Fergusonbury, NE 66468-8725', 'North Thomas, CT 06733', 'Millerton, VA 49706-4944', 'Bernardfort, NV 57316', 'South Stevenfort, DE 22930', 'Port Jesus, MH 86177', 'South Stacie, ID 68079-4583', 'Turnerville, KY 23649-7059', 'New Angelica, TX 28872-3619', 'Valerieport, OR 73046', 'FPO AP 83456', 'Curtistown, NV 66526', 'Taylorport, IA 78709-9311', 'West Joshuastad, KS 10649', 'West Corey, CT 93465-0946', 'West John, AS 52072', 'Shermantown, NY 21419-2702', 'Maynardport, UT 64088-4501', 'Feliciaport, SD 66627-0205', 'Mitchellville, IL 27190', 'FPO AE 62010', 'Davisview, HI 21834', 'West Keith, ID 55946', 'Porterfort, AR 49513', 'East Williamhaven, NM 82488', 'Lake Norma, NY 39300-5661', 'South Patty, GA 56712-6067', 'West Elizabeth, OR 66820-4429', 'West Sherry, AS 56042', 'New John, OK 12145-0369', 'West Vincent, MI 76753', 'Lisaside, OR 02771-3708', 'Barnesland, AR 68228-2219', 'South Anna, AS 81738', 'Walkerland, IL 91921-0710', 'Dawsontown, OR 98005', 'Port Cheryl, PW 45659-8596', 'South Mary, MT 88531-9334', 'South Tonymouth, FL 48934', 'FPO AP 54510-2694', 'Cainport, SD 38872-3317', 'Hollyport, MO 27499-8987', 'Johnsonmouth, TN 97299-3467', 'New Anthony, OK 64180', 'Port Patrick, MP 52706-6844', 'Loriton, AR 40060-3548', 'Lake Carolineview, MP 69605', 'South Kennethberg, WV 16065-7735', 'West Karenborough, UT 43499', 'New Destinymouth, NY 80487', 'Amandaborough, NY 80022-6654', 'DPO AA 20751', 'South Michael, WV 08957', 'Porterberg, WA 51290', 'Cooperside, NE 27187-4331', 'South Robert, AL 88281', 'Johnsonburgh, NC 08665-6370', 'Gomezton, VT 97639', 'East Taylor, PA 69183-0638', 'Port Stephaniestad, WV 75261', 'Conradmouth, GU 27912-1572', 'Haysfurt, MA 85873-8046', 'Knightton, FM 59302', 'West Sarahland, VI 34264', 'Wuberg, UT 21959-4148', 'East Davidshire, MP 06664', 'Simpsonton, GA 11066-6602', 'Port Bradley, CA 84127', 'DPO AE 61896', 'North Taylor, MO 67778-4179', 'Williamfurt, VA 22481', 'South Tanya, VT 23530', 'Davidmouth, TX 36489', 'New Patricia, DE 34344', 'New Keithview, ID 84363', 'Grayhaven, CA 95517', 'West Adrianafurt, VI 59208', 'FPO AP 44353-3930', 'APO AA 12455', 'FPO AP 82345', 'Lake Wesley, MH 27316', 'East Ralph, SD 46562-5210', 'FPO AP 49349', 'South Leah, WA 23138-0463', 'Markport, VA 23752-6240', 'DPO AA 89743-2623', 'New Ashley, WI 68088-6627', 'Port Christy, VT 93436-0859', 'Johnstonton, UT 21645', 'Johnton, AK 63265-5152', 'Bradbury, WV 21515-8372', 'Fryshire, FL 01759', 'West Alanside, MI 87383-7074', 'Wallacestad, AS 03708', 'West Sarah, HI 42537-7513', 'West Brandonton, MN 17565', 'Lake Joseph, ME 51263', 'Lake Williamview, NC 96986', 'Sarahmouth, LA 15657-1057', 'Lake Richard, ME 30453', 'New Juanborough, WA 16975', 'East Nancytown, ND 28683-0813', 'New Yolanda, AL 41789', 'Williamstown, AS 42737', 'APO AP 29055', 'East Tonystad, CT 43809', 'FPO AE 25345', 'FPO AE 65283', 'West Jessicaborough, NM 56114', 'Bobbytown, PA 64157-6346', 'North Jesse, OR 70732', 'Cartermouth, GA 43098', 'FPO AE 19741-4033', 'New Troy, DC 34208-1742', 'Port Sarah, VA 46714', 'North Michelleville, NJ 09884-8923', 'South Morganborough, VI 92622', 'New Victoriaborough, MP 55959-4629', 'Perkinsborough, HI 85367-8516', 'Jennifertown, FM 85603', 'Josephburgh, KS 05423-3806', 'West Mark, NV 55584', 'Carolynmouth, VT 31968', 'FPO AP 44055-1501', 'Lake Carolside, WV 96062', 'Lopezfurt, WA 40057', 'DPO AE 99472-7335', 'South John, FL 35214-9934', 'North David, CO 64016', 'Destinyport, CA 53577-1909', 'Kylemouth, VT 88901', 'Andersonville, TN 88026-0570', 'Dianebury, VA 23245', 'Knightshire, AS 54676-8255', 'FPO AP 30721-1703', 'Simmonsburgh, NV 26301', 'New Michelle, TN 85462-9101', 'Rogersfurt, ME 83230-6957', 'Fryeshire, NY 88462-1008', 'Marctown, MP 65890-2664', 'New Richardburgh, OH 61977-2052', 'East Josephview, MO 51771', 'FPO AP 70992', 'West Joshuachester, CA 31534-8414', 'New Scott, AL 41853', 'West Jamesburgh, MA 97646-2203', 'Paulberg, WA 71154', 'Amytown, WV 47279-7543', 'DPO AE 85222', 'Port Brianland, ID 37750', 'North Amy, NJ 79845', 'Paultown, SC 64653', 'North Kimberlystad, WY 49615-2659', 'South Paulbury, UT 61934', 'New Jamesfurt, NC 57137-7072', 'Nathanfort, NH 34130', 'Jessicamouth, KS 01802-1197', 'DPO AA 17677', 'Angelamouth, WY 22686-9718', 'East Benjaminberg, GU 47205', 'Stewartton, OH 41489-9900', 'Evansborough, FL 16263-5128', 'Benjaminmouth, FM 71795-4614', 'Port Johnview, MA 82008', 'APO AP 22996', 'Lopezchester, NC 08675-3971', 'North Elizabethmouth, RI 11478-9460', 'Leeberg, WA 61075', 'FPO AA 80749', 'East Juanside, SD 05880', 'Ballberg, PW 44138', 'Lake Brettshire, PW 09342-6996', 'Cheyennefurt, ND 59313', 'Lake Curtis, NY 42689-5623', 'West Sarahchester, WV 13513', 'East Bryanbury, MN 53535', 'South Chelsea, IL 61758-7145', 'Mathewstad, IL 13504', 'DPO AE 75985-4473', 'West Kevinberg, IA 73324-3686', 'New Hannahborough, VT 84512', 'APO AA 05378', 'Melodyburgh, AR 33802', 'Porterberg, WY 81823', 'Lindseyton, WA 74817', 'South Lisa, NE 01718-4381', 'Yvonnemouth, VA 10518-4974', 'Crystalbury, OK 56029-6567', 'Port Robert, KY 90147-8962', 'Port Jenniferside, OR 22136-1566', 'North Patrickmouth, UT 91064-8378', 'South Richardport, CO 03903', 'Wardtown, OR 44694', 'Hatfieldview, MD 22733', 'Bankstown, UT 40819', 'APO AA 89981-7749', 'Vasquezton, FL 47149', 'East Heathershire, WA 11989', 'Port Jesseburgh, FM 27308', 'East Sarah, MP 54966-0420', 'Frazierbury, NV 16123', 'Port Amanda, PR 46259', 'Davidview, HI 44093', 'Port Victorside, NH 78659', 'East Erin, FL 62622-4958', 'FPO AA 47429-6537', 'New Mary, MH 35205-2457', 'Jamesside, WV 54275', 'Paulton, GA 56946', 'Anthonyberg, NE 63643', 'DPO AA 09770-7230', 'Jorgebury, MS 26196', 'South Jordanbury, OH 17336', 'South Jodifort, WV 31717-0846', 'New Thomasbury, KY 18631-6214', 'West Theodore, NE 88598-8169', 'Brandonville, KS 01189-6898', 'DPO AP 96821', 'Grayburgh, CT 95202-6505', 'Listad, PR 99664-0344', 'Pettystad, PR 56222', 'Davisfurt, DE 04152', 'Lake Joseph, TN 83192-2232', 'Carrollmouth, VA 28735-6494', 'FPO AA 83492', 'Lake Mark, GU 84861', 'Wolfebury, OR 54163', 'Nicoleberg, FL 09088-9985', 'Maddenton, WV 08558-3008', 'New Williamborough, MN 06880', 'South Kaylaborough, AK 41760', 'Carterchester, WI 06196', 'South Donna, RI 54045-1736', 'South Franklin, PA 11544', 'New Gilbert, FM 03165', 'Lake Amy, PW 64191', 'South Charles, OR 38091-0348', 'Lake Miranda, FL 55744', 'DPO AA 22110-4830', 'DPO AP 59400-8142', 'Hardingmouth, MN 97313-1424', 'FPO AA 18414-6697', 'Moodystad, RI 51788-4199', 'Meadowsmouth, TX 61037-7289', 'New Nicholas, WV 92542', 'Port Maryfort, UT 25152-7291', 'Kevinhaven, TX 51899', 'Susanside, AK 42875-7450', 'Underwoodbury, OH 73036', 'APO AA 73086-0222', 'Christopherland, IL 44788-8245', 'East Michelle, LA 07906-8981', 'Justinfurt, ID 88176', 'APO AE 97253', 'Foxborough, MT 33830', 'Port Robert, KY 19449-4787', 'Priceburgh, IA 07032', 'New David, AS 97086-1735', 'South Barbaramouth, AZ 98406', 'East Kathleen, WV 56246-6708', 'New Dennisstad, CA 86309', 'North Sarah, RI 84479', 'Hendersonland, IL 00112-7975', 'Lake Jonathantown, NM 62508', 'Herreramouth, GU 34932-6800', 'Greeneshire, VT 67668-0305', 'Lewishaven, NC 81679', 'Bensonside, CA 82761', 'FPO AP 81151', 'FPO AE 35347', 'West Josephland, RI 37586-5546', 'Baileyfort, MO 57068', 'Quinnborough, AZ 54522', 'Anneton, MD 97130-3540', 'North Virginia, MI 05865-5923', 'Taylorfort, ND 06249-9518', 'Hardymouth, AK 11574-6906', 'Port Morgan, MS 40046', 'Gordonburgh, AZ 65380', 'East Shannonhaven, ID 39704-4663', 'Singletontown, AS 01030', 'North Anita, FL 02822', 'DPO AP 62975', 'East William, GA 30315-2964', 'FPO AE 46785-9469', 'FPO AE 37951-6327', 'East Roberto, CA 23652-5430', 'Robertmouth, OR 77859', 'Sarahview, NM 42352', 'Johnmouth, WV 45911', 'Mccallmouth, MS 37873-8910', 'Shannonside, PA 98980-9056', 'West Victorchester, TX 85087-6434', 'New Charles, NH 96925', 'Adamborough, FM 43195-6662', 'South Susan, MO 41149-7551', 'Floydchester, MN 54215', 'APO AE 95141', 'Lake Kristinville, WA 74464-4314', 'Port Katherineburgh, IA 85708-6249', 'Lake Mariachester, MD 05009-1830', 'FPO AA 79620-2929', 'Jennifermouth, NJ 82363-0193', 'Kendraberg, OK 79288', 'East Richardshire, VT 43206', 'West Albert, IN 31235', 'Huynhmouth, VI 86964-8089', 'Nashport, VA 34332-6982', 'FPO AE 20733-0244', 'FPO AA 85454-9012', 'Timothymouth, MP 13640', 'East Chaseside, CT 39131', 'Allenstad, OK 68168-8230', 'East Meganton, SD 39173-7869', 'South Bradley, PA 54126', 'Donnaside, NY 82528', 'South Laurie, KS 17387-7716', 'Tatechester, DC 53668-4238', 'Thomasshire, SC 35874', 'APO AA 82056-9434', 'East Derekburgh, MH 12917-2968', 'Angelamouth, MD 51062-2051', 'Lake Timothy, NC 51744', 'Dianaborough, WV 49100', 'Lake Lorifurt, VT 91278', 'New Annettefort, VI 09640-6515', 'Lake Heatherport, NM 29988', 'Port Tiffany, WV 50541-5216', 'South David, ND 24759', 'New Jennifermouth, IA 96522-2177', 'South Mark, CA 60811', 'South Ronald, NC 20408-0652', 'Arnoldfort, TX 11863-1792', 'North Richardtown, NH 89056-7178', 'Phillipchester, NJ 96227-7495', 'West Sandrabury, DE 15884-2997', 'DPO AA 89678', 'FPO AA 22656-4184', 'Crosbymouth, AZ 98409', 'Lake Jenniferport, NV 03109-5173', 'Mcgeeview, NC 63795', 'Coopershire, AZ 02395', 'South Rebeccahaven, AK 73792-2345', 'Floresbury, ID 25268', 'Knightside, IN 13474-9577', 'North Mark, WV 45805', 'Sharonport, DE 91527-7302', 'New Jeffreyside, KS 41326-5833', 'DPO AP 59920', 'APO AA 41788', 'Lake Krystal, MD 82707-2229', 'Sampsonfort, MP 48533', 'Port Marcusshire, ND 91199', 'Debramouth, ID 81085', 'Erinmouth, NC 26418-8921', 'Amyport, GA 05256-5382', 'Shaneberg, DE 57151', 'Ericatown, IL 38240', 'Lake Seanmouth, SC 57286-2829', 'East Anthony, VT 42099-5384', 'Hernandezfort, TX 47559', 'West Sarahport, AS 42200-8404', 'Collinsside, WI 00405', 'Lake Cynthiahaven, LA 24296-0534', 'South Jacquelinefort, IL 99300-9697', 'Tiffanyport, MD 02126-2539', 'Lake Diane, ME 24466', 'Christopherfort, IN 97810', 'North Caseyhaven, PW 83256-4751', 'South David, WV 98357', 'Candiceborough, VI 08135-5978', 'APO AA 21399', 'Lake Chadton, MS 30265', 'West Angela, NC 69190-9430', 'West Barbarafurt, CO 34069-2100', 'Lake Maureen, MA 69401', 'North Sherriville, PR 43609-1989', 'West Kimberlyville, IL 14832-8556', 'East Gregory, NC 40017-4558', 'Lake Ronaldton, WY 85841-8451', 'Lake Natalie, IA 98426-5711', 'Port Katie, AL 25329-3838', 'South Michael, MD 89185', 'APO AA 99193', 'Petershire, RI 54803', 'APO AA 91879', 'Knightville, AS 40866-3655', 'Powersbury, CT 76895', 'Marksshire, DC 08477', 'North Juliachester, TN 06435-8705', 'West Maureen, AS 63430', 'East Vincentfort, OK 02658-2165', 'Zacharyside, IN 81680', 'East Brian, CO 17006-8309', 'Cynthiachester, MS 32127', 'Mcdonaldview, NY 02054-9201', 'Rodriguezbury, OR 73871', 'South Amybury, SD 12696', 'East Ronaldfurt, NY 14992', 'South Miguel, DE 39364-3921', 'Campbellborough, GU 45592-6774', 'East Catherinebury, MP 23625-1906', 'West Kimberlymouth, ME 49723', 'Port Ashleyfort, KS 51871-6439', 'Mccarthyview, GU 74316', 'Jessicatown, CA 28254', 'New Yvettehaven, MN 34295', 'Nunezstad, NM 03601', 'Martinezberg, OH 76148-5909', 'Hallville, NJ 32367-9579', 'Rosariobury, CT 68552-4766', 'Melissamouth, DE 39609-2777', 'West Jimmy, SC 72946', 'Lunamouth, AZ 05121-3634', 'West Cindyborough, WV 82109-6583', 'North Tiffanyhaven, ID 66602-9445', 'APO AP 13017', 'Lake Kevin, FM 72963-8891', 'West Amandaside, SD 71807-8061', 'South Alexis, FM 21016', 'Port Brenda, MO 02292-8651', 'Lake Veronica, IL 04474', 'Amychester, GU 61734-5597', 'DPO AE 80983-8797', 'South Alexstad, IL 42719-2498', 'Nancystad, GA 16579', 'FPO AP 30153-7653', 'APO AA 42991-3352', 'Joshualand, VA 01707-9165', 'FPO AE 73316', 'East Holly, NV 29290-3595']\n"
     ]
    }
   ],
   "source": [
    "a = []\n",
    "for i in df['Address']:\n",
    "    b = i.index('\\n')\n",
    "    a.append(i[b+1:])\n",
    "print(a)"
   ]
  },
  {
   "cell_type": "code",
   "execution_count": 14,
   "id": "c621951f-03e2-4c4e-b1e6-e93e5cc5f049",
   "metadata": {},
   "outputs": [],
   "source": [
    "df.drop('Address',axis=1,inplace=True)"
   ]
  },
  {
   "cell_type": "code",
   "execution_count": 15,
   "id": "83111e59-b497-4c77-9c97-bc9802d43079",
   "metadata": {},
   "outputs": [
    {
     "name": "stderr",
     "output_type": "stream",
     "text": [
      "C:\\Users\\gul\\anaconda3\\lib\\site-packages\\seaborn\\distributions.py:2619: FutureWarning: `distplot` is a deprecated function and will be removed in a future version. Please adapt your code to use either `displot` (a figure-level function with similar flexibility) or `histplot` (an axes-level function for histograms).\n",
      "  warnings.warn(msg, FutureWarning)\n",
      "C:\\Users\\gul\\anaconda3\\lib\\site-packages\\seaborn\\distributions.py:2619: FutureWarning: `distplot` is a deprecated function and will be removed in a future version. Please adapt your code to use either `displot` (a figure-level function with similar flexibility) or `histplot` (an axes-level function for histograms).\n",
      "  warnings.warn(msg, FutureWarning)\n",
      "C:\\Users\\gul\\anaconda3\\lib\\site-packages\\seaborn\\distributions.py:2619: FutureWarning: `distplot` is a deprecated function and will be removed in a future version. Please adapt your code to use either `displot` (a figure-level function with similar flexibility) or `histplot` (an axes-level function for histograms).\n",
      "  warnings.warn(msg, FutureWarning)\n",
      "C:\\Users\\gul\\anaconda3\\lib\\site-packages\\seaborn\\distributions.py:2619: FutureWarning: `distplot` is a deprecated function and will be removed in a future version. Please adapt your code to use either `displot` (a figure-level function with similar flexibility) or `histplot` (an axes-level function for histograms).\n",
      "  warnings.warn(msg, FutureWarning)\n",
      "C:\\Users\\gul\\anaconda3\\lib\\site-packages\\seaborn\\distributions.py:2619: FutureWarning: `distplot` is a deprecated function and will be removed in a future version. Please adapt your code to use either `displot` (a figure-level function with similar flexibility) or `histplot` (an axes-level function for histograms).\n",
      "  warnings.warn(msg, FutureWarning)\n",
      "C:\\Users\\gul\\anaconda3\\lib\\site-packages\\seaborn\\distributions.py:2619: FutureWarning: `distplot` is a deprecated function and will be removed in a future version. Please adapt your code to use either `displot` (a figure-level function with similar flexibility) or `histplot` (an axes-level function for histograms).\n",
      "  warnings.warn(msg, FutureWarning)\n"
     ]
    },
    {
     "data": {
      "image/png": "[encoded data removed]",
      "text/plain": [
       "<Figure size 1080x288 with 1 Axes>"
      ]
     },
     "metadata": {
      "needs_background": "light"
     },
     "output_type": "display_data"
    },
    {
     "data": {
      "image/png": "[encoded data removed]",
      "text/plain": [
       "<Figure size 1080x288 with 1 Axes>"
      ]
     },
     "metadata": {
      "needs_background": "light"
     },
     "output_type": "display_data"
    },
    {
     "data": {
      "image/png": "[encoded data removed]",
      "text/plain": [
       "<Figure size 1080x288 with 1 Axes>"
      ]
     },
     "metadata": {
      "needs_background": "light"
     },
     "output_type": "display_data"
    },
    {
     "data": {
      "image/png": "[encoded data removed]",
      "text/plain": [
       "<Figure size 1080x288 with 1 Axes>"
      ]
     },
     "metadata": {
      "needs_background": "light"
     },
     "output_type": "display_data"
    },
    {
     "data": {
      "image/png": "[encoded data removed]",
      "text/plain": [
       "<Figure size 1080x288 with 1 Axes>"
      ]
     },
     "metadata": {
      "needs_background": "light"
     },
     "output_type": "display_data"
    },
    {
     "data": {
      "image/png": "[encoded data removed]",
      "text/plain": [
       "<Figure size 1080x288 with 1 Axes>"
      ]
     },
     "metadata": {
      "needs_background": "light"
     },
     "output_type": "display_data"
    }
   ],
   "source": [
    "for i in df.columns:\n",
    "    plt.figure(figsize=(15,4))\n",
    "    sns.distplot(df[i])"
   ]
  },
  {
   "cell_type": "code",
   "execution_count": 16,
   "id": "8caf956d-7b26-46ba-8348-f25a23108f55",
   "metadata": {},
   "outputs": [
    {
     "data": {
      "text/plain": [
       "<AxesSubplot:>"
      ]
     },
     "execution_count": 16,
     "metadata": {},
     "output_type": "execute_result"
    },
    {
     "data": {
      "image/png": "[encoded data removed]",
      "text/plain": [
       "<Figure size 432x288 with 2 Axes>"
      ]
     },
     "metadata": {
      "needs_background": "light"
     },
     "output_type": "display_data"
    }
   ],
   "source": [
    "sns.heatmap(df.corr(),annot=True)"
   ]
  },
  {
   "cell_type": "markdown",
   "id": "92984317-e96d-4a0d-96e8-16aef0f938ae",
   "metadata": {},
   "source": [
    "# splitting dataset into  x and y"
   ]
  },
  {
   "cell_type": "code",
   "execution_count": 17,
   "id": "a4074b18-cb01-4956-a034-da88d2ab28e5",
   "metadata": {},
   "outputs": [],
   "source": [
    "x = df.drop('Price',axis=1)\n",
    "y = df['Price']"
   ]
  },
  {
   "cell_type": "markdown",
   "id": "63854d51-45e5-4d4e-a3fe-b071be28f07f",
   "metadata": {},
   "source": [
    "# Train Test split"
   ]
  },
  {
   "cell_type": "code",
   "execution_count": 18,
   "id": "7491f8ba-0b33-4850-8bfb-16a1614ccfc4",
   "metadata": {},
   "outputs": [],
   "source": [
    "from sklearn.model_selection import train_test_split\n",
    "x_train, x_test, y_train, y_test =  train_test_split(x,y, test_size = 0.2, random_state=100)"
   ]
  },
  {
   "cell_type": "code",
   "execution_count": 19,
   "id": "eae674d9-5419-4ac5-b504-5e9d82cf4f3b",
   "metadata": {},
   "outputs": [],
   "source": [
    "from sklearn.preprocessing import StandardScaler \n",
    "scaler = StandardScaler()\n",
    "x_train = scaler.fit_transform(x_train)\n",
    "x_test = scaler.transform(x_test)"
   ]
  },
  {
   "cell_type": "code",
   "execution_count": 20,
   "id": "9651205d-92b3-445d-a1fe-da792ad32400",
   "metadata": {},
   "outputs": [
    {
     "name": "stdout",
     "output_type": "stream",
     "text": [
      "(4000, 5)\n"
     ]
    }
   ],
   "source": [
    "print(x_train.shape)"
   ]
  },
  {
   "cell_type": "code",
   "execution_count": 21,
   "id": "69479b46-5f7d-4510-80bf-18a8fed30c53",
   "metadata": {},
   "outputs": [
    {
     "name": "stdout",
     "output_type": "stream",
     "text": [
      "(4000,)\n"
     ]
    }
   ],
   "source": [
    "print(y_train.shape)"
   ]
  },
  {
   "cell_type": "markdown",
   "id": "4c8eda8f-8049-46f2-9d7a-ff00761df7bf",
   "metadata": {},
   "source": [
    "# Creating Artificial Neural Network"
   ]
  },
  {
   "cell_type": "markdown",
   "id": "172674bc-b07a-4d3c-aa48-4e1ace3a7e65",
   "metadata": {},
   "source": [
    "# Importing Libraries"
   ]
  },
  {
   "cell_type": "code",
   "execution_count": 24,
   "id": "3776c7de-bee0-4e63-abf4-31b63e7f4270",
   "metadata": {},
   "outputs": [],
   "source": [
    "import keras\n",
    "from keras.models import Sequential\n",
    "from keras.layers import Dense"
   ]
  },
  {
   "cell_type": "markdown",
   "id": "428cfbe3-03cd-44ee-9853-be4fb7e3ca67",
   "metadata": {},
   "source": [
    "# Initializing the ANN"
   ]
  },
  {
   "cell_type": "code",
   "execution_count": 26,
   "id": "55a0703c-86e5-4cdd-9c35-eb47639caf41",
   "metadata": {},
   "outputs": [],
   "source": [
    "ann_clf = Sequential()"
   ]
  },
  {
   "cell_type": "markdown",
   "id": "f0a1e671-f401-44aa-bd2b-eba41cd35732",
   "metadata": {},
   "source": [
    "# Adding the input layer and first hidden layer"
   ]
  },
  {
   "cell_type": "code",
   "execution_count": 28,
   "id": "019cf6fd-b682-4ccc-95d3-7425979cdb4a",
   "metadata": {},
   "outputs": [],
   "source": [
    "ann_clf.add(Dense(activation='relu',input_dim = 5, units = 512, kernel_initializer = 'uniform'))"
   ]
  },
  {
   "cell_type": "markdown",
   "id": "d476b54f-363d-4f7f-a814-98f31d61221c",
   "metadata": {},
   "source": [
    "# Second hidden layer"
   ]
  },
  {
   "cell_type": "code",
   "execution_count": 30,
   "id": "0371f0f8-4ef6-4014-a43c-1245a835de35",
   "metadata": {},
   "outputs": [],
   "source": [
    "ann_clf.add(Dense(activation='relu', units = 512, kernel_initializer = 'uniform'))"
   ]
  },
  {
   "cell_type": "markdown",
   "id": "ff1e2cb6-c5cb-4013-a796-75de5b1773a0",
   "metadata": {},
   "source": [
    "# 3rd hidden layer"
   ]
  },
  {
   "cell_type": "code",
   "execution_count": 32,
   "id": "39988f65-7107-48fd-a89b-08ee37116119",
   "metadata": {},
   "outputs": [],
   "source": [
    "ann_clf.add(Dense(activation='relu', units = 256, kernel_initializer = 'uniform'))"
   ]
  },
  {
   "cell_type": "markdown",
   "id": "7f802add-969b-40dd-b0f7-5581874eb5b8",
   "metadata": {},
   "source": [
    "# 4th hidden layer"
   ]
  },
  {
   "cell_type": "code",
   "execution_count": 34,
   "id": "e1fd4cf2-db7b-4bae-88cd-cea94ec305e7",
   "metadata": {},
   "outputs": [],
   "source": [
    "ann_clf.add(Dense(activation='relu', units = 128, kernel_initializer = 'uniform'))"
   ]
  },
  {
   "cell_type": "markdown",
   "id": "eb66e2cc-9c59-438d-9f27-eb8fdaf3c678",
   "metadata": {},
   "source": [
    "# 5th hidden layer"
   ]
  },
  {
   "cell_type": "code",
   "execution_count": 36,
   "id": "85e8db93-34e5-4171-bdcf-2228720a6b5b",
   "metadata": {},
   "outputs": [],
   "source": [
    "ann_clf.add(Dense(activation='relu', units = 64, kernel_initializer = 'uniform'))"
   ]
  },
  {
   "cell_type": "markdown",
   "id": "6b8e585b-e860-4908-882c-426b1ff90162",
   "metadata": {},
   "source": [
    "# 6th hidden layer"
   ]
  },
  {
   "cell_type": "code",
   "execution_count": 38,
   "id": "092d4900-dd1e-4b02-9226-6a9dc88ca7b2",
   "metadata": {},
   "outputs": [],
   "source": [
    "ann_clf.add(Dense(activation='relu', units = 32, kernel_initializer = 'uniform'))"
   ]
  },
  {
   "cell_type": "markdown",
   "id": "ccd9a833-02cb-478b-8286-a33bb72dbbd4",
   "metadata": {},
   "source": [
    "# Adding Output layer"
   ]
  },
  {
   "cell_type": "code",
   "execution_count": 40,
   "id": "6f966b74-51e7-414f-b6ac-a5a7759e2ace",
   "metadata": {},
   "outputs": [],
   "source": [
    "ann_clf.add(Dense(activation = 'relu',units = 1, kernel_initializer = 'uniform'))"
   ]
  },
  {
   "cell_type": "markdown",
   "id": "5f3e705c-49c6-4cc8-9f5c-3c2805372bfa",
   "metadata": {},
   "source": [
    "# compiling the ann"
   ]
  },
  {
   "cell_type": "code",
   "execution_count": 42,
   "id": "9b03537f-bf2d-4f53-9d42-484e55e28540",
   "metadata": {},
   "outputs": [],
   "source": [
    "ann_clf.compile(optimizer = 'adam', loss = 'mse', metrics = ['mae'])"
   ]
  },
  {
   "cell_type": "markdown",
   "id": "96aafd6b-3dd2-49ac-8330-13941d030fd5",
   "metadata": {},
   "source": [
    "# Model Summary"
   ]
  },
  {
   "cell_type": "code",
   "execution_count": 44,
   "id": "8d5b8fb7-ed9f-4df6-bc20-885e269aa6f3",
   "metadata": {},
   "outputs": [
    {
     "name": "stdout",
     "output_type": "stream",
     "text": [
      "Model: \"sequential\"\n",
      "_________________________________________________________________\n",
      " Layer (type)                Output Shape              Param #   \n",
      "=================================================================\n",
      " dense (Dense)               (None, 512)               3072      \n",
      "                                                                 \n",
      " dense_1 (Dense)             (None, 512)               262656    \n",
      "                                                                 \n",
      " dense_2 (Dense)             (None, 256)               131328    \n",
      "                                                                 \n",
      " dense_3 (Dense)             (None, 128)               32896     \n",
      "                                                                 \n",
      " dense_4 (Dense)             (None, 64)                8256      \n",
      "                                                                 \n",
      " dense_5 (Dense)             (None, 32)                2080      \n",
      "                                                                 \n",
      " dense_6 (Dense)             (None, 1)                 33        \n",
      "                                                                 \n",
      "=================================================================\n",
      "Total params: 440,321\n",
      "Trainable params: 440,321\n",
      "Non-trainable params: 0\n",
      "_________________________________________________________________\n"
     ]
    }
   ],
   "source": [
    "ann_clf.summary()"
   ]
  },
  {
   "cell_type": "markdown",
   "id": "9f64be21-9efb-4519-84ec-12c5fd8ff708",
   "metadata": {},
   "source": [
    "# Model Training"
   ]
  },
  {
   "cell_type": "code",
   "execution_count": 46,
   "id": "c9ff31eb-791a-44c4-846a-f402ce6a2f42",
   "metadata": {
    "scrolled": true,
    "tags": []
   },
   "outputs": [
    {
     "name": "stdout",
     "output_type": "stream",
     "text": [
      "Epoch 1/100\n",
      "84/84 [==============================] - 3s 11ms/step - loss: 1513697574912.0000 - mae: 1176854.5000 - val_loss: 366082326528.0000 - val_mae: 570476.1250\n",
      "Epoch 2/100\n",
      "84/84 [==============================] - 1s 8ms/step - loss: 68272640000.0000 - mae: 202223.8750 - val_loss: 38674419712.0000 - val_mae: 158165.7188\n",
      "Epoch 3/100\n",
      "84/84 [==============================] - 1s 8ms/step - loss: 29152075776.0000 - mae: 135387.0469 - val_loss: 24976857088.0000 - val_mae: 125425.9141\n",
      "Epoch 4/100\n",
      "84/84 [==============================] - 1s 9ms/step - loss: 19526111232.0000 - mae: 110249.4453 - val_loss: 18264526848.0000 - val_mae: 105885.3984\n",
      "Epoch 5/100\n",
      "84/84 [==============================] - 1s 8ms/step - loss: 14983158784.0000 - mae: 96286.1250 - val_loss: 14365047808.0000 - val_mae: 94675.7969\n",
      "Epoch 6/100\n",
      "84/84 [==============================] - 1s 10ms/step - loss: 12600652800.0000 - mae: 88942.3125 - val_loss: 12864590848.0000 - val_mae: 90199.6797\n",
      "Epoch 7/100\n",
      "84/84 [==============================] - 1s 9ms/step - loss: 11728545792.0000 - mae: 85987.7109 - val_loss: 12018647040.0000 - val_mae: 87584.0391\n",
      "Epoch 8/100\n",
      "84/84 [==============================] - 1s 9ms/step - loss: 11188441088.0000 - mae: 84360.4531 - val_loss: 11643714560.0000 - val_mae: 86739.3594\n",
      "Epoch 9/100\n",
      "84/84 [==============================] - 1s 8ms/step - loss: 10804146176.0000 - mae: 82724.0859 - val_loss: 11336858624.0000 - val_mae: 85527.1484\n",
      "Epoch 10/100\n",
      "84/84 [==============================] - 1s 10ms/step - loss: 10651766784.0000 - mae: 82935.0859 - val_loss: 11583238144.0000 - val_mae: 86390.0938\n",
      "Epoch 11/100\n",
      "84/84 [==============================] - 1s 8ms/step - loss: 10859639808.0000 - mae: 82938.6328 - val_loss: 11564242944.0000 - val_mae: 86428.7031\n",
      "Epoch 12/100\n",
      "84/84 [==============================] - 1s 8ms/step - loss: 10646096896.0000 - mae: 82598.9844 - val_loss: 11986355200.0000 - val_mae: 87792.8203\n",
      "Epoch 13/100\n",
      "84/84 [==============================] - 1s 8ms/step - loss: 10482096128.0000 - mae: 82225.1172 - val_loss: 11405374464.0000 - val_mae: 86217.8281\n",
      "Epoch 14/100\n",
      "84/84 [==============================] - 1s 8ms/step - loss: 10497091584.0000 - mae: 81952.2656 - val_loss: 11165180928.0000 - val_mae: 85567.8750\n",
      "Epoch 15/100\n",
      "84/84 [==============================] - 1s 9ms/step - loss: 10527303680.0000 - mae: 82472.2812 - val_loss: 10955587584.0000 - val_mae: 84556.0000\n",
      "Epoch 16/100\n",
      "84/84 [==============================] - 1s 8ms/step - loss: 10568448000.0000 - mae: 82364.8906 - val_loss: 10832605184.0000 - val_mae: 84037.5859\n",
      "Epoch 17/100\n",
      "84/84 [==============================] - 1s 8ms/step - loss: 10424683520.0000 - mae: 81922.5547 - val_loss: 11122568192.0000 - val_mae: 85519.1797\n",
      "Epoch 18/100\n",
      "84/84 [==============================] - 1s 8ms/step - loss: 10539414528.0000 - mae: 82305.3203 - val_loss: 11282694144.0000 - val_mae: 86267.8672\n",
      "Epoch 19/100\n",
      "84/84 [==============================] - 1s 8ms/step - loss: 10545114112.0000 - mae: 82380.1875 - val_loss: 10970466304.0000 - val_mae: 84662.8281\n",
      "Epoch 20/100\n",
      "84/84 [==============================] - 1s 10ms/step - loss: 10406653952.0000 - mae: 81416.0391 - val_loss: 11164780544.0000 - val_mae: 84951.0938\n",
      "Epoch 21/100\n",
      "84/84 [==============================] - 1s 8ms/step - loss: 10638220288.0000 - mae: 82582.2031 - val_loss: 11039704064.0000 - val_mae: 84953.4688\n",
      "Epoch 22/100\n",
      "84/84 [==============================] - 1s 9ms/step - loss: 10606595072.0000 - mae: 82293.0859 - val_loss: 11040428032.0000 - val_mae: 84637.2969\n",
      "Epoch 23/100\n",
      "84/84 [==============================] - 1s 9ms/step - loss: 10715321344.0000 - mae: 82995.6094 - val_loss: 10963189760.0000 - val_mae: 84400.1562\n",
      "Epoch 24/100\n",
      "84/84 [==============================] - 1s 8ms/step - loss: 10531169280.0000 - mae: 81973.3438 - val_loss: 11298059264.0000 - val_mae: 85980.1172\n",
      "Epoch 25/100\n",
      "84/84 [==============================] - 1s 8ms/step - loss: 10639898624.0000 - mae: 83068.8203 - val_loss: 10763587584.0000 - val_mae: 83835.8672\n",
      "Epoch 26/100\n",
      "84/84 [==============================] - 1s 8ms/step - loss: 10478675968.0000 - mae: 82168.3516 - val_loss: 10933868544.0000 - val_mae: 84219.0859\n",
      "Epoch 27/100\n",
      "84/84 [==============================] - 1s 8ms/step - loss: 10784089088.0000 - mae: 82643.2578 - val_loss: 11995301888.0000 - val_mae: 87906.3047\n",
      "Epoch 28/100\n",
      "84/84 [==============================] - 1s 9ms/step - loss: 10479038464.0000 - mae: 81911.9141 - val_loss: 10935184384.0000 - val_mae: 84332.5859\n",
      "Epoch 29/100\n",
      "84/84 [==============================] - 1s 9ms/step - loss: 10451705856.0000 - mae: 81902.9766 - val_loss: 10833686528.0000 - val_mae: 84094.4922\n",
      "Epoch 30/100\n",
      "84/84 [==============================] - 1s 10ms/step - loss: 10411247616.0000 - mae: 81766.6641 - val_loss: 12023043072.0000 - val_mae: 88029.4844\n",
      "Epoch 31/100\n",
      "84/84 [==============================] - 1s 9ms/step - loss: 10485361664.0000 - mae: 81872.7891 - val_loss: 11961159680.0000 - val_mae: 87810.8359\n",
      "Epoch 32/100\n",
      "84/84 [==============================] - 1s 9ms/step - loss: 10465830912.0000 - mae: 82120.0625 - val_loss: 10794145792.0000 - val_mae: 84052.8984\n",
      "Epoch 33/100\n",
      "84/84 [==============================] - 1s 9ms/step - loss: 10480982016.0000 - mae: 82075.0859 - val_loss: 11044017152.0000 - val_mae: 84593.4531\n",
      "Epoch 34/100\n",
      "84/84 [==============================] - 1s 8ms/step - loss: 10403311616.0000 - mae: 81470.2891 - val_loss: 10873310208.0000 - val_mae: 84422.1328\n",
      "Epoch 35/100\n",
      "84/84 [==============================] - 1s 8ms/step - loss: 10373778432.0000 - mae: 81519.1484 - val_loss: 10999980032.0000 - val_mae: 85149.1250\n",
      "Epoch 36/100\n",
      "84/84 [==============================] - 1s 8ms/step - loss: 10313998336.0000 - mae: 81801.8750 - val_loss: 11894466560.0000 - val_mae: 88247.8125\n",
      "Epoch 37/100\n",
      "84/84 [==============================] - 1s 8ms/step - loss: 10545643520.0000 - mae: 81982.6484 - val_loss: 10926865408.0000 - val_mae: 84588.0469\n",
      "Epoch 38/100\n",
      "84/84 [==============================] - 1s 8ms/step - loss: 10727648256.0000 - mae: 82797.0234 - val_loss: 10997455872.0000 - val_mae: 85069.1562\n",
      "Epoch 39/100\n",
      "84/84 [==============================] - 1s 8ms/step - loss: 10542993408.0000 - mae: 82338.2734 - val_loss: 11399131136.0000 - val_mae: 85857.9922\n",
      "Epoch 40/100\n",
      "84/84 [==============================] - 1s 8ms/step - loss: 10562930688.0000 - mae: 82414.4766 - val_loss: 11034502144.0000 - val_mae: 84904.3672\n",
      "Epoch 41/100\n",
      "84/84 [==============================] - 1s 8ms/step - loss: 10462693376.0000 - mae: 81921.9375 - val_loss: 10810161152.0000 - val_mae: 84071.5547\n",
      "Epoch 42/100\n",
      "84/84 [==============================] - 1s 8ms/step - loss: 10282523648.0000 - mae: 81342.3125 - val_loss: 11282665472.0000 - val_mae: 86074.0781\n",
      "Epoch 43/100\n",
      "84/84 [==============================] - 1s 8ms/step - loss: 10635460608.0000 - mae: 82737.1250 - val_loss: 11819759616.0000 - val_mae: 87192.5391\n",
      "Epoch 44/100\n",
      "84/84 [==============================] - 1s 9ms/step - loss: 10437741568.0000 - mae: 82272.3750 - val_loss: 11606873088.0000 - val_mae: 87100.6719\n",
      "Epoch 45/100\n",
      "84/84 [==============================] - 1s 9ms/step - loss: 10388998144.0000 - mae: 81851.2734 - val_loss: 11185550336.0000 - val_mae: 85784.9766\n",
      "Epoch 46/100\n",
      "84/84 [==============================] - 1s 10ms/step - loss: 10380812288.0000 - mae: 81654.6719 - val_loss: 10772974592.0000 - val_mae: 84092.7812\n",
      "Epoch 47/100\n",
      "84/84 [==============================] - 1s 9ms/step - loss: 10388314112.0000 - mae: 81608.0938 - val_loss: 11241237504.0000 - val_mae: 85731.5469\n",
      "Epoch 48/100\n",
      "84/84 [==============================] - 1s 9ms/step - loss: 10379644928.0000 - mae: 81923.8125 - val_loss: 11351523328.0000 - val_mae: 85748.2734\n",
      "Epoch 49/100\n",
      "84/84 [==============================] - 1s 9ms/step - loss: 10590075904.0000 - mae: 82381.0938 - val_loss: 11176384512.0000 - val_mae: 85554.2734\n",
      "Epoch 50/100\n",
      "84/84 [==============================] - 1s 8ms/step - loss: 10694415360.0000 - mae: 82935.0703 - val_loss: 11019899904.0000 - val_mae: 84801.0781\n",
      "Epoch 51/100\n",
      "84/84 [==============================] - 1s 9ms/step - loss: 10490068992.0000 - mae: 82290.6016 - val_loss: 12798314496.0000 - val_mae: 90862.8594\n",
      "Epoch 52/100\n",
      "84/84 [==============================] - 1s 9ms/step - loss: 10719774720.0000 - mae: 82931.3672 - val_loss: 12103522304.0000 - val_mae: 88367.5703\n",
      "Epoch 53/100\n",
      "84/84 [==============================] - 1s 9ms/step - loss: 10361838592.0000 - mae: 81395.6172 - val_loss: 11143571456.0000 - val_mae: 85578.0938\n",
      "Epoch 54/100\n",
      "84/84 [==============================] - 1s 8ms/step - loss: 10597011456.0000 - mae: 82705.6797 - val_loss: 12098215936.0000 - val_mae: 88153.1562\n",
      "Epoch 55/100\n",
      "84/84 [==============================] - 1s 9ms/step - loss: 10324350976.0000 - mae: 81470.4922 - val_loss: 11762834432.0000 - val_mae: 87781.9453\n",
      "Epoch 56/100\n",
      "84/84 [==============================] - 1s 9ms/step - loss: 10700977152.0000 - mae: 82692.1172 - val_loss: 12837164032.0000 - val_mae: 90692.4844\n",
      "Epoch 57/100\n",
      "84/84 [==============================] - 1s 9ms/step - loss: 10764520448.0000 - mae: 83003.9922 - val_loss: 11104969728.0000 - val_mae: 84757.3438\n",
      "Epoch 58/100\n",
      "84/84 [==============================] - 1s 9ms/step - loss: 10684369920.0000 - mae: 82885.4922 - val_loss: 11372126208.0000 - val_mae: 86344.5391\n",
      "Epoch 59/100\n",
      "84/84 [==============================] - 1s 9ms/step - loss: 10732796928.0000 - mae: 83574.8672 - val_loss: 11929771008.0000 - val_mae: 88461.9922\n",
      "Epoch 60/100\n",
      "84/84 [==============================] - 1s 9ms/step - loss: 10610973696.0000 - mae: 82660.3203 - val_loss: 10933453824.0000 - val_mae: 84242.1484\n",
      "Epoch 61/100\n",
      "84/84 [==============================] - 1s 9ms/step - loss: 10433419264.0000 - mae: 81841.9766 - val_loss: 11456390144.0000 - val_mae: 86393.2891\n",
      "Epoch 62/100\n",
      "84/84 [==============================] - 1s 8ms/step - loss: 10323215360.0000 - mae: 81081.2188 - val_loss: 10782631936.0000 - val_mae: 84116.1016\n",
      "Epoch 63/100\n",
      "84/84 [==============================] - 1s 8ms/step - loss: 11007370240.0000 - mae: 84027.8906 - val_loss: 11237032960.0000 - val_mae: 85921.5156\n",
      "Epoch 64/100\n",
      "84/84 [==============================] - 1s 8ms/step - loss: 10403154944.0000 - mae: 81949.6953 - val_loss: 11193765888.0000 - val_mae: 85377.1172\n",
      "Epoch 65/100\n",
      "84/84 [==============================] - 1s 9ms/step - loss: 10441508864.0000 - mae: 81939.1641 - val_loss: 11840688128.0000 - val_mae: 87516.2266\n",
      "Epoch 66/100\n",
      "84/84 [==============================] - 1s 9ms/step - loss: 10376310784.0000 - mae: 81435.3672 - val_loss: 11355515904.0000 - val_mae: 85852.4062\n",
      "Epoch 67/100\n",
      "84/84 [==============================] - 1s 9ms/step - loss: 10707665920.0000 - mae: 82805.6250 - val_loss: 11197654016.0000 - val_mae: 85205.3984\n",
      "Epoch 68/100\n",
      "84/84 [==============================] - 1s 8ms/step - loss: 10356075520.0000 - mae: 81626.6719 - val_loss: 12478302208.0000 - val_mae: 90085.1328\n",
      "Epoch 69/100\n",
      "84/84 [==============================] - 1s 9ms/step - loss: 10978126848.0000 - mae: 83447.3203 - val_loss: 10762752000.0000 - val_mae: 84025.1875\n",
      "Epoch 70/100\n",
      "84/84 [==============================] - 1s 9ms/step - loss: 10410391552.0000 - mae: 81748.8203 - val_loss: 11015825408.0000 - val_mae: 84886.6484\n",
      "Epoch 71/100\n",
      "84/84 [==============================] - 1s 9ms/step - loss: 10583660544.0000 - mae: 82739.7344 - val_loss: 11702881280.0000 - val_mae: 87668.6719\n",
      "Epoch 72/100\n",
      "84/84 [==============================] - 1s 8ms/step - loss: 10480199680.0000 - mae: 81802.8984 - val_loss: 11208795136.0000 - val_mae: 85265.8828\n",
      "Epoch 73/100\n",
      "84/84 [==============================] - 1s 8ms/step - loss: 10369903616.0000 - mae: 82015.9219 - val_loss: 11063686144.0000 - val_mae: 85323.0547\n",
      "Epoch 74/100\n",
      "84/84 [==============================] - 1s 8ms/step - loss: 10667937792.0000 - mae: 82941.5000 - val_loss: 11731026944.0000 - val_mae: 87571.3125\n",
      "Epoch 75/100\n",
      "84/84 [==============================] - 1s 8ms/step - loss: 10395012096.0000 - mae: 81746.8203 - val_loss: 11340468224.0000 - val_mae: 86258.6172\n",
      "Epoch 76/100\n",
      "84/84 [==============================] - 1s 8ms/step - loss: 10711289856.0000 - mae: 82903.8906 - val_loss: 13419591680.0000 - val_mae: 92439.4453\n",
      "Epoch 77/100\n",
      "84/84 [==============================] - 1s 9ms/step - loss: 11133697024.0000 - mae: 84547.6797 - val_loss: 10966736896.0000 - val_mae: 84425.1953\n",
      "Epoch 78/100\n",
      "84/84 [==============================] - 1s 8ms/step - loss: 10488115200.0000 - mae: 82167.1641 - val_loss: 11773810688.0000 - val_mae: 87016.4688\n",
      "Epoch 79/100\n",
      "84/84 [==============================] - 1s 9ms/step - loss: 10416251904.0000 - mae: 81761.3594 - val_loss: 11033296896.0000 - val_mae: 84910.1797\n",
      "Epoch 80/100\n",
      "84/84 [==============================] - 1s 9ms/step - loss: 10485087232.0000 - mae: 82011.8359 - val_loss: 12583209984.0000 - val_mae: 90071.7578\n",
      "Epoch 81/100\n",
      "84/84 [==============================] - 1s 9ms/step - loss: 10509591552.0000 - mae: 82096.0234 - val_loss: 10880548864.0000 - val_mae: 84228.9531\n",
      "Epoch 82/100\n",
      "84/84 [==============================] - 1s 8ms/step - loss: 10391416832.0000 - mae: 81855.9766 - val_loss: 11220619264.0000 - val_mae: 85192.3672\n",
      "Epoch 83/100\n",
      "84/84 [==============================] - 1s 8ms/step - loss: 10215598080.0000 - mae: 81165.1641 - val_loss: 11107024896.0000 - val_mae: 84741.8281\n",
      "Epoch 84/100\n",
      "84/84 [==============================] - 1s 8ms/step - loss: 10414311424.0000 - mae: 82059.0859 - val_loss: 12057391104.0000 - val_mae: 87985.3203\n",
      "Epoch 85/100\n",
      "84/84 [==============================] - 1s 9ms/step - loss: 10472781824.0000 - mae: 82120.1797 - val_loss: 11197535232.0000 - val_mae: 85287.7500\n",
      "Epoch 86/100\n",
      "84/84 [==============================] - 1s 9ms/step - loss: 10338392064.0000 - mae: 81368.3906 - val_loss: 11008448512.0000 - val_mae: 84773.4297\n",
      "Epoch 87/100\n",
      "84/84 [==============================] - 1s 9ms/step - loss: 10705489920.0000 - mae: 83050.3750 - val_loss: 10954566656.0000 - val_mae: 84579.5234\n",
      "Epoch 88/100\n",
      "84/84 [==============================] - 1s 10ms/step - loss: 10525469696.0000 - mae: 82181.4375 - val_loss: 11029317632.0000 - val_mae: 84870.9453\n",
      "Epoch 89/100\n",
      "84/84 [==============================] - 1s 9ms/step - loss: 10578089984.0000 - mae: 82521.1172 - val_loss: 11741664256.0000 - val_mae: 87076.0156\n",
      "Epoch 90/100\n",
      "84/84 [==============================] - 1s 9ms/step - loss: 10306810880.0000 - mae: 81253.3984 - val_loss: 10731677696.0000 - val_mae: 83983.5469\n",
      "Epoch 91/100\n",
      "84/84 [==============================] - 1s 9ms/step - loss: 10311599104.0000 - mae: 81297.1562 - val_loss: 10744901632.0000 - val_mae: 83867.7031\n",
      "Epoch 92/100\n",
      "84/84 [==============================] - 1s 8ms/step - loss: 10538166272.0000 - mae: 81764.6250 - val_loss: 11154996224.0000 - val_mae: 85328.7500\n",
      "Epoch 93/100\n",
      "84/84 [==============================] - 1s 9ms/step - loss: 10351945728.0000 - mae: 81636.8047 - val_loss: 10839629824.0000 - val_mae: 84251.6641\n",
      "Epoch 94/100\n",
      "84/84 [==============================] - 1s 9ms/step - loss: 10653757440.0000 - mae: 82566.8750 - val_loss: 10853974016.0000 - val_mae: 84484.5781\n",
      "Epoch 95/100\n",
      "84/84 [==============================] - 1s 10ms/step - loss: 10513414144.0000 - mae: 82222.5938 - val_loss: 10767278080.0000 - val_mae: 84020.7500\n",
      "Epoch 96/100\n",
      "84/84 [==============================] - 1s 9ms/step - loss: 10507996160.0000 - mae: 82389.0625 - val_loss: 11138836480.0000 - val_mae: 84771.3828\n",
      "Epoch 97/100\n",
      "84/84 [==============================] - 1s 10ms/step - loss: 10848912384.0000 - mae: 83866.2344 - val_loss: 13724725248.0000 - val_mae: 94189.9375\n",
      "Epoch 98/100\n",
      "84/84 [==============================] - 1s 9ms/step - loss: 10647888896.0000 - mae: 82698.0469 - val_loss: 11774806016.0000 - val_mae: 87308.4297\n",
      "Epoch 99/100\n",
      "84/84 [==============================] - 1s 9ms/step - loss: 10556358656.0000 - mae: 82372.6484 - val_loss: 12264164352.0000 - val_mae: 89476.0625\n",
      "Epoch 100/100\n",
      "84/84 [==============================] - 1s 9ms/step - loss: 10698100736.0000 - mae: 82784.3438 - val_loss: 10998588416.0000 - val_mae: 85085.1406\n"
     ]
    },
    {
     "data": {
      "text/plain": [
       "<keras.callbacks.History at 0x17fe36779a0>"
      ]
     },
     "execution_count": 46,
     "metadata": {},
     "output_type": "execute_result"
    }
   ],
   "source": [
    "ann_clf.fit(x_train,y_train,validation_split=0.33, batch_size = 32, epochs = 100)"
   ]
  },
  {
   "cell_type": "code",
   "execution_count": 47,
   "id": "db313a00-fdf1-478f-a3a4-74f3b8789b0e",
   "metadata": {},
   "outputs": [
    {
     "name": "stdout",
     "output_type": "stream",
     "text": [
      "32/32 [==============================] - 0s 2ms/step\n"
     ]
    }
   ],
   "source": [
    "y_pred = ann_clf.predict(x_test)"
   ]
  },
  {
   "cell_type": "code",
   "execution_count": 48,
   "id": "539639d8-5193-4cb8-b4b1-23510d5dc577",
   "metadata": {
    "scrolled": true,
    "tags": []
   },
   "outputs": [
    {
     "data": {
      "text/plain": [
       "array([[ 802425.7 ],\n",
       "       [1550333.9 ],\n",
       "       [1304003.6 ],\n",
       "       [1194336.1 ],\n",
       "       [ 943682.4 ],\n",
       "       [1234555.4 ],\n",
       "       [1183478.8 ],\n",
       "       [ 753289.4 ],\n",
       "       [1222864.9 ],\n",
       "       [1539594.6 ],\n",
       "       [1123492.4 ],\n",
       "       [ 974623.25],\n",
       "       [ 959053.5 ],\n",
       "       [1781059.1 ],\n",
       "       [1332902.4 ],\n",
       "       [ 702902.5 ],\n",
       "       [2145015.  ],\n",
       "       [ 907923.6 ],\n",
       "       [1180682.1 ],\n",
       "       [ 786064.1 ],\n",
       "       [ 753726.  ],\n",
       "       [1408899.6 ],\n",
       "       [2027914.4 ],\n",
       "       [1534635.4 ],\n",
       "       [ 700417.9 ],\n",
       "       [1425690.2 ],\n",
       "       [1925712.5 ],\n",
       "       [ 789444.9 ],\n",
       "       [1667842.1 ],\n",
       "       [1018893.8 ],\n",
       "       [1104220.8 ],\n",
       "       [1199631.6 ],\n",
       "       [1215447.1 ],\n",
       "       [1297714.4 ],\n",
       "       [1896408.9 ],\n",
       "       [1683591.9 ],\n",
       "       [1660247.2 ],\n",
       "       [1524999.1 ],\n",
       "       [1116157.9 ],\n",
       "       [ 666910.1 ],\n",
       "       [1621898.1 ],\n",
       "       [1747508.1 ],\n",
       "       [1499142.6 ],\n",
       "       [ 856831.9 ],\n",
       "       [1185653.  ],\n",
       "       [ 927179.4 ],\n",
       "       [1407818.8 ],\n",
       "       [1466341.6 ],\n",
       "       [1769147.4 ],\n",
       "       [1658074.4 ],\n",
       "       [1457611.8 ],\n",
       "       [1131478.9 ],\n",
       "       [1711936.9 ],\n",
       "       [1135363.8 ],\n",
       "       [1833101.4 ],\n",
       "       [ 785165.1 ],\n",
       "       [ 755077.4 ],\n",
       "       [1236179.6 ],\n",
       "       [1329003.4 ],\n",
       "       [1445905.4 ],\n",
       "       [1082186.6 ],\n",
       "       [1278908.9 ],\n",
       "       [1261438.6 ],\n",
       "       [1703569.9 ],\n",
       "       [ 857136.7 ],\n",
       "       [ 759687.5 ],\n",
       "       [ 892679.9 ],\n",
       "       [1171884.5 ],\n",
       "       [ 896282.3 ],\n",
       "       [1743239.5 ],\n",
       "       [1148014.  ],\n",
       "       [ 968209.  ],\n",
       "       [1059516.6 ],\n",
       "       [ 612098.  ],\n",
       "       [ 951432.75],\n",
       "       [1022482.1 ],\n",
       "       [1026101.6 ],\n",
       "       [ 905611.3 ],\n",
       "       [1158606.  ],\n",
       "       [1300635.  ],\n",
       "       [1222901.5 ],\n",
       "       [1342099.4 ],\n",
       "       [1053029.6 ],\n",
       "       [ 863664.6 ],\n",
       "       [1781563.1 ],\n",
       "       [1245697.2 ],\n",
       "       [ 729457.  ],\n",
       "       [1694650.9 ],\n",
       "       [1328018.  ],\n",
       "       [1025871.8 ],\n",
       "       [1083489.4 ],\n",
       "       [ 852075.  ],\n",
       "       [1317263.6 ],\n",
       "       [1318326.9 ],\n",
       "       [1720528.8 ],\n",
       "       [1330865.8 ],\n",
       "       [1103062.4 ],\n",
       "       [1505254.9 ],\n",
       "       [1390750.4 ],\n",
       "       [2216628.2 ],\n",
       "       [1005440.6 ],\n",
       "       [1349497.  ],\n",
       "       [ 742495.44],\n",
       "       [1004011.1 ],\n",
       "       [ 960429.6 ],\n",
       "       [1325750.4 ],\n",
       "       [1385741.4 ],\n",
       "       [1399863.1 ],\n",
       "       [1080176.4 ],\n",
       "       [1499037.4 ],\n",
       "       [ 566202.4 ],\n",
       "       [ 692200.75],\n",
       "       [1407130.9 ],\n",
       "       [1417142.9 ],\n",
       "       [1688156.9 ],\n",
       "       [1353094.4 ],\n",
       "       [1181008.6 ],\n",
       "       [1199700.5 ],\n",
       "       [ 440570.34],\n",
       "       [1094398.1 ],\n",
       "       [ 870845.75],\n",
       "       [1493098.6 ],\n",
       "       [1297761.4 ],\n",
       "       [ 966611.  ],\n",
       "       [ 826500.94],\n",
       "       [1797278.9 ],\n",
       "       [1629111.8 ],\n",
       "       [1128811.1 ],\n",
       "       [ 872924.5 ],\n",
       "       [ 946865.  ],\n",
       "       [1046598.06],\n",
       "       [ 471829.84],\n",
       "       [1635926.5 ],\n",
       "       [1601422.1 ],\n",
       "       [ 856597.  ],\n",
       "       [1726115.1 ],\n",
       "       [ 794904.25],\n",
       "       [1022414.7 ],\n",
       "       [1031063.  ],\n",
       "       [ 904245.  ],\n",
       "       [1064368.9 ],\n",
       "       [1223365.4 ],\n",
       "       [1527765.1 ],\n",
       "       [ 777383.25],\n",
       "       [1495497.6 ],\n",
       "       [1485361.4 ],\n",
       "       [1144520.6 ],\n",
       "       [ 920980.75],\n",
       "       [1021188.1 ],\n",
       "       [1292454.4 ],\n",
       "       [1142399.1 ],\n",
       "       [1161368.6 ],\n",
       "       [1622281.1 ],\n",
       "       [1346957.  ],\n",
       "       [1217445.  ],\n",
       "       [1146065.9 ],\n",
       "       [1589975.4 ],\n",
       "       [ 975165.75],\n",
       "       [ 805714.75],\n",
       "       [1153251.6 ],\n",
       "       [1365730.2 ],\n",
       "       [1042035.25],\n",
       "       [1390737.4 ],\n",
       "       [1835742.9 ],\n",
       "       [1219195.9 ],\n",
       "       [1768387.6 ],\n",
       "       [2103555.  ],\n",
       "       [1042555.6 ],\n",
       "       [2108419.5 ],\n",
       "       [ 828123.6 ],\n",
       "       [1752486.6 ],\n",
       "       [1419083.1 ],\n",
       "       [ 721304.4 ],\n",
       "       [1713632.1 ],\n",
       "       [1251954.2 ],\n",
       "       [1370811.1 ],\n",
       "       [ 786713.6 ],\n",
       "       [1462314.  ],\n",
       "       [1094675.5 ],\n",
       "       [ 797414.8 ],\n",
       "       [1211448.1 ],\n",
       "       [ 803333.8 ],\n",
       "       [1529439.4 ],\n",
       "       [1772446.6 ],\n",
       "       [1466450.  ],\n",
       "       [1404279.6 ],\n",
       "       [1168888.5 ],\n",
       "       [1148607.5 ],\n",
       "       [1295917.1 ],\n",
       "       [1167819.9 ],\n",
       "       [ 790345.  ],\n",
       "       [1260634.5 ],\n",
       "       [1299195.4 ],\n",
       "       [ 522099.4 ],\n",
       "       [1227209.9 ],\n",
       "       [1422752.  ],\n",
       "       [1299953.  ],\n",
       "       [ 739978.06],\n",
       "       [1198156.1 ],\n",
       "       [1278171.1 ],\n",
       "       [1209695.4 ],\n",
       "       [2145536.2 ],\n",
       "       [1202406.1 ],\n",
       "       [1219818.9 ],\n",
       "       [1622730.  ],\n",
       "       [ 968846.9 ],\n",
       "       [1600664.4 ],\n",
       "       [1747072.6 ],\n",
       "       [1369108.6 ],\n",
       "       [1095922.4 ],\n",
       "       [1859186.6 ],\n",
       "       [ 927096.9 ],\n",
       "       [ 937029.06],\n",
       "       [1260219.4 ],\n",
       "       [ 964992.9 ],\n",
       "       [1210516.9 ],\n",
       "       [1193724.1 ],\n",
       "       [1298865.8 ],\n",
       "       [ 830750.25],\n",
       "       [1678526.9 ],\n",
       "       [ 846135.94],\n",
       "       [1014764.5 ],\n",
       "       [1513265.4 ],\n",
       "       [1482472.1 ],\n",
       "       [1254560.1 ],\n",
       "       [1503560.2 ],\n",
       "       [1014548.5 ],\n",
       "       [1474896.1 ],\n",
       "       [1010879.4 ],\n",
       "       [1238664.4 ],\n",
       "       [1243205.6 ],\n",
       "       [1267899.6 ],\n",
       "       [1791292.8 ],\n",
       "       [1065639.9 ],\n",
       "       [1724147.6 ],\n",
       "       [1329593.9 ],\n",
       "       [1380346.4 ],\n",
       "       [1297004.6 ],\n",
       "       [1344862.9 ],\n",
       "       [1118397.1 ],\n",
       "       [1713438.8 ],\n",
       "       [1124422.2 ],\n",
       "       [1466568.9 ],\n",
       "       [1243764.5 ],\n",
       "       [ 531777.4 ],\n",
       "       [1347445.1 ],\n",
       "       [1287881.8 ],\n",
       "       [1303609.4 ],\n",
       "       [ 933130.4 ],\n",
       "       [1469814.9 ],\n",
       "       [ 895540.2 ],\n",
       "       [ 821264.6 ],\n",
       "       [1085524.9 ],\n",
       "       [1348272.1 ],\n",
       "       [1209283.4 ],\n",
       "       [ 930010.1 ],\n",
       "       [1664715.4 ],\n",
       "       [ 938108.5 ],\n",
       "       [ 916149.1 ],\n",
       "       [1101952.  ],\n",
       "       [1292593.9 ],\n",
       "       [1297026.8 ],\n",
       "       [1277394.8 ],\n",
       "       [1000627.25],\n",
       "       [2290925.2 ],\n",
       "       [1109286.4 ],\n",
       "       [1480137.9 ],\n",
       "       [1326271.4 ],\n",
       "       [1740274.4 ],\n",
       "       [1549078.4 ],\n",
       "       [1023676.1 ],\n",
       "       [ 979437.1 ],\n",
       "       [ 957048.3 ],\n",
       "       [ 436655.97],\n",
       "       [1284114.6 ],\n",
       "       [ 791377.9 ],\n",
       "       [1643757.8 ],\n",
       "       [ 993518.25],\n",
       "       [1406425.4 ],\n",
       "       [1226589.4 ],\n",
       "       [1545097.4 ],\n",
       "       [1044196.75],\n",
       "       [1458028.5 ],\n",
       "       [1785778.1 ],\n",
       "       [1268187.6 ],\n",
       "       [1423871.9 ],\n",
       "       [1826517.1 ],\n",
       "       [ 863632.9 ],\n",
       "       [1085556.1 ],\n",
       "       [1271089.6 ],\n",
       "       [1272943.1 ],\n",
       "       [1088792.5 ],\n",
       "       [1553567.1 ],\n",
       "       [1041144.9 ],\n",
       "       [ 791076.9 ],\n",
       "       [ 952723.4 ],\n",
       "       [1457011.  ],\n",
       "       [1035336.1 ],\n",
       "       [1103710.2 ],\n",
       "       [1322555.6 ],\n",
       "       [1065373.5 ],\n",
       "       [1523145.1 ],\n",
       "       [ 970969.  ],\n",
       "       [1206860.4 ],\n",
       "       [1238483.9 ],\n",
       "       [1221369.1 ],\n",
       "       [ 859951.06],\n",
       "       [1802179.4 ],\n",
       "       [ 845971.25],\n",
       "       [1265844.9 ],\n",
       "       [1019966.75],\n",
       "       [1054874.6 ],\n",
       "       [ 641997.5 ],\n",
       "       [1134634.4 ],\n",
       "       [1286853.9 ],\n",
       "       [1503159.6 ],\n",
       "       [1635903.6 ],\n",
       "       [2062317.4 ],\n",
       "       [1203311.4 ],\n",
       "       [1461115.4 ],\n",
       "       [1059534.6 ],\n",
       "       [ 868689.9 ],\n",
       "       [ 907104.9 ],\n",
       "       [1432519.4 ],\n",
       "       [1754166.1 ],\n",
       "       [ 543375.9 ],\n",
       "       [ 773101.6 ],\n",
       "       [1372932.6 ],\n",
       "       [1471267.8 ],\n",
       "       [1108153.6 ],\n",
       "       [1180313.2 ],\n",
       "       [ 813980.  ],\n",
       "       [1533491.1 ],\n",
       "       [1301946.6 ],\n",
       "       [ 908067.25],\n",
       "       [1293783.1 ],\n",
       "       [1443993.9 ],\n",
       "       [1390017.4 ],\n",
       "       [ 972791.1 ],\n",
       "       [1431639.1 ],\n",
       "       [1028218.1 ],\n",
       "       [1182298.9 ],\n",
       "       [1289268.6 ],\n",
       "       [1458373.8 ],\n",
       "       [1356046.4 ],\n",
       "       [ 985259.  ],\n",
       "       [ 995561.5 ],\n",
       "       [1480790.4 ],\n",
       "       [1301537.4 ],\n",
       "       [1846893.4 ],\n",
       "       [2103187.2 ],\n",
       "       [1579272.6 ],\n",
       "       [1809426.4 ],\n",
       "       [1264993.2 ],\n",
       "       [1029397.  ],\n",
       "       [1263533.4 ],\n",
       "       [ 832011.1 ],\n",
       "       [1335402.4 ],\n",
       "       [ 499490.25],\n",
       "       [2068469.9 ],\n",
       "       [ 747629.  ],\n",
       "       [1234539.1 ],\n",
       "       [1072620.5 ],\n",
       "       [1269415.5 ],\n",
       "       [1088831.4 ],\n",
       "       [1261467.9 ],\n",
       "       [1245289.1 ],\n",
       "       [1506811.2 ],\n",
       "       [1181043.1 ],\n",
       "       [1285169.9 ],\n",
       "       [ 917212.9 ],\n",
       "       [1071661.9 ],\n",
       "       [ 985128.6 ],\n",
       "       [ 702813.44],\n",
       "       [ 637250.  ],\n",
       "       [1207890.2 ],\n",
       "       [ 668745.3 ],\n",
       "       [1518875.8 ],\n",
       "       [1568783.6 ],\n",
       "       [ 758754.  ],\n",
       "       [ 520521.62],\n",
       "       [1208006.9 ],\n",
       "       [1207231.4 ],\n",
       "       [1249360.1 ],\n",
       "       [1356672.8 ],\n",
       "       [1417166.  ],\n",
       "       [1204725.6 ],\n",
       "       [1348473.6 ],\n",
       "       [1263032.6 ],\n",
       "       [1322478.9 ],\n",
       "       [1007499.25],\n",
       "       [1181260.2 ],\n",
       "       [1054511.4 ],\n",
       "       [1522564.9 ],\n",
       "       [1318518.4 ],\n",
       "       [ 870824.  ],\n",
       "       [1394282.1 ],\n",
       "       [1803337.1 ],\n",
       "       [ 855328.9 ],\n",
       "       [1149063.8 ],\n",
       "       [1813990.6 ],\n",
       "       [1238848.  ],\n",
       "       [ 761636.6 ],\n",
       "       [1065175.6 ],\n",
       "       [1328094.8 ],\n",
       "       [ 921570.1 ],\n",
       "       [1659920.  ],\n",
       "       [1538594.8 ],\n",
       "       [ 844508.  ],\n",
       "       [1168280.9 ],\n",
       "       [1628463.6 ],\n",
       "       [1384305.  ],\n",
       "       [1446259.4 ],\n",
       "       [1434847.8 ],\n",
       "       [1730571.6 ],\n",
       "       [1503415.4 ],\n",
       "       [1283340.1 ],\n",
       "       [1147198.6 ],\n",
       "       [ 687239.8 ],\n",
       "       [ 848245.25],\n",
       "       [1602507.9 ],\n",
       "       [1830117.6 ],\n",
       "       [1401990.1 ],\n",
       "       [ 846355.5 ],\n",
       "       [1425931.9 ],\n",
       "       [1108502.6 ],\n",
       "       [ 578440.7 ],\n",
       "       [ 951173.1 ],\n",
       "       [1065843.1 ],\n",
       "       [1143138.5 ],\n",
       "       [1392483.8 ],\n",
       "       [1243840.4 ],\n",
       "       [1505737.6 ],\n",
       "       [1477882.4 ],\n",
       "       [1147267.1 ],\n",
       "       [1360211.6 ],\n",
       "       [1451441.6 ],\n",
       "       [1819045.9 ],\n",
       "       [1448228.4 ],\n",
       "       [1008573.9 ],\n",
       "       [1316571.9 ],\n",
       "       [1251790.1 ],\n",
       "       [1368137.4 ],\n",
       "       [1398714.1 ],\n",
       "       [1331371.4 ],\n",
       "       [1517181.6 ],\n",
       "       [ 679078.75],\n",
       "       [1206951.6 ],\n",
       "       [1022134.  ],\n",
       "       [ 815366.6 ],\n",
       "       [1416191.4 ],\n",
       "       [ 706888.25],\n",
       "       [ 984550.1 ],\n",
       "       [1162694.4 ],\n",
       "       [1171056.  ],\n",
       "       [ 570254.5 ],\n",
       "       [1397266.4 ],\n",
       "       [1303482.1 ],\n",
       "       [ 832450.06],\n",
       "       [ 691932.2 ],\n",
       "       [ 868542.1 ],\n",
       "       [1103108.9 ],\n",
       "       [1010279.2 ],\n",
       "       [1156191.4 ],\n",
       "       [1094434.1 ],\n",
       "       [1040603.1 ],\n",
       "       [1054306.6 ],\n",
       "       [1253650.9 ],\n",
       "       [1027541.3 ],\n",
       "       [ 871317.5 ],\n",
       "       [1226837.8 ],\n",
       "       [1339188.6 ],\n",
       "       [1559761.6 ],\n",
       "       [ 749667.5 ],\n",
       "       [1484643.8 ],\n",
       "       [1738178.1 ],\n",
       "       [1275560.1 ],\n",
       "       [1284130.1 ],\n",
       "       [ 523100.72],\n",
       "       [ 886068.75],\n",
       "       [1462618.9 ],\n",
       "       [ 812126.5 ],\n",
       "       [ 408708.03],\n",
       "       [1593609.2 ],\n",
       "       [1406100.8 ],\n",
       "       [1493065.9 ],\n",
       "       [ 667109.25],\n",
       "       [1494105.4 ],\n",
       "       [ 882454.75],\n",
       "       [1308747.4 ],\n",
       "       [ 991255.75],\n",
       "       [1780604.1 ],\n",
       "       [1034870.5 ],\n",
       "       [1280275.4 ],\n",
       "       [1098564.9 ],\n",
       "       [1274308.6 ],\n",
       "       [1083169.6 ],\n",
       "       [1706908.4 ],\n",
       "       [1149120.  ],\n",
       "       [1291889.9 ],\n",
       "       [1037329.25],\n",
       "       [ 942253.75],\n",
       "       [1044557.1 ],\n",
       "       [ 752164.5 ],\n",
       "       [ 822746.  ],\n",
       "       [1351241.5 ],\n",
       "       [1269593.8 ],\n",
       "       [ 894217.75],\n",
       "       [1642868.4 ],\n",
       "       [ 873271.7 ],\n",
       "       [1216569.2 ],\n",
       "       [1711353.9 ],\n",
       "       [1023787.6 ],\n",
       "       [1915593.5 ],\n",
       "       [1500005.8 ],\n",
       "       [1333108.9 ],\n",
       "       [1648506.6 ],\n",
       "       [ 944381.4 ],\n",
       "       [1123236.4 ],\n",
       "       [1030322.  ],\n",
       "       [ 881894.6 ],\n",
       "       [1377864.9 ],\n",
       "       [ 429721.8 ],\n",
       "       [1385390.1 ],\n",
       "       [1147828.9 ],\n",
       "       [1421341.1 ],\n",
       "       [1284924.6 ],\n",
       "       [1857858.5 ],\n",
       "       [1372087.6 ],\n",
       "       [1654839.  ],\n",
       "       [1097888.9 ],\n",
       "       [ 976418.9 ],\n",
       "       [ 620691.4 ],\n",
       "       [1452393.6 ],\n",
       "       [ 673551.8 ],\n",
       "       [1539685.8 ],\n",
       "       [1957984.6 ],\n",
       "       [1715444.4 ],\n",
       "       [1570489.9 ],\n",
       "       [1351869.  ],\n",
       "       [1248744.4 ],\n",
       "       [1525591.1 ],\n",
       "       [1687911.9 ],\n",
       "       [ 977577.6 ],\n",
       "       [1288747.5 ],\n",
       "       [1900129.9 ],\n",
       "       [ 422884.53],\n",
       "       [1595198.6 ],\n",
       "       [ 990193.6 ],\n",
       "       [1073696.4 ],\n",
       "       [ 587881.  ],\n",
       "       [ 924399.4 ],\n",
       "       [1532158.1 ],\n",
       "       [1053921.1 ],\n",
       "       [1781908.9 ],\n",
       "       [ 929396.75],\n",
       "       [1470698.4 ],\n",
       "       [1212640.9 ],\n",
       "       [ 607549.5 ],\n",
       "       [1112051.5 ],\n",
       "       [ 788369.8 ],\n",
       "       [1338306.1 ],\n",
       "       [1089876.4 ],\n",
       "       [1447232.1 ],\n",
       "       [1056879.4 ],\n",
       "       [ 900489.1 ],\n",
       "       [1028956.5 ],\n",
       "       [ 400183.44],\n",
       "       [1509594.6 ],\n",
       "       [1696702.8 ],\n",
       "       [ 834744.94],\n",
       "       [1803093.4 ],\n",
       "       [1270862.6 ],\n",
       "       [1842446.  ],\n",
       "       [1013512.44],\n",
       "       [1588264.9 ],\n",
       "       [ 885455.9 ],\n",
       "       [1889923.  ],\n",
       "       [1394964.1 ],\n",
       "       [1249761.4 ],\n",
       "       [ 810153.4 ],\n",
       "       [1148718.8 ],\n",
       "       [1197864.6 ],\n",
       "       [1247502.  ],\n",
       "       [1355806.4 ],\n",
       "       [1738528.9 ],\n",
       "       [1035960.1 ],\n",
       "       [1429304.4 ],\n",
       "       [ 776772.5 ],\n",
       "       [1321688.  ],\n",
       "       [1261606.9 ],\n",
       "       [1361599.  ],\n",
       "       [1473717.2 ],\n",
       "       [1264239.8 ],\n",
       "       [ 952346.6 ],\n",
       "       [ 882958.9 ],\n",
       "       [1728617.1 ],\n",
       "       [1108075.4 ],\n",
       "       [ 999274.4 ],\n",
       "       [ 976641.94],\n",
       "       [1151895.4 ],\n",
       "       [1253846.4 ],\n",
       "       [1754141.9 ],\n",
       "       [1272770.  ],\n",
       "       [ 942893.75],\n",
       "       [1024853.94],\n",
       "       [1636395.5 ],\n",
       "       [1099500.4 ],\n",
       "       [ 886647.4 ],\n",
       "       [1175880.8 ],\n",
       "       [1200168.  ],\n",
       "       [1840952.6 ],\n",
       "       [1318717.2 ],\n",
       "       [ 916425.9 ],\n",
       "       [1579891.4 ],\n",
       "       [ 909750.6 ],\n",
       "       [ 931895.  ],\n",
       "       [1076458.2 ],\n",
       "       [1171560.9 ],\n",
       "       [1367639.1 ],\n",
       "       [1151229.9 ],\n",
       "       [1186169.4 ],\n",
       "       [1226885.4 ],\n",
       "       [1178713.1 ],\n",
       "       [1465250.4 ],\n",
       "       [ 715683.44],\n",
       "       [1194652.5 ],\n",
       "       [1773638.1 ],\n",
       "       [ 725937.6 ],\n",
       "       [1230659.  ],\n",
       "       [ 846152.  ],\n",
       "       [1935341.4 ],\n",
       "       [ 861743.94],\n",
       "       [1601029.1 ],\n",
       "       [1501696.6 ],\n",
       "       [1129953.  ],\n",
       "       [ 709665.8 ],\n",
       "       [1001098.94],\n",
       "       [1357657.8 ],\n",
       "       [1056005.4 ],\n",
       "       [1344097.2 ],\n",
       "       [1262306.4 ],\n",
       "       [ 969827.75],\n",
       "       [1072124.9 ],\n",
       "       [ 984712.06],\n",
       "       [1738962.9 ],\n",
       "       [ 888159.94],\n",
       "       [ 751747.25],\n",
       "       [1687888.2 ],\n",
       "       [ 910648.56],\n",
       "       [1509386.6 ],\n",
       "       [ 563636.06],\n",
       "       [1306430.9 ],\n",
       "       [1133169.  ],\n",
       "       [ 768592.75],\n",
       "       [ 915289.  ],\n",
       "       [1263855.2 ],\n",
       "       [1438183.1 ],\n",
       "       [1602310.9 ],\n",
       "       [1449273.  ],\n",
       "       [ 636189.1 ],\n",
       "       [ 765794.1 ],\n",
       "       [1321985.1 ],\n",
       "       [1242441.4 ],\n",
       "       [1495238.4 ],\n",
       "       [1453343.6 ],\n",
       "       [1722577.  ],\n",
       "       [ 874423.1 ],\n",
       "       [ 998407.44],\n",
       "       [1221558.9 ],\n",
       "       [ 884734.7 ],\n",
       "       [1532838.4 ],\n",
       "       [1245165.  ],\n",
       "       [1669024.2 ],\n",
       "       [1811322.4 ],\n",
       "       [1048015.25],\n",
       "       [ 978040.5 ],\n",
       "       [1161780.1 ],\n",
       "       [1698087.4 ],\n",
       "       [ 818467.5 ],\n",
       "       [ 940779.3 ],\n",
       "       [1029553.44],\n",
       "       [1107606.1 ],\n",
       "       [1511963.6 ],\n",
       "       [1376979.4 ],\n",
       "       [ 885884.5 ],\n",
       "       [1320415.5 ],\n",
       "       [1229168.  ],\n",
       "       [ 856774.1 ],\n",
       "       [1233327.9 ],\n",
       "       [1033337.9 ],\n",
       "       [ 827181.  ],\n",
       "       [1103825.5 ],\n",
       "       [1482860.1 ],\n",
       "       [1285545.5 ],\n",
       "       [1109106.2 ],\n",
       "       [1050256.9 ],\n",
       "       [1463501.4 ],\n",
       "       [1289125.4 ],\n",
       "       [ 599762.9 ],\n",
       "       [1657183.  ],\n",
       "       [1498849.2 ],\n",
       "       [1295109.6 ],\n",
       "       [1072594.4 ],\n",
       "       [1327033.5 ],\n",
       "       [1326310.8 ],\n",
       "       [ 940037.9 ],\n",
       "       [1221857.1 ],\n",
       "       [1567675.1 ],\n",
       "       [1151515.6 ],\n",
       "       [ 887583.9 ],\n",
       "       [1500468.1 ],\n",
       "       [1038515.8 ],\n",
       "       [1222845.9 ],\n",
       "       [1616581.4 ],\n",
       "       [1699295.2 ],\n",
       "       [1333267.2 ],\n",
       "       [1566732.4 ],\n",
       "       [1289724.9 ],\n",
       "       [1685527.8 ],\n",
       "       [1377314.9 ],\n",
       "       [ 991274.9 ],\n",
       "       [1192223.8 ],\n",
       "       [1432207.9 ],\n",
       "       [ 853219.56],\n",
       "       [1512868.9 ],\n",
       "       [1123577.6 ],\n",
       "       [1282316.9 ],\n",
       "       [ 934081.6 ],\n",
       "       [1506462.9 ],\n",
       "       [1656273.1 ],\n",
       "       [1458248.6 ],\n",
       "       [1207631.  ],\n",
       "       [ 552945.9 ],\n",
       "       [1452808.2 ],\n",
       "       [1538406.1 ],\n",
       "       [1625566.5 ],\n",
       "       [1250726.9 ],\n",
       "       [1391910.4 ],\n",
       "       [1234297.8 ],\n",
       "       [1156596.1 ],\n",
       "       [1546259.1 ],\n",
       "       [ 682568.2 ],\n",
       "       [1805306.5 ],\n",
       "       [1200637.6 ],\n",
       "       [1278733.  ],\n",
       "       [1806575.8 ],\n",
       "       [ 874051.7 ],\n",
       "       [1295699.1 ],\n",
       "       [1100172.6 ],\n",
       "       [1812957.6 ],\n",
       "       [1007040.2 ],\n",
       "       [1403086.6 ],\n",
       "       [ 976671.6 ],\n",
       "       [1977600.8 ],\n",
       "       [1532698.9 ],\n",
       "       [ 765141.  ],\n",
       "       [1511775.6 ],\n",
       "       [1600935.1 ],\n",
       "       [1166430.1 ],\n",
       "       [1273000.8 ],\n",
       "       [1233220.1 ],\n",
       "       [1186815.1 ],\n",
       "       [ 838095.5 ],\n",
       "       [1209783.  ],\n",
       "       [1042768.7 ],\n",
       "       [1277162.9 ],\n",
       "       [1627713.4 ],\n",
       "       [ 962780.1 ],\n",
       "       [ 789384.6 ],\n",
       "       [1116609.9 ],\n",
       "       [ 619222.56],\n",
       "       [1320042.5 ],\n",
       "       [1455631.4 ],\n",
       "       [ 976701.1 ],\n",
       "       [1196374.9 ],\n",
       "       [1909311.9 ],\n",
       "       [ 837787.25],\n",
       "       [ 656980.  ],\n",
       "       [1054628.9 ],\n",
       "       [1127038.6 ],\n",
       "       [1110205.6 ],\n",
       "       [1443222.9 ],\n",
       "       [1188227.6 ],\n",
       "       [1101143.6 ],\n",
       "       [ 968135.25],\n",
       "       [1508012.4 ],\n",
       "       [ 755768.5 ],\n",
       "       [1496023.9 ],\n",
       "       [1420185.6 ],\n",
       "       [1177138.2 ],\n",
       "       [1333261.1 ],\n",
       "       [1392565.1 ],\n",
       "       [1354237.1 ],\n",
       "       [1512764.  ],\n",
       "       [ 876938.1 ],\n",
       "       [1438905.1 ],\n",
       "       [1089185.9 ],\n",
       "       [1498801.1 ],\n",
       "       [1139209.4 ],\n",
       "       [1408077.9 ],\n",
       "       [1970117.9 ],\n",
       "       [1086353.6 ],\n",
       "       [1788838.4 ],\n",
       "       [1244803.5 ],\n",
       "       [1119164.5 ],\n",
       "       [ 432458.66],\n",
       "       [1105818.  ],\n",
       "       [1462664.4 ],\n",
       "       [1326745.6 ],\n",
       "       [ 768355.5 ],\n",
       "       [1028418.75],\n",
       "       [ 914250.44],\n",
       "       [1594751.8 ],\n",
       "       [1233383.6 ],\n",
       "       [1213460.2 ],\n",
       "       [ 733817.56],\n",
       "       [1494286.9 ],\n",
       "       [1694581.  ],\n",
       "       [1077487.8 ],\n",
       "       [ 730379.  ],\n",
       "       [ 754744.25],\n",
       "       [ 957013.75],\n",
       "       [1585393.4 ],\n",
       "       [1060816.2 ],\n",
       "       [1102106.4 ],\n",
       "       [ 976364.3 ],\n",
       "       [ 798752.3 ],\n",
       "       [1209404.1 ],\n",
       "       [ 836726.06],\n",
       "       [ 624311.5 ],\n",
       "       [ 866926.25],\n",
       "       [ 874912.4 ],\n",
       "       [1423275.9 ],\n",
       "       [1008380.  ],\n",
       "       [1325769.9 ],\n",
       "       [ 946532.7 ],\n",
       "       [1604603.1 ],\n",
       "       [ 918230.3 ],\n",
       "       [1221671.6 ],\n",
       "       [1060294.1 ],\n",
       "       [1332844.4 ],\n",
       "       [ 885497.8 ],\n",
       "       [ 746600.7 ],\n",
       "       [ 958271.3 ],\n",
       "       [1372491.1 ],\n",
       "       [1193225.  ],\n",
       "       [1121820.6 ],\n",
       "       [1631056.  ],\n",
       "       [1336167.2 ],\n",
       "       [1226256.4 ],\n",
       "       [1074914.6 ],\n",
       "       [ 755716.44],\n",
       "       [ 988031.56],\n",
       "       [ 814897.6 ],\n",
       "       [1401489.1 ],\n",
       "       [ 961112.44],\n",
       "       [1001004.44],\n",
       "       [ 854802.25],\n",
       "       [1531892.6 ],\n",
       "       [ 668553.06],\n",
       "       [ 982137.4 ],\n",
       "       [1377562.6 ],\n",
       "       [1222345.1 ],\n",
       "       [ 868800.5 ],\n",
       "       [1355139.2 ],\n",
       "       [1122503.6 ],\n",
       "       [1243866.6 ],\n",
       "       [1450342.9 ],\n",
       "       [1425270.6 ],\n",
       "       [1883708.8 ],\n",
       "       [1242003.8 ],\n",
       "       [1587298.6 ],\n",
       "       [ 559589.6 ],\n",
       "       [ 926618.  ],\n",
       "       [1608148.1 ],\n",
       "       [1232712.1 ],\n",
       "       [1057580.  ],\n",
       "       [1228628.4 ],\n",
       "       [1704202.4 ],\n",
       "       [ 913238.75],\n",
       "       [1298141.1 ],\n",
       "       [1105653.1 ],\n",
       "       [ 658649.3 ],\n",
       "       [1622899.1 ],\n",
       "       [1860652.9 ],\n",
       "       [1127622.6 ],\n",
       "       [1202373.1 ],\n",
       "       [1297081.4 ],\n",
       "       [1270726.6 ],\n",
       "       [1244550.4 ],\n",
       "       [1299784.4 ],\n",
       "       [ 732201.3 ],\n",
       "       [ 720034.94],\n",
       "       [1667138.9 ],\n",
       "       [1538556.1 ],\n",
       "       [ 332384.66],\n",
       "       [1751891.8 ],\n",
       "       [1449897.4 ],\n",
       "       [ 797643.75],\n",
       "       [ 681358.75],\n",
       "       [1478000.4 ],\n",
       "       [1526218.2 ],\n",
       "       [1182389.5 ],\n",
       "       [ 932864.44],\n",
       "       [1154400.4 ],\n",
       "       [1101329.5 ],\n",
       "       [1155013.5 ],\n",
       "       [ 865363.6 ],\n",
       "       [1442309.2 ],\n",
       "       [ 814885.44],\n",
       "       [1255629.8 ],\n",
       "       [1255899.1 ],\n",
       "       [1179686.4 ],\n",
       "       [1550897.4 ],\n",
       "       [ 962564.25],\n",
       "       [1686865.2 ],\n",
       "       [1458359.2 ],\n",
       "       [ 771232.6 ],\n",
       "       [ 972370.3 ],\n",
       "       [1530249.2 ],\n",
       "       [ 843982.7 ],\n",
       "       [ 866002.6 ],\n",
       "       [1241132.1 ],\n",
       "       [1349993.6 ],\n",
       "       [1151554.8 ],\n",
       "       [1732153.1 ],\n",
       "       [ 590374.1 ],\n",
       "       [1285762.5 ],\n",
       "       [ 631763.1 ],\n",
       "       [1191117.  ],\n",
       "       [1454905.  ],\n",
       "       [1470454.9 ],\n",
       "       [1410721.4 ],\n",
       "       [ 874754.  ],\n",
       "       [1304316.9 ],\n",
       "       [1288322.1 ],\n",
       "       [ 957437.4 ],\n",
       "       [1061471.5 ],\n",
       "       [1164638.6 ],\n",
       "       [1427967.6 ],\n",
       "       [1293704.2 ],\n",
       "       [ 622245.5 ],\n",
       "       [1006190.75],\n",
       "       [1311528.1 ],\n",
       "       [1565009.1 ],\n",
       "       [ 775444.3 ],\n",
       "       [1155984.5 ],\n",
       "       [ 774043.9 ],\n",
       "       [1084089.9 ],\n",
       "       [ 715213.75],\n",
       "       [1566996.8 ],\n",
       "       [ 869120.4 ],\n",
       "       [1370401.6 ],\n",
       "       [1536242.9 ],\n",
       "       [1846272.1 ],\n",
       "       [1184260.2 ],\n",
       "       [1526176.8 ],\n",
       "       [1144277.1 ],\n",
       "       [1313227.4 ],\n",
       "       [1303750.  ],\n",
       "       [1297080.1 ],\n",
       "       [1648399.4 ],\n",
       "       [1844318.2 ],\n",
       "       [1345528.8 ],\n",
       "       [1924430.4 ],\n",
       "       [1330799.6 ],\n",
       "       [1268597.1 ],\n",
       "       [1040525.44],\n",
       "       [1265659.4 ],\n",
       "       [1335591.2 ],\n",
       "       [1029937.2 ],\n",
       "       [1505711.1 ],\n",
       "       [1199562.1 ],\n",
       "       [1600257.6 ],\n",
       "       [1277652.1 ],\n",
       "       [1362380.2 ],\n",
       "       [2100104.2 ],\n",
       "       [ 589421.9 ],\n",
       "       [1108650.2 ],\n",
       "       [1669562.6 ],\n",
       "       [1407396.5 ],\n",
       "       [1119906.4 ],\n",
       "       [1225028.9 ],\n",
       "       [1389758.9 ],\n",
       "       [1036011.25],\n",
       "       [1436945.6 ],\n",
       "       [1477186.4 ],\n",
       "       [ 399472.25],\n",
       "       [1383405.6 ],\n",
       "       [1268292.9 ],\n",
       "       [1224908.1 ],\n",
       "       [ 535646.75],\n",
       "       [1539138.6 ],\n",
       "       [1119044.9 ],\n",
       "       [1368268.2 ],\n",
       "       [1538545.  ],\n",
       "       [ 350938.38],\n",
       "       [1283706.9 ],\n",
       "       [ 917629.8 ]], dtype=float32)"
      ]
     },
     "execution_count": 48,
     "metadata": {},
     "output_type": "execute_result"
    }
   ],
   "source": [
    "y_pred"
   ]
  },
  {
   "cell_type": "code",
   "execution_count": 49,
   "id": "edad5263-09a8-4e86-af68-1100c07f38fd",
   "metadata": {},
   "outputs": [],
   "source": [
    "# example of calculate the mean squared error\n",
    "from sklearn.metrics import mean_squared_error"
   ]
  },
  {
   "cell_type": "code",
   "execution_count": 50,
   "id": "4af32623-73d8-4eab-b7a4-f2a80ab637fc",
   "metadata": {},
   "outputs": [],
   "source": [
    "errors = mean_squared_error(y_test,y_pred)"
   ]
  },
  {
   "cell_type": "code",
   "execution_count": 51,
   "id": "ce115f83-b170-4103-9d1d-663896010bb9",
   "metadata": {},
   "outputs": [
    {
     "data": {
      "text/plain": [
       "10831531989.916609"
      ]
     },
     "execution_count": 51,
     "metadata": {},
     "output_type": "execute_result"
    }
   ],
   "source": [
    "errors"
   ]
  },
  {
   "cell_type": "code",
   "execution_count": 52,
   "id": "31cbcf7a-2157-4d59-9d35-56a2fcab0a35",
   "metadata": {},
   "outputs": [],
   "source": [
    "import numpy as np"
   ]
  },
  {
   "cell_type": "code",
   "execution_count": 53,
   "id": "1edbd5b3-81c2-4d36-be23-e5c6ab19ad52",
   "metadata": {},
   "outputs": [
    {
     "name": "stdout",
     "output_type": "stream",
     "text": [
      "32/32 [==============================] - 0s 2ms/step\n"
     ]
    }
   ],
   "source": [
    "from sklearn import metrics \n",
    "y_pred = ann_clf.predict(x_test)\n",
    "MAE = metrics.mean_absolute_error(y_test,y_pred)\n",
    "MSE = metrics.mean_squared_error(y_test,y_pred)\n",
    "RMSE = np.sqrt(MSE)\n",
    "R_squared_value = metrics.r2_score(y_test,y_pred)"
   ]
  },
  {
   "cell_type": "code",
   "execution_count": 54,
   "id": "7f5cf599-027f-4fff-bcb0-84ec3ed76076",
   "metadata": {},
   "outputs": [
    {
     "data": {
      "text/plain": [
       "83730.9391474047"
      ]
     },
     "execution_count": 54,
     "metadata": {},
     "output_type": "execute_result"
    }
   ],
   "source": [
    "MAE"
   ]
  },
  {
   "cell_type": "code",
   "execution_count": 55,
   "id": "53044e34-655d-4c01-953d-d19c701ce63b",
   "metadata": {},
   "outputs": [
    {
     "data": {
      "text/plain": [
       "10831531989.916609"
      ]
     },
     "execution_count": 55,
     "metadata": {},
     "output_type": "execute_result"
    }
   ],
   "source": [
    "MSE"
   ]
  },
  {
   "cell_type": "code",
   "execution_count": 56,
   "id": "27a5ccbc-6016-4069-afb2-6d102a32c0bd",
   "metadata": {},
   "outputs": [
    {
     "data": {
      "text/plain": [
       "104074.64623968994"
      ]
     },
     "execution_count": 56,
     "metadata": {},
     "output_type": "execute_result"
    }
   ],
   "source": [
    "RMSE"
   ]
  },
  {
   "cell_type": "code",
   "execution_count": 57,
   "id": "7f72b392-b72a-4e65-be2e-7cbbd1e228e9",
   "metadata": {},
   "outputs": [
    {
     "data": {
      "text/plain": [
       "0.9139196303578123"
      ]
     },
     "execution_count": 57,
     "metadata": {},
     "output_type": "execute_result"
    }
   ],
   "source": [
    "R_squared_value"
   ]
  },
  {
   "cell_type": "code",
   "execution_count": 58,
   "id": "54ef4d58-7e1f-4ff5-8b2c-abce30e45235",
   "metadata": {},
   "outputs": [],
   "source": [
    "P = int(len(df.columns)-1)\n",
    "N = int(len(df))\n",
    "Adj_R_squared_Value =1 - ((1-R_squared_value)*(N - 1)/(N-P-1))"
   ]
  },
  {
   "cell_type": "code",
   "execution_count": 59,
   "id": "e9d44bcd-3b0e-45e3-98ea-71c3984d85fd",
   "metadata": {},
   "outputs": [
    {
     "data": {
      "text/plain": [
       "0.9138334465676219"
      ]
     },
     "execution_count": 59,
     "metadata": {},
     "output_type": "execute_result"
    }
   ],
   "source": [
    "Adj_R_squared_Value"
   ]
  },
  {
   "cell_type": "code",
   "execution_count": 60,
   "id": "076abea7-f973-4305-91a7-c1dcfdd71b4c",
   "metadata": {},
   "outputs": [
    {
     "data": {
      "text/plain": [
       "(1000,)"
      ]
     },
     "execution_count": 60,
     "metadata": {},
     "output_type": "execute_result"
    }
   ],
   "source": [
    "y_test.shape"
   ]
  },
  {
   "cell_type": "code",
   "execution_count": 62,
   "id": "0e592d42-5e86-4e3d-8519-eac20d653e02",
   "metadata": {},
   "outputs": [
    {
     "data": {
      "text/plain": [
       "(1000, 1)"
      ]
     },
     "execution_count": 62,
     "metadata": {},
     "output_type": "execute_result"
    }
   ],
   "source": [
    "y_pred.shape"
   ]
  }
 ],
 "metadata": {
  "kernelspec": {
   "display_name": "Python 3 (ipykernel)",
   "language": "python",
   "name": "python3"
  },
  "language_info": {
   "codemirror_mode": {
    "name": "ipython",
    "version": 3
   },
   "file_extension": ".py",
   "mimetype": "text/x-python",
   "name": "python",
   "nbconvert_exporter": "python",
   "pygments_lexer": "ipython3",
   "version": "3.9.12"
  }
 },
 "nbformat": 4,
 "nbformat_minor": 5
}
